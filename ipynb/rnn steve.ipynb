{
 "cells": [
  {
   "cell_type": "markdown",
   "metadata": {},
   "source": [
    "### Predict next track using RNN from Steve"
   ]
  },
  {
   "cell_type": "code",
   "execution_count": 1,
   "metadata": {},
   "outputs": [],
   "source": [
    "from __future__ import print_function\n",
    "import torch\n",
    "import torch.nn as nn\n",
    "import torch.nn.functional as F\n",
    "import torch.optim as optim"
   ]
  },
  {
   "cell_type": "code",
   "execution_count": 2,
   "metadata": {},
   "outputs": [
    {
     "data": {
      "text/plain": [
       "'0.4.0'"
      ]
     },
     "execution_count": 2,
     "metadata": {},
     "output_type": "execute_result"
    }
   ],
   "source": [
    "torch.__version__"
   ]
  },
  {
   "cell_type": "code",
   "execution_count": 3,
   "metadata": {},
   "outputs": [],
   "source": [
    "from trackml.dataset import load_event\n",
    "from trackml.randomize import shuffle_hits\n",
    "from trackml.score import score_event"
   ]
  },
  {
   "cell_type": "code",
   "execution_count": 4,
   "metadata": {},
   "outputs": [],
   "source": [
    "import os\n",
    "import numpy as np\n",
    "import pandas as pd\n",
    "import glob\n",
    "import math\n",
    "\n",
    "\n",
    "import time\n",
    "from utils import timeSince\n",
    "from tqdm import tqdm"
   ]
  },
  {
   "cell_type": "code",
   "execution_count": 5,
   "metadata": {},
   "outputs": [],
   "source": [
    "\n",
    "import matplotlib.pyplot as plt\n",
    "from mpl_toolkits.mplot3d import Axes3D\n",
    "import seaborn as sns\n",
    "%matplotlib inline\n"
   ]
  },
  {
   "cell_type": "code",
   "execution_count": 6,
   "metadata": {},
   "outputs": [],
   "source": [
    "class HitGausPredictor(nn.Module):\n",
    "    \"\"\"\n",
    "    A PyTorch module for particle track state estimation and hit prediction.\n",
    "\n",
    "    This module is an RNN which takes a sequence of hits and produces a\n",
    "    Gaussian shaped prediction for the location of the next hit.\n",
    "    \"\"\"\n",
    "\n",
    "    def __init__(self, hidden_dim=5, batch_size=64, device=None):\n",
    "        super(HitGausPredictor, self).__init__()\n",
    "        input_dim = 3\n",
    "        output_dim = 2\n",
    "        self.lstm = nn.LSTM(input_dim, hidden_dim, batch_first=True)\n",
    "#         out_size = int(output_dim * (output_dim + 3) / 2)\n",
    "        out_size = 4\n",
    "        self.fc = nn.Linear(hidden_dim, out_size)\n",
    "        self.device = device\n",
    "        self.batch_size = batch_size\n",
    "        \n",
    "\n",
    "    def forward(self, x):\n",
    "        \"\"\"Might want to accept also the radius of the target layer.\"\"\"\n",
    "        input_size = x.size()\n",
    "\n",
    "        # Initialize the LSTM hidden state\n",
    "        h = (torch.zeros(self.lstm.num_layers, self.batch_size, self.lstm.hidden_size, device=self.device),\n",
    "             torch.zeros(self.lstm.num_layers, self.batch_size, self.lstm.hidden_size, device=self.device))\n",
    "        \n",
    "        # Apply the LSTM module\n",
    "        x, h = self.lstm(x, h)\n",
    "        # Squash layer axis into batch axis\n",
    "        x = x.contiguous().view(-1, x.size(-1))\n",
    "\n",
    "        # Apply linear layer\n",
    "        output = self.fc(x)\n",
    "        \n",
    "        # Extract and transform the gaussian parameters\n",
    "        means = output[:, :2]\n",
    "        variances = output[:, 2:4].exp() ## ensure it is positive\n",
    "\n",
    "        # Expand the layer axis again, just for consistency/interpretability\n",
    "        means = means.contiguous().view(self.batch_size, -1, 2)\n",
    "        variances = variances.contiguous().view(self.batch_size, -1, 2)\n",
    "        return means, variances"
   ]
  },
  {
   "cell_type": "code",
   "execution_count": 23,
   "metadata": {},
   "outputs": [],
   "source": [
    "def gaus_llh_loss(outputs, targets):\n",
    "    \"\"\"Custom gaussian log-likelihood loss function\"\"\"\n",
    "    means, covs = outputs\n",
    "    \n",
    "#     means = means_[:, 1:, :]\n",
    "#     covs = covs_[:, 1:, :]\n",
    "        \n",
    "    batches = means.size(0)\n",
    "    hits = means.size(1)\n",
    "    \n",
    "\n",
    "    # Flatten layer axis into batch axis to use batch matrix operations\n",
    "    means = means.contiguous().view(means.size(0)*means.size(1), means.size(2))\n",
    "    covs = covs.contiguous().view(covs.size(0)*covs.size(1), covs.size(2))\n",
    "    targets = targets.contiguous().view(targets.size(0)*targets.size(1),\n",
    "                                        targets.size(2))\n",
    "    \n",
    "\n",
    "#     # Calculate the residual error\n",
    "    res = targets - means\n",
    "    prob = res*res / (2*covs) + covs.log()\n",
    "#     logdet = 2 * torch.logdet(covs)\n",
    "\n",
    "    prob = prob.contiguous().view(batches, hits, -1)\n",
    "\n",
    "    return torch.sum(prob)/batches/hits"
   ]
  },
  {
   "cell_type": "code",
   "execution_count": 8,
   "metadata": {},
   "outputs": [],
   "source": [
    "import pickle\n",
    "track_list_raw = pickle.load(open('ten_hists.npy', 'rb'))"
   ]
  },
  {
   "cell_type": "code",
   "execution_count": 9,
   "metadata": {},
   "outputs": [],
   "source": [
    "for event in track_list_raw:\n",
    "    for tracks in event:\n",
    "        tracks[:, 0] = (tracks[:, 0] - 913.681763)/692.430542 # r\n",
    "        tracks[:, 1] = (tracks[:, 1] - 0.009939)/1.823752     # phi\n",
    "        tracks[:, 2] = (tracks[:, 2] + 2.315056)/1061.912476  # z"
   ]
  },
  {
   "cell_type": "code",
   "execution_count": 10,
   "metadata": {},
   "outputs": [
    {
     "name": "stdout",
     "output_type": "stream",
     "text": [
      "(1594060, 10, 3)\n"
     ]
    }
   ],
   "source": [
    "track_arrays = np.concatenate([np.array(x) for x in track_list_raw])\n",
    "print(track_arrays.shape)"
   ]
  },
  {
   "cell_type": "code",
   "execution_count": 11,
   "metadata": {},
   "outputs": [],
   "source": [
    "total_samples = track_arrays.shape[0]\n",
    "n_training = int(total_samples/2) - 1\n",
    "n_testing = n_training"
   ]
  },
  {
   "cell_type": "code",
   "execution_count": 12,
   "metadata": {},
   "outputs": [
    {
     "data": {
      "text/plain": [
       "(array([4647834., 3057007., 2818995., 1920075., 1563611.,  634856.,\n",
       "         292414.,  280683.,  331239.,  393886.]),\n",
       " array([-1.27412415, -0.82725766, -0.38039117,  0.06647532,  0.51334181,\n",
       "         0.9602083 ,  1.40707479,  1.85394127,  2.30080776,  2.74767425,\n",
       "         3.19454074]),\n",
       " <a list of 10 Patch objects>)"
      ]
     },
     "execution_count": 12,
     "metadata": {},
     "output_type": "execute_result"
    },
    {
     "data": {
      "image/png": "[encoded data removed]",
      "text/plain": [
       "<Figure size 432x288 with 1 Axes>"
      ]
     },
     "metadata": {},
     "output_type": "display_data"
    }
   ],
   "source": [
    "plt.hist(track_arrays[:, :, 0].flatten())"
   ]
  },
  {
   "cell_type": "code",
   "execution_count": 13,
   "metadata": {},
   "outputs": [
    {
     "data": {
      "text/plain": [
       "(array([1556086., 1581389., 1622470., 1592891., 1594513., 1599196.,\n",
       "        1609711., 1625061., 1589822., 1569461.]),\n",
       " array([-1.72804821, -1.38352851, -1.03900881, -0.69448911, -0.34996941,\n",
       "        -0.00544971,  0.33906999,  0.68358968,  1.02810938,  1.37262908,\n",
       "         1.71714878]),\n",
       " <a list of 10 Patch objects>)"
      ]
     },
     "execution_count": 13,
     "metadata": {},
     "output_type": "execute_result"
    },
    {
     "data": {
      "image/png": "[encoded data removed]",
      "text/plain": [
       "<Figure size 432x288 with 1 Axes>"
      ]
     },
     "metadata": {},
     "output_type": "display_data"
    }
   ],
   "source": [
    "plt.hist(track_arrays[:, :, 1].flatten())"
   ]
  },
  {
   "cell_type": "code",
   "execution_count": 14,
   "metadata": {},
   "outputs": [
    {
     "data": {
      "text/plain": [
       "(array([ 352654.,  439244.,  961281., 2167184., 4046045., 3987389.,\n",
       "        2192277.,  970643.,  451412.,  372471.]),\n",
       " array([-2.78100610e+00, -2.22436888e+00, -1.66773167e+00, -1.11109445e+00,\n",
       "        -5.54457235e-01,  2.17998028e-03,  5.58817196e-01,  1.11545441e+00,\n",
       "         1.67209163e+00,  2.22872884e+00,  2.78536606e+00]),\n",
       " <a list of 10 Patch objects>)"
      ]
     },
     "execution_count": 14,
     "metadata": {},
     "output_type": "execute_result"
    },
    {
     "data": {
      "image/png": "[encoded data removed]",
      "text/plain": [
       "<Figure size 432x288 with 1 Axes>"
      ]
     },
     "metadata": {},
     "output_type": "display_data"
    }
   ],
   "source": [
    "plt.hist(track_arrays[:, :, 2].flatten())"
   ]
  },
  {
   "cell_type": "code",
   "execution_count": 15,
   "metadata": {},
   "outputs": [],
   "source": [
    "batch_size = 64"
   ]
  },
  {
   "cell_type": "code",
   "execution_count": 27,
   "metadata": {},
   "outputs": [],
   "source": [
    "from utils import random_choice\n",
    "import random\n",
    "def random_input():\n",
    "    event = random_choice(track_list[0:1000])\n",
    "    rand_start = random.randint(0, len(event)-batch_size-1)\n",
    "    input = np.array(event[rand_start:rand_start+batch_size])\n",
    "    input_t = torch.from_numpy(input)\n",
    "    target_t = torch.from_numpy(input[:, 1:, 1:])\n",
    "    return input_t, target_t"
   ]
  },
  {
   "cell_type": "code",
   "execution_count": 16,
   "metadata": {},
   "outputs": [],
   "source": [
    "model = HitGausPredictor(batch_size=batch_size)\n",
    "optimizer = optim.Adam(model.parameters())"
   ]
  },
  {
   "cell_type": "code",
   "execution_count": 165,
   "metadata": {},
   "outputs": [
    {
     "name": "stdout",
     "output_type": "stream",
     "text": [
      "torch.Size([64, 10, 3])\n"
     ]
    }
   ],
   "source": [
    "input_t = torch.from_numpy(np.array(track_list[0][0:64]))\n",
    "print(input_t.size())\n",
    "output = model(input_t)\n",
    "gaus_llh_loss(output, torch.from_numpy(np.array(track_list[0][0:64])[:, 1:, :2]) )"
   ]
  },
  {
   "cell_type": "code",
   "execution_count": 17,
   "metadata": {},
   "outputs": [],
   "source": [
    "from utils import tunable_parameters"
   ]
  },
  {
   "cell_type": "code",
   "execution_count": 18,
   "metadata": {},
   "outputs": [
    {
     "name": "stdout",
     "output_type": "stream",
     "text": [
      "total tunable parameters: 224\n"
     ]
    }
   ],
   "source": [
    "print('total tunable parameters:', tunable_parameters(model))"
   ]
  },
  {
   "cell_type": "code",
   "execution_count": 19,
   "metadata": {},
   "outputs": [],
   "source": [
    "def train(n_epochs):\n",
    "    loss_train = []\n",
    "#     save_every = int(n_epochs/50)\n",
    "    save_every = 1\n",
    "    for i in tqdm(range(n_epochs)):\n",
    "        \n",
    "        sum_loss = 0.\n",
    "        \n",
    "        nbatches = int(n_training/batch_size)\n",
    "        if i==0:\n",
    "            print(\"number of batches:\", nbatches)\n",
    "        for ibatch in range(nbatches):\n",
    "            start = ibatch*batch_size\n",
    "            end = start + batch_size\n",
    "\n",
    "            input = track_arrays[start:end]\n",
    "            input_t = torch.from_numpy(input[:, :-1, :])\n",
    "            target_t = torch.from_numpy(input[:, 1:, 1:])\n",
    "    \n",
    "        \n",
    "            model.zero_grad()\n",
    "            output_t = model(input_t)\n",
    "            loss = gaus_llh_loss(output_t, target_t)\n",
    "            loss.backward()\n",
    "            optimizer.step()\n",
    "            sum_loss += loss.item()\n",
    "        \n",
    "        if (i % save_every == 0):\n",
    "            loss_train.append(sum_loss/nbatches)\n",
    "    return loss_train"
   ]
  },
  {
   "cell_type": "code",
   "execution_count": null,
   "metadata": {},
   "outputs": [
    {
     "name": "stderr",
     "output_type": "stream",
     "text": [
      "  0%|          | 0/50 [00:00<?, ?it/s]"
     ]
    },
    {
     "name": "stdout",
     "output_type": "stream",
     "text": [
      "number of batches: 12453\n"
     ]
    }
   ],
   "source": [
    "res = train(50)"
   ]
  },
  {
   "cell_type": "code",
   "execution_count": 50,
   "metadata": {},
   "outputs": [
    {
     "data": {
      "text/plain": [
       "[7.558638960839821, 6.439584875375505e-08]"
      ]
     },
     "execution_count": 50,
     "metadata": {},
     "output_type": "execute_result"
    }
   ],
   "source": [
    "res"
   ]
  },
  {
   "cell_type": "code",
   "execution_count": 49,
   "metadata": {
    "scrolled": true
   },
   "outputs": [
    {
     "data": {
      "text/plain": [
       "[<matplotlib.lines.Line2D at 0x2ae935b07eb8>]"
      ]
     },
     "execution_count": 49,
     "metadata": {},
     "output_type": "execute_result"
    },
    {
     "data": {
      "image/png": "[encoded data removed]",
      "text/plain": [
       "<Figure size 432x288 with 1 Axes>"
      ]
     },
     "metadata": {},
     "output_type": "display_data"
    }
   ],
   "source": [
    "plt.plot(np.arange(0, len(res)), res)"
   ]
  },
  {
   "cell_type": "code",
   "execution_count": 51,
   "metadata": {},
   "outputs": [],
   "source": [
    "def cal_res(test_track):\n",
    "    test_t = torch.from_numpy(test_track)\n",
    "    target_t = torch.from_numpy(test_track[:, 1:, 1:])\n",
    "    with torch.no_grad():\n",
    "        means, covs = model(test_t)\n",
    "        means = means[:, 1:, :]\n",
    "        covs = covs[:, 1:, :]\n",
    "        \n",
    "        means = means.contiguous().view(means.size(0)*means.size(1), means.size(2))\n",
    "        covs = covs.contiguous().view(covs.size(0)*covs.size(1), covs.size(2))\n",
    "        target_t = target_t.contiguous().view(target_t.size(0)*target_t.size(1),\n",
    "                                        target_t.size(2))\n",
    "        \n",
    "        res = means - target_t\n",
    "        return res, covs"
   ]
  },
  {
   "cell_type": "code",
   "execution_count": 52,
   "metadata": {},
   "outputs": [],
   "source": [
    "test_t = torch.from_numpy(track_arrays[0:64])"
   ]
  },
  {
   "cell_type": "code",
   "execution_count": 53,
   "metadata": {},
   "outputs": [
    {
     "data": {
      "text/plain": [
       "tensor([[-1.2701, -1.1424, -0.0093],\n",
       "        [-1.2081, -1.1301, -0.0236],\n",
       "        [-1.1392, -1.1152, -0.0394],\n",
       "        [-1.0531, -1.0962, -0.0591],\n",
       "        [-0.9184, -1.0665, -0.0905],\n",
       "        [-0.7677, -1.0334, -0.1253],\n",
       "        [-0.5403, -0.9821, -0.1788],\n",
       "        [-0.2930, -0.9249, -0.2383],\n",
       "        [-0.0574, -0.8675, -0.2939],\n",
       "        [ 0.2695, -0.7842, -0.3807]])"
      ]
     },
     "execution_count": 53,
     "metadata": {},
     "output_type": "execute_result"
    }
   ],
   "source": [
    "test_t[0]"
   ]
  },
  {
   "cell_type": "code",
   "execution_count": 54,
   "metadata": {},
   "outputs": [],
   "source": [
    "with torch.no_grad():\n",
    "    output = model(test_t)"
   ]
  },
  {
   "cell_type": "code",
   "execution_count": 288,
   "metadata": {},
   "outputs": [
    {
     "name": "stdout",
     "output_type": "stream",
     "text": [
      "tensor([[ 1.0592e-02,  4.6782e+02],\n",
      "        [-1.0219e-02,  2.5565e+02],\n",
      "        [-2.0312e-02,  3.9133e+02],\n",
      "        [-2.5424e-02,  5.5890e+02],\n",
      "        [-2.6622e-02,  9.7297e+02],\n",
      "        [-2.7319e-02,  1.2263e+03],\n",
      "        [-2.7553e-02,  1.3074e+03],\n",
      "        [-2.7611e-02,  1.3258e+03],\n",
      "        [-2.7623e-02,  1.3293e+03],\n",
      "        [-2.7626e-02,  1.3299e+03]])\n"
     ]
    }
   ],
   "source": [
    "print(output[0][0])"
   ]
  },
  {
   "cell_type": "code",
   "execution_count": 289,
   "metadata": {},
   "outputs": [
    {
     "name": "stdout",
     "output_type": "stream",
     "text": [
      "tensor(75.6991)\n"
     ]
    }
   ],
   "source": [
    "t_t = torch.from_numpy(np.array(track_list[900][0:64])[:, 1:, 1:])\n",
    "print(gaus_llh_loss(output, t_t))"
   ]
  },
  {
   "cell_type": "code",
   "execution_count": null,
   "metadata": {},
   "outputs": [],
   "source": [
    "print(n)"
   ]
  },
  {
   "cell_type": "code",
   "execution_count": 55,
   "metadata": {},
   "outputs": [],
   "source": [
    "residule, covs = cal_res(np.array(track_list[800][0:64]))"
   ]
  },
  {
   "cell_type": "code",
   "execution_count": 56,
   "metadata": {},
   "outputs": [],
   "source": [
    "res_phi = residule.numpy()[:, 0].reshape(residule.size(0))\n",
    "res_z = residule.numpy()[:, 1].reshape(residule.size(0))"
   ]
  },
  {
   "cell_type": "code",
   "execution_count": 57,
   "metadata": {},
   "outputs": [
    {
     "data": {
      "text/plain": [
       "(array([  3.,   3.,   8., 404., 139.,  11.,   3.,   3.,   1.,   1.]),\n",
       " array([-0.00189257, -0.00136727, -0.00084198, -0.00031668,  0.00020862,\n",
       "         0.00073391,  0.00125921,  0.0017845 ,  0.0023098 ,  0.00283509,\n",
       "         0.00336039]),\n",
       " <a list of 10 Patch objects>)"
      ]
     },
     "execution_count": 57,
     "metadata": {},
     "output_type": "execute_result"
    },
    {
     "data": {
      "image/png": "[encoded data removed]",
      "text/plain": [
       "<Figure size 432x288 with 1 Axes>"
      ]
     },
     "metadata": {},
     "output_type": "display_data"
    }
   ],
   "source": [
    "plt.hist(res_phi)"
   ]
  },
  {
   "cell_type": "code",
   "execution_count": 58,
   "metadata": {},
   "outputs": [
    {
     "data": {
      "text/plain": [
       "(array([  1.,   0.,   2.,   2.,  35., 283., 214.,  34.,   3.,   2.]),\n",
       " array([-5.66482544e-03, -4.70435619e-03, -3.74388695e-03, -2.78341770e-03,\n",
       "        -1.82294846e-03, -8.62479210e-04,  9.79900360e-05,  1.05845928e-03,\n",
       "         2.01892853e-03,  2.97939777e-03,  3.93986702e-03]),\n",
       " <a list of 10 Patch objects>)"
      ]
     },
     "execution_count": 58,
     "metadata": {},
     "output_type": "execute_result"
    },
    {
     "data": {
      "image/png": "[encoded data removed]",
      "text/plain": [
       "<Figure size 432x288 with 1 Axes>"
      ]
     },
     "metadata": {},
     "output_type": "display_data"
    }
   ],
   "source": [
    "plt.hist(res_z)"
   ]
  },
  {
   "cell_type": "code",
   "execution_count": 59,
   "metadata": {},
   "outputs": [
    {
     "name": "stderr",
     "output_type": "stream",
     "text": [
      "/global/project/projectdirs/m1092/xju/miniconda3/envs/py3.6/lib/python3.6/site-packages/matplotlib/axes/_axes.py:6462: UserWarning: The 'normed' kwarg is deprecated, and has been replaced by the 'density' kwarg.\n",
      "  warnings.warn(\"The 'normed' kwarg is deprecated, and has been \"\n",
      "/global/project/projectdirs/m1092/xju/miniconda3/envs/py3.6/lib/python3.6/site-packages/matplotlib/axes/_axes.py:6462: UserWarning: The 'normed' kwarg is deprecated, and has been replaced by the 'density' kwarg.\n",
      "  warnings.warn(\"The 'normed' kwarg is deprecated, and has been \"\n"
     ]
    },
    {
     "data": {
      "text/plain": [
       "<seaborn.axisgrid.JointGrid at 0x2ae93c1264a8>"
      ]
     },
     "execution_count": 59,
     "metadata": {},
     "output_type": "execute_result"
    },
    {
     "data": {
      "image/png": "[encoded data removed]",
      "text/plain": [
       "<Figure size 432x432 with 3 Axes>"
      ]
     },
     "metadata": {},
     "output_type": "display_data"
    }
   ],
   "source": [
    "a = residule.numpy()[:, 1]\n",
    "b = covs.numpy()[:, 1]\n",
    "sns.jointplot(a, b)"
   ]
  },
  {
   "cell_type": "code",
   "execution_count": 60,
   "metadata": {},
   "outputs": [
    {
     "name": "stderr",
     "output_type": "stream",
     "text": [
      "/global/project/projectdirs/m1092/xju/miniconda3/envs/py3.6/lib/python3.6/site-packages/matplotlib/axes/_axes.py:6462: UserWarning: The 'normed' kwarg is deprecated, and has been replaced by the 'density' kwarg.\n",
      "  warnings.warn(\"The 'normed' kwarg is deprecated, and has been \"\n",
      "/global/project/projectdirs/m1092/xju/miniconda3/envs/py3.6/lib/python3.6/site-packages/matplotlib/axes/_axes.py:6462: UserWarning: The 'normed' kwarg is deprecated, and has been replaced by the 'density' kwarg.\n",
      "  warnings.warn(\"The 'normed' kwarg is deprecated, and has been \"\n"
     ]
    },
    {
     "data": {
      "text/plain": [
       "<seaborn.axisgrid.JointGrid at 0x2ae953704588>"
      ]
     },
     "execution_count": 60,
     "metadata": {},
     "output_type": "execute_result"
    },
    {
     "data": {
      "image/png": "[encoded data removed]",
      "text/plain": [
       "<Figure size 432x432 with 3 Axes>"
      ]
     },
     "metadata": {},
     "output_type": "display_data"
    }
   ],
   "source": [
    "a = residule.numpy()[:, 0]\n",
    "b = covs.numpy()[:, 0]\n",
    "sns.jointplot(a, b)"
   ]
  },
  {
   "cell_type": "code",
   "execution_count": 61,
   "metadata": {},
   "outputs": [
    {
     "name": "stdout",
     "output_type": "stream",
     "text": [
      "1594060\n"
     ]
    }
   ],
   "source": [
    "print(total_samples)"
   ]
  },
  {
   "cell_type": "code",
   "execution_count": 62,
   "metadata": {},
   "outputs": [],
   "source": [
    "residule, covs = cal_res(track_arrays[894060:894060+64])"
   ]
  },
  {
   "cell_type": "code",
   "execution_count": 64,
   "metadata": {},
   "outputs": [],
   "source": [
    "res_phi = residule.numpy()[:, 0]\n",
    "res_z = residule.numpy()[:, 1]"
   ]
  },
  {
   "cell_type": "code",
   "execution_count": 70,
   "metadata": {},
   "outputs": [
    {
     "data": {
      "text/plain": [
       "(array([  1.,   2.,  11., 510.,  48.,   2.,   0.,   0.,   0.,   2.]),\n",
       " array([-3.13116689e-05, -2.23488769e-05, -1.33860849e-05, -4.42329292e-06,\n",
       "         4.53949906e-06,  1.35022910e-05,  2.24650830e-05,  3.14278750e-05,\n",
       "         4.03906670e-05,  4.93534590e-05,  5.83162509e-05]),\n",
       " <a list of 10 Patch objects>)"
      ]
     },
     "execution_count": 70,
     "metadata": {},
     "output_type": "execute_result"
    },
    {
     "data": {
      "image/png": "[encoded data removed]",
      "text/plain": [
       "<Figure size 432x288 with 1 Axes>"
      ]
     },
     "metadata": {},
     "output_type": "display_data"
    }
   ],
   "source": [
    "plt.hist(res_phi/covs.numpy()[:, 0])"
   ]
  },
  {
   "cell_type": "code",
   "execution_count": 69,
   "metadata": {},
   "outputs": [
    {
     "data": {
      "text/plain": [
       "(array([  1.,   2.,  43., 502.,  25.,   1.,   0.,   0.,   1.,   1.]),\n",
       " array([-0.00200343, -0.00137917, -0.0007549 , -0.00013064,  0.00049362,\n",
       "         0.00111789,  0.00174215,  0.00236641,  0.00299067,  0.00361494,\n",
       "         0.0042392 ]),\n",
       " <a list of 10 Patch objects>)"
      ]
     },
     "execution_count": 69,
     "metadata": {},
     "output_type": "execute_result"
    },
    {
     "data": {
      "image/png": "[encoded data removed]",
      "text/plain": [
       "<Figure size 432x288 with 1 Axes>"
      ]
     },
     "metadata": {},
     "output_type": "display_data"
    }
   ],
   "source": [
    "plt.hist(res_phi)"
   ]
  },
  {
   "cell_type": "code",
   "execution_count": 66,
   "metadata": {},
   "outputs": [
    {
     "data": {
      "text/plain": [
       "(array([  1.,   0.,   0.,   5., 105., 327., 116.,  18.,   2.,   2.]),\n",
       " array([-0.00486994, -0.00399179, -0.00311365, -0.00223551, -0.00135736,\n",
       "        -0.00047922,  0.00039892,  0.00127707,  0.00215521,  0.00303335,\n",
       "         0.0039115 ]),\n",
       " <a list of 10 Patch objects>)"
      ]
     },
     "execution_count": 66,
     "metadata": {},
     "output_type": "execute_result"
    },
    {
     "data": {
      "image/png": "[encoded data removed]",
      "text/plain": [
       "<Figure size 432x288 with 1 Axes>"
      ]
     },
     "metadata": {},
     "output_type": "display_data"
    }
   ],
   "source": [
    "plt.hist(res_z)"
   ]
  },
  {
   "cell_type": "code",
   "execution_count": 67,
   "metadata": {},
   "outputs": [
    {
     "name": "stderr",
     "output_type": "stream",
     "text": [
      "/global/project/projectdirs/m1092/xju/miniconda3/envs/py3.6/lib/python3.6/site-packages/matplotlib/axes/_axes.py:6462: UserWarning: The 'normed' kwarg is deprecated, and has been replaced by the 'density' kwarg.\n",
      "  warnings.warn(\"The 'normed' kwarg is deprecated, and has been \"\n",
      "/global/project/projectdirs/m1092/xju/miniconda3/envs/py3.6/lib/python3.6/site-packages/matplotlib/axes/_axes.py:6462: UserWarning: The 'normed' kwarg is deprecated, and has been replaced by the 'density' kwarg.\n",
      "  warnings.warn(\"The 'normed' kwarg is deprecated, and has been \"\n"
     ]
    },
    {
     "data": {
      "text/plain": [
       "<seaborn.axisgrid.JointGrid at 0x2ae953d41fd0>"
      ]
     },
     "execution_count": 67,
     "metadata": {},
     "output_type": "execute_result"
    },
    {
     "data": {
      "image/png": "[encoded data removed]",
      "text/plain": [
       "<Figure size 432x432 with 3 Axes>"
      ]
     },
     "metadata": {},
     "output_type": "display_data"
    }
   ],
   "source": [
    "a = residule.numpy()[:, 1]\n",
    "b = covs.numpy()[:, 1]\n",
    "sns.jointplot(a, b)"
   ]
  },
  {
   "cell_type": "code",
   "execution_count": 68,
   "metadata": {},
   "outputs": [
    {
     "name": "stderr",
     "output_type": "stream",
     "text": [
      "/global/project/projectdirs/m1092/xju/miniconda3/envs/py3.6/lib/python3.6/site-packages/matplotlib/axes/_axes.py:6462: UserWarning: The 'normed' kwarg is deprecated, and has been replaced by the 'density' kwarg.\n",
      "  warnings.warn(\"The 'normed' kwarg is deprecated, and has been \"\n",
      "/global/project/projectdirs/m1092/xju/miniconda3/envs/py3.6/lib/python3.6/site-packages/matplotlib/axes/_axes.py:6462: UserWarning: The 'normed' kwarg is deprecated, and has been replaced by the 'density' kwarg.\n",
      "  warnings.warn(\"The 'normed' kwarg is deprecated, and has been \"\n"
     ]
    },
    {
     "data": {
      "text/plain": [
       "<seaborn.axisgrid.JointGrid at 0x2ae9541177f0>"
      ]
     },
     "execution_count": 68,
     "metadata": {},
     "output_type": "execute_result"
    },
    {
     "data": {
      "image/png": "[encoded data removed]",
      "text/plain": [
       "<Figure size 432x432 with 3 Axes>"
      ]
     },
     "metadata": {},
     "output_type": "display_data"
    }
   ],
   "source": [
    "a = residule.numpy()[:, 0]\n",
    "b = covs.numpy()[:, 0]\n",
    "sns.jointplot(a, b)"
   ]
  },
  {
   "cell_type": "code",
   "execution_count": 51,
   "metadata": {},
   "outputs": [],
   "source": [
    "target_t = torch.from_numpy(np.array(track_list[0:64])[:, 1:, :2])"
   ]
  },
  {
   "cell_type": "code",
   "execution_count": 26,
   "metadata": {},
   "outputs": [
    {
     "data": {
      "text/plain": [
       "torch.Size([64, 10, 3])"
      ]
     },
     "execution_count": 26,
     "metadata": {},
     "output_type": "execute_result"
    }
   ],
   "source": [
    "input_t.size()"
   ]
  },
  {
   "cell_type": "code",
   "execution_count": 80,
   "metadata": {},
   "outputs": [
    {
     "data": {
      "text/plain": [
       "torch.Size([64, 9, 2])"
      ]
     },
     "execution_count": 80,
     "metadata": {},
     "output_type": "execute_result"
    }
   ],
   "source": [
    "target_t.size()"
   ]
  },
  {
   "cell_type": "code",
   "execution_count": 32,
   "metadata": {},
   "outputs": [],
   "source": [
    "loss_func = gaus_llh_loss"
   ]
  },
  {
   "cell_type": "code",
   "execution_count": 72,
   "metadata": {},
   "outputs": [
    {
     "name": "stdout",
     "output_type": "stream",
     "text": [
      "torch.Size([64, 10, 2])\n",
      "torch.Size([64, 10, 2, 2])\n"
     ]
    }
   ],
   "source": [
    "model = HitGausPredictor()\n",
    "output = model(input_t)\n",
    "print(output[0].size())\n",
    "print(output[1].size())"
   ]
  },
  {
   "cell_type": "code",
   "execution_count": 78,
   "metadata": {},
   "outputs": [
    {
     "name": "stdout",
     "output_type": "stream",
     "text": [
      "torch.Size([64, 9, 2])\n",
      "torch.Size([64, 9, 2, 2])\n"
     ]
    },
    {
     "data": {
      "text/plain": [
       "tensor(4.9554e+08)"
      ]
     },
     "execution_count": 78,
     "metadata": {},
     "output_type": "execute_result"
    }
   ],
   "source": [
    "gaus_llh_loss(output, target_t)"
   ]
  },
  {
   "cell_type": "code",
   "execution_count": null,
   "metadata": {},
   "outputs": [],
   "source": [
    "particles[particles['nhits'] == 10]"
   ]
  },
  {
   "cell_type": "code",
   "execution_count": 10,
   "metadata": {},
   "outputs": [],
   "source": [
    "hits, cells, particles, truth = load_event(\"input/train_1/event000001000\")"
   ]
  },
  {
   "cell_type": "code",
   "execution_count": 11,
   "metadata": {},
   "outputs": [],
   "source": [
    "from utils import get_features\n",
    "hits_features = get_features(hits)"
   ]
  },
  {
   "cell_type": "code",
   "execution_count": 12,
   "metadata": {},
   "outputs": [
    {
     "data": {
      "text/plain": [
       "count    120939.000000\n",
       "mean          0.009939\n",
       "std           1.823752\n",
       "min          -3.141573\n",
       "25%          -1.572897\n",
       "50%           0.023993\n",
       "75%           1.604743\n",
       "max           3.141564\n",
       "Name: phi, dtype: float64"
      ]
     },
     "execution_count": 12,
     "metadata": {},
     "output_type": "execute_result"
    }
   ],
   "source": [
    "hits_features['phi'].describe()"
   ]
  },
  {
   "cell_type": "code",
   "execution_count": 13,
   "metadata": {},
   "outputs": [
    {
     "data": {
      "text/plain": [
       "count    120939.000000\n",
       "mean         -2.315056\n",
       "std        1061.912476\n",
       "min       -2955.500000\n",
       "25%        -655.799988\n",
       "50%          -1.800000\n",
       "75%         655.799988\n",
       "max        2955.500000\n",
       "Name: z, dtype: float64"
      ]
     },
     "execution_count": 13,
     "metadata": {},
     "output_type": "execute_result"
    }
   ],
   "source": [
    "hits_features['z'].describe()"
   ]
  },
  {
   "cell_type": "code",
   "execution_count": 14,
   "metadata": {},
   "outputs": [
    {
     "data": {
      "text/plain": [
       "count    120939.000000\n",
       "mean        913.681763\n",
       "std         692.430542\n",
       "min          31.440248\n",
       "25%         383.521042\n",
       "50%         818.536621\n",
       "75%        1242.431213\n",
       "max        3125.336670\n",
       "Name: r, dtype: float64"
      ]
     },
     "execution_count": 14,
     "metadata": {},
     "output_type": "execute_result"
    }
   ],
   "source": [
    "hits_features['r'].describe()"
   ]
  },
  {
   "cell_type": "code",
   "execution_count": 16,
   "metadata": {},
   "outputs": [],
   "source": [
    "hits_features['j'] = (hits_features['r'] - 913.681763)/692.430542"
   ]
  },
  {
   "cell_type": "code",
   "execution_count": 17,
   "metadata": {},
   "outputs": [
    {
     "data": {
      "text/plain": [
       "count    1.209390e+05\n",
       "mean     5.652385e-08\n",
       "std      1.000000e+00\n",
       "min     -1.274123e+00\n",
       "25%     -7.656518e-01\n",
       "50%     -1.374075e-01\n",
       "75%      4.747761e-01\n",
       "max      3.194046e+00\n",
       "Name: j, dtype: float64"
      ]
     },
     "execution_count": 17,
     "metadata": {},
     "output_type": "execute_result"
    }
   ],
   "source": [
    "hits_features['j'].describe()"
   ]
  },
  {
   "cell_type": "code",
   "execution_count": 22,
   "metadata": {},
   "outputs": [],
   "source": []
  },
  {
   "cell_type": "code",
   "execution_count": null,
   "metadata": {},
   "outputs": [],
   "source": []
  }
 ],
 "metadata": {
  "kernelspec": {
   "display_name": "Python 3",
   "language": "python",
   "name": "python3"
  },
  "language_info": {
   "codemirror_mode": {
    "name": "ipython",
    "version": 3
   },
   "file_extension": ".py",
   "mimetype": "text/x-python",
   "name": "python",
   "nbconvert_exporter": "python",
   "pygments_lexer": "ipython3",
   "version": "3.6.2"
  }
 },
 "nbformat": 4,
 "nbformat_minor": 2
}
