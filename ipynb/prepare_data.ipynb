{
 "cells": [
  {
   "cell_type": "markdown",
   "metadata": {},
   "source": [
    "### Prepare data for training and save them to disk."
   ]
  },
  {
   "cell_type": "code",
   "execution_count": 1,
   "metadata": {},
   "outputs": [],
   "source": [
    "from trackml.dataset import load_event\n",
    "from trackml.randomize import shuffle_hits\n",
    "from trackml.score import score_event\n",
    "\n",
    "import os\n",
    "import numpy as np\n",
    "import pandas as pd\n",
    "import glob\n",
    "import math"
   ]
  },
  {
   "cell_type": "code",
   "execution_count": 2,
   "metadata": {},
   "outputs": [],
   "source": [
    "from process_data import data_uID"
   ]
  },
  {
   "cell_type": "code",
   "execution_count": 10,
   "metadata": {},
   "outputs": [],
   "source": [
    "path='input/train_1'"
   ]
  },
  {
   "cell_type": "code",
   "execution_count": 4,
   "metadata": {},
   "outputs": [],
   "source": [
    "data = data_uID()"
   ]
  },
  {
   "cell_type": "code",
   "execution_count": 5,
   "metadata": {},
   "outputs": [],
   "source": [
    "def check_files(path):\n",
    "    train = np.unique([p.split('-')[0] for p in sorted(glob.glob(path + '/**'))])\n",
    "    for event in train:\n",
    "        try: \n",
    "            hits, cells, particles, truth = load_event(event)\n",
    "        except:\n",
    "            print(\"reading event:\", event)"
   ]
  },
  {
   "cell_type": "code",
   "execution_count": 6,
   "metadata": {},
   "outputs": [],
   "source": [
    "data.load_training(path='input/train_1', eta_cut=3.5)"
   ]
  },
  {
   "cell_type": "code",
   "execution_count": 10,
   "metadata": {},
   "outputs": [],
   "source": [
    "for key in data.event_list.keys():\n",
    "    post_fix = \".pkl.gz\"\n",
    "    value = data.event_list[key]\n",
    "    value[0].to_pickle(key+\"_filtered_hits\"+post_fix)\n",
    "    value[1].to_pickle(key+\"_filtered_particles\"+post_fix)"
   ]
  },
  {
   "cell_type": "code",
   "execution_count": 12,
   "metadata": {},
   "outputs": [],
   "source": [
    "total_particles = sum(x[0].shape[0] for x in data.event_list.values())\n",
    "total_hits = sum(x[1].shape[0] for x in data.event_list.values())"
   ]
  },
  {
   "cell_type": "code",
   "execution_count": 13,
   "metadata": {},
   "outputs": [
    {
     "name": "stdout",
     "output_type": "stream",
     "text": [
      "18134379\n",
      "1474386\n"
     ]
    }
   ],
   "source": [
    "print(total_particles)\n",
    "print(total_hits)"
   ]
  },
  {
   "cell_type": "code",
   "execution_count": 4,
   "metadata": {},
   "outputs": [],
   "source": [
    "from utils import get_features\n",
    "import pickle\n",
    "def ten_hits_data(path, out_name):\n",
    "    train = np.unique([p.split('-')[0] for p in sorted(glob.glob(path + '/**'))])\n",
    "    event_list = []\n",
    "    for event in train:\n",
    "        try: \n",
    "            hits, cells, particles, truth = load_event(event)\n",
    "            pIDs = particles[particles['nhits'] == 10]['particle_id']\n",
    "            hits_truth = pd.merge(hits, truth, on=['hit_id'])\n",
    "            hits_truth = get_features(hits_truth)\n",
    "            \n",
    "            track_list = []\n",
    "            for pID in pIDs:\n",
    "                if pID == 0:\n",
    "                    continue\n",
    "                this_track = hits_truth[hits_truth['particle_id'] == pID][['r', 'phi', 'z']].values\n",
    "#                 this_track = hits_truth[(hits_truth['particle_id'] == pID) & (hits_truth['eta'] > 1) & (hits_truth['eta'] > -1)][['r', 'phi', 'z']].values\n",
    "                track_list.append(this_track)\n",
    "                \n",
    "            event_list.append(track_list)\n",
    "        except:\n",
    "            print(\"reading event:\", event)\n",
    "            \n",
    "    with open(out_name, 'wb') as fp:\n",
    "        pickle.dump(event_list, fp)\n",
    "    return event_list"
   ]
  },
  {
   "cell_type": "code",
   "execution_count": null,
   "metadata": {},
   "outputs": [],
   "source": [
    "events = ten_hits_data('input/train_1', 'ten_hists.npy')"
   ]
  },
  {
   "cell_type": "code",
   "execution_count": 11,
   "metadata": {},
   "outputs": [],
   "source": [
    "with open('ten_hists.npy', 'wb') as fp:\n",
    "    pickle.dump(events, fp)"
   ]
  },
  {
   "cell_type": "code",
   "execution_count": null,
   "metadata": {},
   "outputs": [],
   "source": [
    "events = ten_hits_data('input/train_1', 'ten_hists_eta_less_1.npy')"
   ]
  },
  {
   "cell_type": "code",
   "execution_count": null,
   "metadata": {},
   "outputs": [],
   "source": [
    "def training_data_with_eta_cut(train_dir='input/train_1', event_prefix=\"event000001000\", eta_cut=3.2):\n",
    "    hits, cells, particles, truth = load_event(os.path.join(train_dir, event_prefix))\n",
    "\n",
    "    hits_features = get_features(hits)\n",
    "#     high_eta_hits = hits_features[(hits_features['eta'] > eta_cut) | (hits_features['eta'] < -1 * eta_cut)]\n",
    "    high_eta_hits = hits_features[(hits_features['eta'] > eta_cut) | (hits_features['eta'] < -1 * eta_cut)]\n",
    "    uID_for_higheta = make_uID(high_eta_hits)\n",
    "    high_eta_hits_uID = pd.merge(high_eta_hits, uID_for_higheta, on=['volume_id', 'layer_id', 'module_id'])\n",
    "    train_data_higheta = high_eta_hits_uID.merge(filter_truth(truth), on='hit_id')[['uID', 'particle_id']]\n",
    "\n",
    "    return train_data_higheta, uID_for_higheta.shape[0]"
   ]
  }
 ],
 "metadata": {
  "kernelspec": {
   "display_name": "Python [default]",
   "language": "python",
   "name": "python3"
  },
  "language_info": {
   "codemirror_mode": {
    "name": "ipython",
    "version": 3
   },
   "file_extension": ".py",
   "mimetype": "text/x-python",
   "name": "python",
   "nbconvert_exporter": "python",
   "pygments_lexer": "ipython3",
   "version": "3.6.1"
  }
 },
 "nbformat": 4,
 "nbformat_minor": 2
}
