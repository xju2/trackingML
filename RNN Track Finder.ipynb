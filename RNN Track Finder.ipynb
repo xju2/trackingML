{
 "cells": [
  {
   "cell_type": "code",
   "execution_count": null,
   "metadata": {},
   "outputs": [],
   "source": [
    "from __future__ import print_function\n",
    "import torch\n",
    "import torch.nn as nn\n",
    "import torch.nn.functional as F\n",
    "import torch.optim as optim"
   ]
  },
  {
   "cell_type": "code",
   "execution_count": null,
   "metadata": {},
   "outputs": [],
   "source": [
    "from trackml.dataset import load_event\n",
    "from trackml.randomize import shuffle_hits\n",
    "from trackml.score import score_event"
   ]
  },
  {
   "cell_type": "code",
   "execution_count": null,
   "metadata": {},
   "outputs": [],
   "source": [
    "import matplotlib.pyplot as plt\n",
    "from mpl_toolkits.mplot3d import Axes3D\n",
    "import seaborn as sns\n",
    "%matplotlib inline"
   ]
  },
  {
   "cell_type": "code",
   "execution_count": null,
   "metadata": {},
   "outputs": [],
   "source": [
    "import os\n",
    "import numpy as np\n",
    "import pandas as pd\n",
    "import glob\n",
    "import math"
   ]
  },
  {
   "cell_type": "code",
   "execution_count": null,
   "metadata": {},
   "outputs": [],
   "source": [
    "from utils import make_uID\n",
    "det = pd.read_csv('input/detectors.csv')\n",
    "det.head()\n",
    "hits_pd = make_uID(det)\n",
    "total_modules = hits_pd.shape[0]\n",
    "print(total_modules)\n",
    "max_nhits = 20"
   ]
  },
  {
   "cell_type": "markdown",
   "metadata": {},
   "source": [
    "### load one event"
   ]
  },
  {
   "cell_type": "code",
   "execution_count": 7,
   "metadata": {},
   "outputs": [],
   "source": [
    "event_prefix = 'event000001000'\n",
    "hits, cells, particles, truth = load_event(os.path.join('input/train_1', event_prefix))"
   ]
  },
  {
   "cell_type": "code",
   "execution_count": 8,
   "metadata": {},
   "outputs": [
    {
     "data": {
      "text/html": [
       "<div>\n",
       "<style scoped>\n",
       "    .dataframe tbody tr th:only-of-type {\n",
       "        vertical-align: middle;\n",
       "    }\n",
       "\n",
       "    .dataframe tbody tr th {\n",
       "        vertical-align: top;\n",
       "    }\n",
       "\n",
       "    .dataframe thead th {\n",
       "        text-align: right;\n",
       "    }\n",
       "</style>\n",
       "<table border=\"1\" class=\"dataframe\">\n",
       "  <thead>\n",
       "    <tr style=\"text-align: right;\">\n",
       "      <th></th>\n",
       "      <th>hit_id</th>\n",
       "      <th>x</th>\n",
       "      <th>y</th>\n",
       "      <th>z</th>\n",
       "      <th>volume_id</th>\n",
       "      <th>layer_id</th>\n",
       "      <th>module_id</th>\n",
       "      <th>uID</th>\n",
       "      <th>x2</th>\n",
       "      <th>y2</th>\n",
       "      <th>z2</th>\n",
       "      <th>r2</th>\n",
       "      <th>r</th>\n",
       "      <th>eta</th>\n",
       "      <th>phi</th>\n",
       "      <th>absZ</th>\n",
       "    </tr>\n",
       "  </thead>\n",
       "  <tbody>\n",
       "    <tr>\n",
       "      <th>0</th>\n",
       "      <td>1</td>\n",
       "      <td>-64.409897</td>\n",
       "      <td>-7.163700</td>\n",
       "      <td>-1502.5</td>\n",
       "      <td>7</td>\n",
       "      <td>2</td>\n",
       "      <td>1</td>\n",
       "      <td>0</td>\n",
       "      <td>-0.042829</td>\n",
       "      <td>-0.004763</td>\n",
       "      <td>-23.184208</td>\n",
       "      <td>64.807045</td>\n",
       "      <td>1503.896973</td>\n",
       "      <td>-3.837108</td>\n",
       "      <td>-3.030827</td>\n",
       "      <td>1502.5</td>\n",
       "    </tr>\n",
       "    <tr>\n",
       "      <th>1</th>\n",
       "      <td>2</td>\n",
       "      <td>-55.336102</td>\n",
       "      <td>0.635342</td>\n",
       "      <td>-1502.5</td>\n",
       "      <td>7</td>\n",
       "      <td>2</td>\n",
       "      <td>1</td>\n",
       "      <td>0</td>\n",
       "      <td>-0.036804</td>\n",
       "      <td>0.000423</td>\n",
       "      <td>-27.150467</td>\n",
       "      <td>55.339748</td>\n",
       "      <td>1503.518799</td>\n",
       "      <td>-3.994889</td>\n",
       "      <td>3.130112</td>\n",
       "      <td>1502.5</td>\n",
       "    </tr>\n",
       "    <tr>\n",
       "      <th>2</th>\n",
       "      <td>3</td>\n",
       "      <td>-83.830498</td>\n",
       "      <td>-1.143010</td>\n",
       "      <td>-1502.5</td>\n",
       "      <td>7</td>\n",
       "      <td>2</td>\n",
       "      <td>1</td>\n",
       "      <td>0</td>\n",
       "      <td>-0.055707</td>\n",
       "      <td>-0.000760</td>\n",
       "      <td>-17.921406</td>\n",
       "      <td>83.838287</td>\n",
       "      <td>1504.837158</td>\n",
       "      <td>-3.579932</td>\n",
       "      <td>-3.127959</td>\n",
       "      <td>1502.5</td>\n",
       "    </tr>\n",
       "    <tr>\n",
       "      <th>3</th>\n",
       "      <td>4</td>\n",
       "      <td>-96.109100</td>\n",
       "      <td>-8.241030</td>\n",
       "      <td>-1502.5</td>\n",
       "      <td>7</td>\n",
       "      <td>2</td>\n",
       "      <td>1</td>\n",
       "      <td>0</td>\n",
       "      <td>-0.063835</td>\n",
       "      <td>-0.005474</td>\n",
       "      <td>-15.576118</td>\n",
       "      <td>96.461777</td>\n",
       "      <td>1505.593262</td>\n",
       "      <td>-3.439919</td>\n",
       "      <td>-3.056055</td>\n",
       "      <td>1502.5</td>\n",
       "    </tr>\n",
       "    <tr>\n",
       "      <th>4</th>\n",
       "      <td>5</td>\n",
       "      <td>-62.673599</td>\n",
       "      <td>-9.371200</td>\n",
       "      <td>-1502.5</td>\n",
       "      <td>7</td>\n",
       "      <td>2</td>\n",
       "      <td>1</td>\n",
       "      <td>0</td>\n",
       "      <td>-0.041676</td>\n",
       "      <td>-0.006232</td>\n",
       "      <td>-23.709833</td>\n",
       "      <td>63.370335</td>\n",
       "      <td>1503.835815</td>\n",
       "      <td>-3.859459</td>\n",
       "      <td>-2.993168</td>\n",
       "      <td>1502.5</td>\n",
       "    </tr>\n",
       "  </tbody>\n",
       "</table>\n",
       "</div>"
      ],
      "text/plain": [
       "   hit_id          x         y       z  volume_id  layer_id  module_id  uID  \\\n",
       "0       1 -64.409897 -7.163700 -1502.5          7         2          1    0   \n",
       "1       2 -55.336102  0.635342 -1502.5          7         2          1    0   \n",
       "2       3 -83.830498 -1.143010 -1502.5          7         2          1    0   \n",
       "3       4 -96.109100 -8.241030 -1502.5          7         2          1    0   \n",
       "4       5 -62.673599 -9.371200 -1502.5          7         2          1    0   \n",
       "\n",
       "         x2        y2         z2         r2            r       eta       phi  \\\n",
       "0 -0.042829 -0.004763 -23.184208  64.807045  1503.896973 -3.837108 -3.030827   \n",
       "1 -0.036804  0.000423 -27.150467  55.339748  1503.518799 -3.994889  3.130112   \n",
       "2 -0.055707 -0.000760 -17.921406  83.838287  1504.837158 -3.579932 -3.127959   \n",
       "3 -0.063835 -0.005474 -15.576118  96.461777  1505.593262 -3.439919 -3.056055   \n",
       "4 -0.041676 -0.006232 -23.709833  63.370335  1503.835815 -3.859459 -2.993168   \n",
       "\n",
       "     absZ  \n",
       "0  1502.5  \n",
       "1  1502.5  \n",
       "2  1502.5  \n",
       "3  1502.5  \n",
       "4  1502.5  "
      ]
     },
     "execution_count": 8,
     "metadata": {},
     "output_type": "execute_result"
    }
   ],
   "source": [
    "hits_with_uID = pd.merge(hits, hits_pd, on=['volume_id', 'layer_id', 'module_id'])\n",
    "from utils import get_features\n",
    "hits_final = get_features(hits_with_uID)\n",
    "hits_final.head()"
   ]
  },
  {
   "cell_type": "code",
   "execution_count": 9,
   "metadata": {},
   "outputs": [],
   "source": [
    "shuffled = shuffle_hits(truth, 0.05) # 5% probability to reassign a hit\n",
    "score = score_event(truth, shuffled)"
   ]
  },
  {
   "cell_type": "code",
   "execution_count": 10,
   "metadata": {},
   "outputs": [
    {
     "name": "stdout",
     "output_type": "stream",
     "text": [
      "0.949480159757\n"
     ]
    }
   ],
   "source": [
    "print(score)"
   ]
  },
  {
   "cell_type": "code",
   "execution_count": 8,
   "metadata": {},
   "outputs": [],
   "source": [
    "filtered_truth = truth[ (truth['weight'] > 5e-7 ) & (truth['particle_id'] != 0) ]\n",
    "training = hits_final.merge(filtered_truth, on='hit_id')[['uID', 'particle_id']]"
   ]
  },
  {
   "cell_type": "code",
   "execution_count": 9,
   "metadata": {},
   "outputs": [
    {
     "name": "stdout",
     "output_type": "stream",
     "text": [
      "total particles: 9292\n"
     ]
    }
   ],
   "source": [
    "truth_particles = pd.Series(np.unique(training['particle_id']))\n",
    "print(\"total particles:\", truth_particles.shape[0])"
   ]
  },
  {
   "cell_type": "code",
   "execution_count": 25,
   "metadata": {},
   "outputs": [
    {
     "name": "stdout",
     "output_type": "stream",
     "text": [
      "1770\n"
     ]
    }
   ],
   "source": [
    "\n",
    "print(len(train))"
   ]
  },
  {
   "cell_type": "code",
   "execution_count": 35,
   "metadata": {},
   "outputs": [],
   "source": [
    "def load_training():\n",
    "    train = np.unique([p.split('-')[0] for p in sorted(glob.glob('input/train_1/**'))])\n",
    "    training_df = []\n",
    "    for ds_name in train:\n",
    "        hits, truth = load_event(ds_name, parts=['hits', 'truth'])\n",
    "        hits_with_uID = pd.merge(hits, hits_pd, on=['volume_id', 'layer_id', 'module_id'])\n",
    "        filtered_truth = truth[ (truth['weight'] > 5e-7 ) & (truth['particle_id'] != 0) ]\n",
    "        training = hits_with_uID.merge(filtered_truth, on='hit_id')[['uID', 'particle_id']]\n",
    "        unique_truth = pd.Series(np.unique(training['particle_id']))\n",
    "        \n",
    "        training_df.append( (training, unique_truth) )\n",
    "    return training_df"
   ]
  },
  {
   "cell_type": "code",
   "execution_count": 36,
   "metadata": {},
   "outputs": [],
   "source": [
    "all_train_1 = load_training()"
   ]
  },
  {
   "cell_type": "code",
   "execution_count": null,
   "metadata": {},
   "outputs": [],
   "source": []
  },
  {
   "cell_type": "markdown",
   "metadata": {},
   "source": [
    "# summary of training events from *train_1*"
   ]
  },
  {
   "cell_type": "code",
   "execution_count": 39,
   "metadata": {},
   "outputs": [
    {
     "name": "stdout",
     "output_type": "stream",
     "text": [
      "Total events: 1770\n",
      "Total truth particles: 14496495\n"
     ]
    }
   ],
   "source": [
    "print(\"Total events:\", len(all_train_1))\n",
    "print(\"Total truth particles:\", sum([y.shape[0] for x,y in all_train_1]))"
   ]
  },
  {
   "cell_type": "code",
   "execution_count": 42,
   "metadata": {},
   "outputs": [],
   "source": [
    "import random\n",
    "\n",
    "# random item from a list\n",
    "def random_choice(l):\n",
    "    return l[random.randint(0, len(l) - 1)]\n",
    "\n",
    "\n",
    "def randomTrack(df_train, df_truth):\n",
    "    pID = df_truth.sample(1).values\n",
    "    hit_series = df_train[df_train['particle_id'] == pID[0]]['uID'].values\n",
    "    input_tensor = inputHits(hit_series)\n",
    "    target_tensor = targetHits(hit_series)\n",
    "    return input_tensor, target_tensor\n",
    "\n",
    "def random_from_training():\n",
    "    df_train, df_truth = random_choice(all_train_1)\n",
    "    return randomTrack(df_train, df_truth)\n",
    "\n",
    "def tunable_parameters(model):\n",
    "    model_parameters = filter(lambda p:p.requires_grad, model.parameters())\n",
    "    params = sum([np.prod(p.size()) for p in model_parameters])\n",
    "    # return sum(p.numel() for p in model.parameters() if p.requires_grad)\n",
    "    return params"
   ]
  },
  {
   "cell_type": "code",
   "execution_count": 41,
   "metadata": {},
   "outputs": [
    {
     "name": "stdout",
     "output_type": "stream",
     "text": [
      "(tensor([[[ 0.,  0.,  0.,  ...,  0.,  0.,  0.]],\n",
      "\n",
      "        [[ 0.,  0.,  0.,  ...,  0.,  0.,  0.]],\n",
      "\n",
      "        [[ 0.,  0.,  0.,  ...,  0.,  0.,  0.]],\n",
      "\n",
      "        ...,\n",
      "\n",
      "        [[ 0.,  0.,  0.,  ...,  0.,  0.,  0.]],\n",
      "\n",
      "        [[ 0.,  0.,  0.,  ...,  0.,  0.,  0.]],\n",
      "\n",
      "        [[ 0.,  0.,  0.,  ...,  0.,  0.,  0.]]]), tensor([  1360,   2150,   3344,   3452,   5859,  10969,  11139,  11307,\n",
      "         11310,  11477,  11648,  18728]))\n"
     ]
    }
   ],
   "source": [
    "print(random_from_training())"
   ]
  },
  {
   "cell_type": "markdown",
   "metadata": {},
   "source": [
    "### Try the RNN model"
   ]
  },
  {
   "cell_type": "code",
   "execution_count": 10,
   "metadata": {},
   "outputs": [],
   "source": [
    "class HitPredictor(nn.Module):\n",
    "    def __init__(self, input_dim=20, hidden_dim=20, output_dim=20,\n",
    "                n_lstm_layers=1):\n",
    "        super(HitPredictor, self).__init__()\n",
    "        \n",
    "        self.hidden_dim = hidden_dim\n",
    "        self.batch_size = 1\n",
    "        \n",
    "        self.lstm = nn.LSTM(input_dim, hidden_dim, n_lstm_layers)\n",
    "        self.fc = nn.Linear(hidden_dim, output_dim)\n",
    "        self.dropout = nn.Dropout(0.1)\n",
    "        self.softmax = nn.LogSoftmax(dim=1)\n",
    "\n",
    "    def init_hidden(self):\n",
    "        return (torch.zeros(self.lstm.num_layers, self.batch_size, self.hidden_dim),\n",
    "                torch.zeros(self.lstm.num_layers, self.batch_size, self.hidden_dim))\n",
    "        \n",
    "    def forward(self, x):\n",
    "        output, self.hidden = self.lstm(x, self.hidden)\n",
    "        output = self.fc(output.view(len(x), -1))\n",
    "        output = self.dropout(output)\n",
    "        tag_scores = self.softmax(output)\n",
    "        return tag_scores"
   ]
  },
  {
   "cell_type": "code",
   "execution_count": 11,
   "metadata": {},
   "outputs": [],
   "source": [
    "class RNN(nn.Module):\n",
    "    def __init__(self, input_size, hidden_size, output_size):\n",
    "        super(RNN, self).__init__()\n",
    "        self.hidden_size = hidden_size\n",
    "        \n",
    "        self.i2h = nn.Linear(input_size + hidden_size, hidden_size)\n",
    "        self.i2o = nn.Linear(input_size + hidden_size, output_size)\n",
    "        self.o2o = nn.Linear(hidden_size + output_size, output_size)\n",
    "        self.dropout = nn.Dropout(0.1)\n",
    "        self.softmax = nn.LogSoftmax(dim=1)\n",
    "\n",
    "    def forward(self, input, hidden):\n",
    "        input_combined = torch.cat((input, hidden), 1)\n",
    "        hidden = self.i2h(input_combined)\n",
    "        output = self.i2o(input_combined)\n",
    "        output_combined = torch.cat((hidden, output), 1)\n",
    "        output = self.o2o(output_combined)\n",
    "        output = self.dropout(output)\n",
    "        output = self.softmax(output)\n",
    "        return output, hidden\n",
    "\n",
    "    def initHidden(self):\n",
    "        return torch.zeros(1, self.hidden_size)"
   ]
  },
  {
   "cell_type": "code",
   "execution_count": 12,
   "metadata": {},
   "outputs": [],
   "source": [
    "class HitPredictorSteve(nn.Module):\n",
    "    \"\"\"RNN which predicts sequence of next-hits from input sequence\"\"\"\n",
    "\n",
    "    def __init__(self, input_dim=3, hidden_dim=5, output_dim=2,\n",
    "                 n_lstm_layers=1):\n",
    "        super(HitPredictor, self).__init__()\n",
    "        self.lstm = nn.LSTM(input_dim, hidden_dim, n_lstm_layers,\n",
    "                            batch_first=True)\n",
    "        self.fc = nn.Linear(hidden_dim, output_dim)\n",
    "\n",
    "    def forward(self, x):\n",
    "        input_size = x.size()\n",
    "        # Initialize the lstm hidden state\n",
    "        torch_zeros = torchutils.torch_zeros\n",
    "        func_args = (self.lstm.num_layers, input_size[0], self.lstm.hidden_size)\n",
    "        h = (torch_zeros(*func_args), torch_zeros(*func_args))\n",
    "        x, h = self.lstm(x, h)\n",
    "        # Flatten layer axis into batch axis so FC applies\n",
    "        # independently across layers.\n",
    "        x = (self.fc(x.contiguous().view(-1, x.size(-1)))\n",
    "             .view(input_size[0], input_size[1], -1))\n",
    "        return x"
   ]
  },
  {
   "cell_type": "code",
   "execution_count": 13,
   "metadata": {},
   "outputs": [],
   "source": [
    "def inputHits(series):\n",
    "    tensor = torch.zeros(len(series), 1, total_modules+1)\n",
    "    for idx, h in enumerate(series):\n",
    "        tensor[idx][0][h] = 1\n",
    "\n",
    "    return tensor"
   ]
  },
  {
   "cell_type": "code",
   "execution_count": 14,
   "metadata": {},
   "outputs": [],
   "source": [
    "def targetHits(series):\n",
    "    module_idx = series[1:].tolist()\n",
    "    module_idx.append(total_modules)\n",
    "    return torch.LongTensor(module_idx)"
   ]
  },
  {
   "cell_type": "code",
   "execution_count": 15,
   "metadata": {},
   "outputs": [],
   "source": [
    "def randomTrack():\n",
    "    pID = truth_particles.sample(1).values\n",
    "    hit_series = training[training['particle_id'] == pID[0]]['uID'].values\n",
    "    input_tensor = inputHits(hit_series)\n",
    "    target_tensor = targetHits(hit_series)\n",
    "    return input_tensor, target_tensor"
   ]
  },
  {
   "cell_type": "code",
   "execution_count": 16,
   "metadata": {},
   "outputs": [],
   "source": [
    "def getInputTarget(hit_series):\n",
    "    input_tensor = inputHits(hit_series)\n",
    "    target_tensor = targetHits(hit_series)\n",
    "    return input_tensor, target_tensor"
   ]
  },
  {
   "cell_type": "code",
   "execution_count": 18,
   "metadata": {},
   "outputs": [],
   "source": [
    "import time\n",
    "import math\n",
    "\n",
    "def timeSince(since):\n",
    "    now = time.time()\n",
    "    s = now - since\n",
    "    m = math.floor(s / 60)\n",
    "    s -= m * 60\n",
    "    return '%dm %ds' % (m, s)"
   ]
  },
  {
   "cell_type": "code",
   "execution_count": 19,
   "metadata": {},
   "outputs": [],
   "source": [
    "def check_result(input_, tags_, target_):\n",
    "    with torch.no_grad():\n",
    "        print(\"inputs:\", torch.reshape(torch.argmax(input_, dim=2), (-1,)))\n",
    "        print(\"predictions:\", torch.argmax(tags_, dim=1))\n",
    "#         print(\"target:\", target_)"
   ]
  },
  {
   "cell_type": "code",
   "execution_count": 43,
   "metadata": {},
   "outputs": [],
   "source": [
    "def tunable_parameters(model):\n",
    "    model_parameters = filter(lambda p:p.requires_grad, model.parameters())\n",
    "#     for p in model_parameters:\n",
    "#         print(p.size())\n",
    "    params = sum([np.prod(p.size()) for p in model_parameters])\n",
    "    return params"
   ]
  },
  {
   "cell_type": "code",
   "execution_count": 51,
   "metadata": {},
   "outputs": [
    {
     "name": "stdout",
     "output_type": "stream",
     "text": [
      "total parameters: 1893389\n"
     ]
    }
   ],
   "source": [
    "rnn = HitPredictor(input_dim=total_modules+1, hidden_dim=20, \n",
    "                   output_dim=total_modules+1,\n",
    "                   n_lstm_layers=1)\n",
    "print(\"total parameters:\", tunable_parameters(rnn))"
   ]
  },
  {
   "cell_type": "code",
   "execution_count": null,
   "metadata": {},
   "outputs": [],
   "source": [
    "optimizer.param_groups"
   ]
  },
  {
   "cell_type": "code",
   "execution_count": 50,
   "metadata": {},
   "outputs": [
    {
     "name": "stdout",
     "output_type": "stream",
     "text": [
      "total parameters: 2362554\n"
     ]
    }
   ],
   "source": [
    "rnn = HitPredictor(input_dim=total_modules+1, hidden_dim=25, \n",
    "                   output_dim=total_modules+1,\n",
    "                   n_lstm_layers=1)\n",
    "print(\"total parameters:\", tunable_parameters(rnn))"
   ]
  },
  {
   "cell_type": "code",
   "execution_count": 34,
   "metadata": {},
   "outputs": [
    {
     "name": "stdout",
     "output_type": "stream",
     "text": [
      "total parameters: 12203945\n"
     ]
    }
   ],
   "source": [
    "rnn = HitPredictor(input_dim=total_modules+1, hidden_dim=128, \n",
    "                   output_dim=total_modules+1,\n",
    "                   n_lstm_layers=2)\n",
    "print(\"total parameters:\", tunable_parameters(rnn))"
   ]
  },
  {
   "cell_type": "code",
   "execution_count": 36,
   "metadata": {},
   "outputs": [
    {
     "name": "stdout",
     "output_type": "stream",
     "text": [
      "total parameters: 17859\n"
     ]
    }
   ],
   "source": [
    "rnn = HitPredictor(input_dim=3, hidden_dim=64, \n",
    "                   output_dim=3,\n",
    "                   n_lstm_layers=1)\n",
    "print(\"total parameters:\", tunable_parameters(rnn))"
   ]
  },
  {
   "cell_type": "markdown",
   "metadata": {},
   "source": [
    "### Train RNN with all tracks in this event\n",
    "This seems not work!\n",
    "After some time training, it predicts only the last hit.\n",
    "\n",
    "Now, can I have a RNN what at least predict one track correctly?"
   ]
  },
  {
   "cell_type": "code",
   "execution_count": null,
   "metadata": {},
   "outputs": [],
   "source": [
    "criterion = nn.NLLLoss()\n",
    "rnn = HitPredictor(input_dim=total_modules+1, hidden_dim=20, \n",
    "                   output_dim=total_modules+1,\n",
    "                   n_lstm_layers=1)\n",
    "\n",
    "total_tunable = tunable_parameters(rnn)\n",
    "print('total parameters in RNN:', total_tunable)"
   ]
  },
  {
   "cell_type": "code",
   "execution_count": null,
   "metadata": {},
   "outputs": [
    {
     "name": "stdout",
     "output_type": "stream",
     "text": [
      "total parameters in RNN: 1893389\n",
      "0m 0s (0 0%) 0.9008\n",
      "inputs: tensor([  84,  192,  194,  300,  302,  408,  410,  516,  518,  624,\n",
      "         626])\n",
      "predictions: tensor([ 16113,  13652,   3988,  13652,  13652,  13652,   3988,   3988,\n",
      "         17489,  13652,  13652])\n",
      "24m 59s (37867 1%) 0.8094\n",
      "inputs: tensor([  1685,   2542,   5381,   5382,   6364,   7736,   9586,   9587,\n",
      "         13374,  13375,  16142,  16143])\n",
      "predictions: tensor([   867,   3448,  18728,  18728,  18728,  18728,  18728,  18728,\n",
      "           740,  18728,  18728,  18728])\n",
      "50m 32s (75734 3%) 0.8722\n",
      "inputs: tensor([   845,   1126,   1561,   2200,   4771,   4772,   4944,   5206,\n",
      "         11984,  12083])\n",
      "predictions: tensor([   883,   3415,  18728,  18728,  18728,    448,  18728,    648,\n",
      "         18728,  18728])\n",
      "77m 16s (113601 5%) 0.7084\n",
      "inputs: tensor([   864,   1197,   1781,   2685,   5455,   6467,   7801,   7879,\n",
      "          9672,  13596,  16425])\n",
      "predictions: tensor([   867,   1215,  18728,  18728,  18728,  18728,  18728,  18728,\n",
      "         18728,  18728,  18728])\n",
      "104m 12s (151468 7%) 0.6789\n",
      "inputs: tensor([   888,   1276,   1277,   1962,   3113,   5674,   6886,   6887,\n",
      "         10863,  11034,  18359,  18458])\n",
      "predictions: tensor([   861,  18728,  18728,  18728,  18728,  18728,  18728,  11406,\n",
      "         18728,  18728,  18728,  18728])\n",
      "130m 2s (189335 9%) 0.6546\n",
      "inputs: tensor([   838,    839,   1081,   1082,   1489,   4359,   4533,   4703,\n",
      "          4706,   4877,   5110,  11847])\n",
      "predictions: tensor([   851,   1190,  18728,  18728,  18728,  18728,  18728,  18728,\n",
      "         18728,  18728,  18728,  18728])\n",
      "156m 41s (227202 11%) 0.7115\n",
      "inputs: tensor([   879,   1226,   1227,   1881,   2835,   5532,   6631,   8187,\n",
      "         10279,  14431,  17637])\n",
      "predictions: tensor([   880,   1227,   1882,  18728,   5434,  18728,  18728,  18728,\n",
      "         18728,  18728,  18728])\n",
      "182m 50s (265069 13%) 0.7736\n",
      "inputs: tensor([   887,   1307,   2115,   3269,   5831,  10849,  11016,  11182,\n",
      "         11349,  11518])\n",
      "predictions: tensor([   851,   1773,   1772,  18728,  18728,  18728,  18728,  18728,\n",
      "         18728,  18728])\n",
      "209m 7s (302936 15%) 0.5314\n",
      "inputs: tensor([ 3299,  3302,  3407,  3410,  3515,  3623,  3732,  3733,  3840,\n",
      "         3841,  3948])\n",
      "predictions: tensor([  3289,   3367,   3375,   3515,   3518,   3591,   3685,  18728,\n",
      "         18728,  18728,  18728])\n",
      "234m 57s (340803 17%) 0.6577\n",
      "inputs: tensor([   850,   1105,   1527,   4487,   4658,   4831,   5003,   5139,\n",
      "         11919,  11920,  12018])\n",
      "predictions: tensor([   851,    851,  18728,   5406,  18728,  18728,  18728,  18728,\n",
      "         18728,  18728,  18728])\n",
      "261m 3s (378670 19%) 0.6220\n",
      "inputs: tensor([   861,    862,   1160,   1616,   2360,   4954,   5248,   6122,\n",
      "          7164,   7165,  12190,  12287,  12289])\n",
      "predictions: tensor([  1168,   1184,   1882,  18728,  18728,  18728,  18728,  18728,\n",
      "         18728,  18728,  18728,  18728,  18728])\n",
      "287m 43s (416537 21%) 0.3602\n",
      "inputs: tensor([ 124,  232,  235,  340,  343,  448,  451,  556,  559,  664,\n",
      "         667])\n",
      "predictions: tensor([  3283,    262,    337,    335,    445,    556,    556,  18728,\n",
      "         18728,  18728,  18728])\n",
      "314m 22s (454404 23%) 0.5621\n",
      "inputs: tensor([  261,   369,   476,   477,   691,   810,  4078,  4247,  4417,\n",
      "         4584])\n",
      "predictions: tensor([  3315,    351,    567,    567,    678,  18728,  18728,  18728,\n",
      "         18728,  18728])\n",
      "341m 9s (492271 25%) 0.7356\n",
      "inputs: tensor([   894,   1321,   2087,   5772,  10941,  11112,  11285,  11456,\n",
      "         18704])\n",
      "predictions: tensor([   899,   1319,  18728,  18728,  18728,  18728,  11301,  18728,\n",
      "         18728])\n",
      "367m 48s (530138 27%) 0.5388\n",
      "inputs: tensor([   866,   1201,   1735,   2617,   5380,   6306,   6307,   6363,\n",
      "          7578,   7656,   9279,   9280,  13015,  15539])\n",
      "predictions: tensor([  1201,   1736,  18728,   5420,  18728,  18728,  18728,  10971,\n",
      "         18728,  18728,  18728,  18728,  18728,  18728])\n",
      "393m 11s (568005 29%) 0.6999\n",
      "inputs: tensor([   871,   1242,   1854,   2873,   5551,   5552,   6659,   8225,\n",
      "         10432,  14611])\n",
      "predictions: tensor([   872,   1854,   1855,  18728,  18728,  18728,  18728,  18728,\n",
      "         18728,  18728])\n",
      "419m 30s (605872 31%) 0.4937\n",
      "inputs: tensor([   905,   1407,   3286,   3289,   3396,   3398,   3504,   3506,\n",
      "          3614,   3722,  11227,  11230,  11400])\n",
      "predictions: tensor([   889,   3291,   3289,   3448,  18728,    410,    410,    410,\n",
      "           516,  18728,  11400,  18728,  18728])\n",
      "444m 59s (643739 33%) 0.6303\n",
      "inputs: tensor([   862,   1193,   1774,   2676,   5451,   6406,   7797,  13597,\n",
      "         16281])\n",
      "predictions: tensor([   863,   1774,  18728,  18728,  18728,  10882,  18728,  18728,\n",
      "         18728])\n",
      "470m 47s (681606 35%) 0.7065\n",
      "inputs: tensor([   877,   1287,   1288,   1981,   3142,   3143,   5651,   6856,\n",
      "          6912,  10951])\n",
      "predictions: tensor([   878,   1823,   1822,  18728,  18728,  18728,  18728,  18728,\n",
      "         18728,  18728])\n",
      "496m 26s (719473 37%) 0.3232\n",
      "inputs: tensor([   0,    3,  108,  111,  216,  219,  324,  327,  432,  435,\n",
      "         437,  540,  543,  545,  648,  651,  653])\n",
      "predictions: tensor([   108,    175,    281,    281,    267,    324,    324,    389,\n",
      "           432,    435,    540,    648,    648,    648,    651,    751,\n",
      "         18728])\n",
      "521m 15s (757340 39%) 0.4761\n",
      "inputs: tensor([   857,   1182,   1756,   1757,   2649,   5437,   6386,   6442,\n",
      "          7767,   7768,   9630,  13548,  16216,  16368])\n",
      "predictions: tensor([   858,   1182,  18728,  18728,  18728,  18728,   6445,  18728,\n",
      "         18728,  18728,  18728,  18728,  18728,  18728])\n",
      "545m 48s (795207 41%) 0.5605\n",
      "inputs: tensor([   856,    872,   1213,   1806,   2723,   5434,   6438,   7838,\n",
      "          9720,  13651,  13771,  16645])\n",
      "predictions: tensor([  1180,   1212,   1806,   2723,  18728,   5435,  18728,  18728,\n",
      "         18728,  18728,  18728,  12333])\n",
      "570m 12s (833074 43%) 0.5859\n",
      "inputs: tensor([   877,   1222,   1874,   2825,   5526,   5527,   6623,   8175,\n",
      "         10263,  14411,  17761])\n",
      "predictions: tensor([   878,   1223,  18728,  18728,  18728,   6411,  18728,  18728,\n",
      "         18728,  18728,  18728])\n",
      "595m 1s (870941 45%) 0.4457\n",
      "inputs: tensor([   858,   1216,   1217,   1813,   2734,   5440,   5480,   6503,\n",
      "          7932,   9845,   9947,  13923,  16996])\n",
      "predictions: tensor([   859,   1185,   1813,  18728,   5442,  18728,  18728,  18728,\n",
      "         18728,  18728,  18728,  18728,  18728])\n",
      "620m 31s (908808 47%) 0.5012\n",
      "inputs: tensor([   843,    859,   1123,   1609,   2271,   4762,   4765,   4934,\n",
      "          5203,   6002,  12079,  12080,  12081,  12179])\n",
      "predictions: tensor([   844,   1187,   1123,   1608,  18728,  18728,  18728,  18728,\n",
      "         18728,  18728,  18728,  18728,  18728,  18728])\n",
      "645m 47s (946675 49%) 0.5718\n",
      "inputs: tensor([  117,   225,   333,   334,   440,   656,   805,  4015,  4185,\n",
      "         4355])\n",
      "predictions: tensor([  3310,    331,    545,    545,    545,  18728,  18728,  18728,\n",
      "         18728,  18728])\n",
      "670m 58s (984542 51%) 1.0901\n",
      "inputs: tensor([  849,  1134,  1575,  2220])\n",
      "predictions: tensor([   850,   1122,   1548,  18728])\n",
      "696m 20s (1022409 53%) 0.6198\n",
      "inputs: tensor([  859,  1123,  1608,  2347,  4733,  4910,  5240,  5241,  6053,\n",
      "         6054])\n",
      "predictions: tensor([   860,   1712,   1660,  18728,  18728,  18728,   5244,  18728,\n",
      "         18728,  18728])\n",
      "721m 53s (1060276 55%) 0.5642\n",
      "inputs: tensor([   881,   1263,   1888,   1940,   2924,   3002,   5578,   6696,\n",
      "          8355,  10603,  14934])\n",
      "predictions: tensor([   882,   1940,   1940,  18728,  18728,  18728,  18728,   1163,\n",
      "         18728,  18728,  18728])\n",
      "747m 34s (1098143 57%) 0.3451\n",
      "inputs: tensor([   907,   1411,   3299,   3408,   3409,   3517,   3625,  11075,\n",
      "         11245,  11419,  11590,  11760])\n",
      "predictions: tensor([   908,   3299,   3405,   3407,   3517,  18728,  18728,  18728,\n",
      "         18728,  18728,  18728,  18728])\n",
      "773m 17s (1136010 59%) 1.5873\n",
      "inputs: tensor([  3852,   3960,  11435,  11605,  11775])\n",
      "predictions: tensor([ 18728,  18728,  18728,  18728,  18728])\n",
      "799m 5s (1173877 61%) 0.5754\n",
      "inputs: tensor([ 3761,  3764,  3869,  3872,  3977,  3980])\n",
      "predictions: tensor([ 18728,  18728,   3980,   3980,  18728,  18728])\n",
      "824m 46s (1211744 63%) 0.4743\n",
      "inputs: tensor([   868,    869,   1238,   1899,   2940,   5585,   6705,   8366,\n",
      "          8367,  10819,  18234,  18331])\n",
      "predictions: tensor([  1204,   1206,   1238,   1796,  18728,  18728,  18728,  18728,\n",
      "         18728,  18728,  18728,  18728])\n"
     ]
    }
   ],
   "source": [
    "n_iters = total_tunable*2\n",
    "print_every = int(n_iters/50)\n",
    "plot_every = int(n_iters/1000)\n",
    "all_losses = []\n",
    "total_loss = 0\n",
    "start = time.time()\n",
    "\n",
    "optimizer = optim.SGD(rnn.parameters(), lr=0.01, momentum=0.9)\n",
    "\n",
    "for iter_ in range(n_iters):\n",
    "\n",
    "#     input_, target_ = randomTrack()\n",
    "    input_, target_ = random_from_training()\n",
    "    \n",
    "    # training\n",
    "    rnn.zero_grad()\n",
    "    rnn.hidden = rnn.init_hidden()\n",
    "    \n",
    "    loss = 0\n",
    "    \n",
    "    output = rnn(input_)    \n",
    "    loss = criterion(output, target_)\n",
    "\n",
    "#     for i in range(input_.size(0) - 1):\n",
    "#         output = rnn(input_[i].view(1, 1, -1))\n",
    "#         loss += criterion(output, torch.tensor([target_[i]]))\n",
    "\n",
    "    loss.backward()\n",
    "    optimizer.step()\n",
    "    \n",
    "    normed_loss = loss.item()/input_.size(0)\n",
    "    total_loss += normed_loss\n",
    "    if iter_ % print_every == 0:\n",
    "        print('%s (%d %d%%) %.4f' % (timeSince(start), iter_, iter_ / n_iters * 100, normed_loss))\n",
    "        check_result(input_, output, target_)\n",
    "        \n",
    "    if iter_ % plot_every == 0:\n",
    "        all_losses.append(total_loss / plot_every)\n",
    "        total_loss = 0\n",
    "\n",
    "print(\"I am done\")"
   ]
  },
  {
   "cell_type": "code",
   "execution_count": 55,
   "metadata": {},
   "outputs": [],
   "source": [
    "torch.save(rnn.state_dict(), \"trained_1event_rnn_model_01\")"
   ]
  },
  {
   "cell_type": "code",
   "execution_count": 25,
   "metadata": {},
   "outputs": [
    {
     "name": "stdout",
     "output_type": "stream",
     "text": [
      "[tensor([ 18728,  11795,   3862]), tensor([ 18728,  11795,   3862]), tensor([ 18728,   3862,  16650]), tensor([ 11795,   3862,   4030]), tensor([ 18728,  11795,   3862]), tensor([ 18728,  11795,   3862]), tensor([ 18728,  11795,   3862]), tensor([ 18728,  11795,   3862]), tensor([ 18728,  11795,   3862]), tensor([ 11795,   3862,   4030]), tensor([ 18728,  11795,   3862]), tensor([ 18728,  11795,   3862]), tensor([ 18728,  11795,   3862]), tensor([ 18728,  11795,   3862]), tensor([ 11795,   3862,   4030]), tensor([ 18728,  11795,   3862]), tensor([ 18728,  11795,   3862]), tensor([ 18728,  11795,   4030]), tensor([ 18728,  11795,   3862]), tensor([ 18728,  11795,   3862])]\n"
     ]
    },
    {
     "data": {
      "text/plain": [
       "[<matplotlib.lines.Line2D at 0x2aab180cd0b8>]"
      ]
     },
     "execution_count": 25,
     "metadata": {},
     "output_type": "execute_result"
    },
    {
     "data": {
      "image/png": "[encoded data removed]",
      "text/plain": [
       "<Figure size 432x288 with 1 Axes>"
      ]
     },
     "metadata": {},
     "output_type": "display_data"
    }
   ],
   "source": [
    "print(check_trainingPredictor(322))\n",
    "plt.plot(all_losses)"
   ]
  },
  {
   "cell_type": "code",
   "execution_count": 23,
   "metadata": {},
   "outputs": [
    {
     "data": {
      "text/plain": [
       "[<matplotlib.lines.Line2D at 0x2aab1815af98>]"
      ]
     },
     "execution_count": 23,
     "metadata": {},
     "output_type": "execute_result"
    },
    {
     "data": {
      "image/png": "[encoded data removed]",
      "text/plain": [
       "<Figure size 432x288 with 1 Axes>"
      ]
     },
     "metadata": {},
     "output_type": "display_data"
    }
   ],
   "source": []
  },
  {
   "cell_type": "code",
   "execution_count": 21,
   "metadata": {},
   "outputs": [],
   "source": [
    "def check_trainingPredictor(start_hit):\n",
    "    with torch.no_grad():\n",
    "        input_tensor = inputHits([start_hit])\n",
    "        rnn.hidden = rnn.init_hidden()\n",
    "        out_hits = []\n",
    "        pre_can = -1\n",
    "        for i in range(max_nhits):\n",
    "            output = rnn(input_tensor)\n",
    "            topv, topi = output.topk(3)\n",
    "            cand = topi[0][1]\n",
    "#             if cand <= pre_can:\n",
    "#                 break\n",
    "#             else:\n",
    "#                 pre_can = cand\n",
    "            if cand == total_modules:\n",
    "                print(\"Hit the last hits\")\n",
    "                break\n",
    "            else:\n",
    "                out_hits.append(topi[0])\n",
    "            input_tensor = inputHits([cand])\n",
    "        return out_hits"
   ]
  },
  {
   "cell_type": "markdown",
   "metadata": {},
   "source": [
    "### Training with RNN\n",
    "example is taken from: [link](https://pytorch.org/tutorials/intermediate/char_rnn_generation_tutorial.html)."
   ]
  },
  {
   "cell_type": "code",
   "execution_count": null,
   "metadata": {},
   "outputs": [
    {
     "name": "stdout",
     "output_type": "stream",
     "text": [
      "1m 3s (0 0%) 9.8356\n"
     ]
    }
   ],
   "source": [
    "n_iters = truth_particles.shape[0]\n",
    "\n",
    "n_iters = 1000\n",
    "n_iters = truth_particles.shape[0] if n_iters > truth_particles.shape[0] else n_iters\n",
    "print_every = n_iters/10\n",
    "# print_every = 1\n",
    "plot_every = 20\n",
    "all_losses = []\n",
    "total_loss = 0\n",
    "start = time.time()\n",
    "\n",
    "\n",
    "criterion = nn.NLLLoss()\n",
    "rnn = RNN(total_modules+1, 512, total_modules+1)\n",
    "optimizer = optim.SGD(rnn.parameters(), lr=0.01)\n",
    "\n",
    "for iter_ in range(n_iters):\n",
    "    pID = truth_particles.values[iter_]\n",
    "\n",
    "    # prepare the inputs\n",
    "    input_, target_ = getInputTarget(training[training['particle_id'] == pID]['uID'].values)\n",
    "    \n",
    "    # training\n",
    "    rnn.zero_grad()\n",
    "    hidden = rnn.initHidden()\n",
    "   \n",
    "    loss = 0\n",
    "    for i in range(input_.size(0)):\n",
    "        tag_scores, hidden = rnn(input_[i], hidden)\n",
    "        loss += criterion(tag_scores, torch.tensor([target_[i]]))\n",
    "\n",
    "#     tag_scores, hidden = rnn(input_, hidden)\n",
    "#     loss = criterion(tag_scores, target_)\n",
    "        \n",
    "    loss.backward()\n",
    "    optimizer.step()\n",
    "    \n",
    "    norm_loss = loss/input_.size(0)\n",
    "    total_loss += norm_loss\n",
    "    if iter_ % print_every == 0:\n",
    "        print('%s (%d %d%%) %.4f' % (timeSince(start), iter_, iter_ / n_iters * 100, norm_loss))\n",
    "#         check_result(input_, tag_scores, target_)\n",
    "        \n",
    "    if iter_ % plot_every == 0:\n",
    "        all_losses.append(total_loss / plot_every)\n",
    "        total_loss = 0\n",
    "\n",
    "print(\"I am done\")"
   ]
  },
  {
   "cell_type": "code",
   "execution_count": 22,
   "metadata": {},
   "outputs": [],
   "source": [
    "\n",
    "def check_training(start_hit):\n",
    "    with torch.no_grad():\n",
    "        input_tensor = inputHits([start_hit])\n",
    "        print(input_tensor.size())\n",
    "        print(input_tensor[0][0][start_hit])\n",
    "        rnn.hidden = rnn.init_hidden()\n",
    "        out_hits = []\n",
    "        for i in range(max_nhits):\n",
    "            output = rnn(input_tensor)\n",
    "            topv, topi = output.topk(1)\n",
    "            topi = topi[0][0]\n",
    "            if topi == total_modules:\n",
    "                print(\"Hit the last hits\")\n",
    "                break\n",
    "            else:\n",
    "                out_hits.append(topi)\n",
    "            input_tensor = inputHits([topi])\n",
    "        return out_hits"
   ]
  },
  {
   "cell_type": "code",
   "execution_count": 25,
   "metadata": {},
   "outputs": [],
   "source": [
    "def check_trainingRNN(start_hit):\n",
    "    with torch.no_grad():\n",
    "        input_tensor = inputHits([start_hit])\n",
    "        hidden = rnn.initHidden()\n",
    "        out_hits = []\n",
    "        topi = start_hit\n",
    "        for i in range(max_nhits):\n",
    "#             print(input_tensor.size())\n",
    "#             print(input_tensor[0][0][topi])\n",
    "            print(topi)\n",
    "            output, hidden = rnn(input_tensor[0], hidden)\n",
    "            # print(output)\n",
    "            # print(output.size())\n",
    "            topv, topi = output.topk(3)\n",
    "#             topi = topi[0][1]\n",
    "            if topi[0][0] == total_modules:\n",
    "                print(\"Hit the last hits\")\n",
    "                break\n",
    "            else:\n",
    "                out_hits.append(topi[0])\n",
    "            topi = topi[0][0]\n",
    "            input_tensor = inputHits([topi])\n",
    "        return out_hits"
   ]
  },
  {
   "cell_type": "code",
   "execution_count": 72,
   "metadata": {},
   "outputs": [
    {
     "name": "stdout",
     "output_type": "stream",
     "text": [
      "1150\n",
      "tensor(1150)\n",
      "tensor(1150)\n",
      "tensor(1150)\n",
      "tensor(1150)\n",
      "tensor(1150)\n",
      "tensor(1150)\n",
      "tensor(10643)\n",
      "tensor(1150)\n",
      "tensor(1150)\n",
      "tensor(1150)\n",
      "tensor(1150)\n",
      "tensor(1150)\n",
      "tensor(1150)\n",
      "tensor(1150)\n",
      "tensor(10643)\n",
      "tensor(2336)\n",
      "tensor(3348)\n",
      "tensor(12162)\n",
      "tensor(12162)\n"
     ]
    },
    {
     "data": {
      "text/plain": [
       "[tensor([  1150,  10643,   2336]),\n",
       " tensor([  1150,  10643,   2336]),\n",
       " tensor([  1150,  10643,   2336]),\n",
       " tensor([  1150,  10643,   2336]),\n",
       " tensor([  1150,  10643,   2336]),\n",
       " tensor([  1150,  10643,   2336]),\n",
       " tensor([ 10643,   2336,  12162]),\n",
       " tensor([  1150,   2336,  18164]),\n",
       " tensor([  1150,  10643,  12162]),\n",
       " tensor([  1150,  10643,   2336]),\n",
       " tensor([  1150,  10643,   2336]),\n",
       " tensor([  1150,  10643,   2336]),\n",
       " tensor([  1150,  10643,   2336]),\n",
       " tensor([  1150,  10643,   2336]),\n",
       " tensor([ 10643,   2336,  12162]),\n",
       " tensor([  2336,  18164,  12162]),\n",
       " tensor([  3348,  12162,   2336]),\n",
       " tensor([ 12162,   2336,   3453]),\n",
       " tensor([ 12162,   7141,   2336]),\n",
       " tensor([ 12162,   2608,   2336])]"
      ]
     },
     "execution_count": 72,
     "metadata": {},
     "output_type": "execute_result"
    }
   ],
   "source": [
    "check_trainingRNN(1150)"
   ]
  },
  {
   "cell_type": "code",
   "execution_count": 38,
   "metadata": {},
   "outputs": [],
   "source": [
    "torch.save(rnn.state_dict(), \"trained_1event_rnn_model\")"
   ]
  },
  {
   "cell_type": "code",
   "execution_count": 20,
   "metadata": {},
   "outputs": [
    {
     "name": "stdout",
     "output_type": "stream",
     "text": [
      "tensor(127.8480)\n"
     ]
    }
   ],
   "source": [
    "input_, target = randomTrack()\n",
    "rnn = HitPredictor(input_dim=total_modules+1, hidden_dim=128, output_dim=total_modules+1)\n",
    "\n",
    "#target.unsqueeze_(-1)\n",
    "rnn.hidden = rnn.init_hidden()\n",
    "\n",
    "rnn.zero_grad()\n",
    "loss = 0\n",
    "criterion = nn.NLLLoss()\n",
    "\n",
    "for i in range(input_.size(0) - 1):\n",
    "    output = rnn(input_[0].view(1, 1, -1))\n",
    "    loss += criterion(output, torch.tensor([target[i]]))\n",
    "    \n",
    "\n",
    "# print(\"input size:\", input_.size())\n",
    "# print('target size:', target.size())\n",
    "# output = rnn(input_)\n",
    "# print(\"output size:\", output.size())\n",
    "# print(target)\n",
    "# loss = criterion(output, target)\n",
    "print(loss)"
   ]
  },
  {
   "cell_type": "code",
   "execution_count": null,
   "metadata": {},
   "outputs": [],
   "source": [
    "input_, target = randomTrack()"
   ]
  },
  {
   "cell_type": "code",
   "execution_count": 38,
   "metadata": {},
   "outputs": [
    {
     "ename": "SyntaxError",
     "evalue": "invalid syntax (<ipython-input-38-24a2ed7d7105>, line 18)",
     "output_type": "error",
     "traceback": [
      "\u001b[0;36m  File \u001b[0;32m\"<ipython-input-38-24a2ed7d7105>\"\u001b[0;36m, line \u001b[0;32m18\u001b[0m\n\u001b[0;31m    print(loss)\u001b[0m\n\u001b[0m        ^\u001b[0m\n\u001b[0;31mSyntaxError\u001b[0m\u001b[0;31m:\u001b[0m invalid syntax\n"
     ]
    }
   ],
   "source": [
    "\n",
    "rnn = RNN(total_modules+1, 3, total_modules+1)\n",
    "\n",
    "#target.unsqueeze_(-1)\n",
    "hidden = rnn.initHidden()\n",
    "\n",
    "rnn.zero_grad()\n",
    "loss = 0\n",
    "criterion = nn.NLLLoss()\n",
    "\n",
    "print(\"input size:\", input_.size())\n",
    "print('target size:', target.size())\n",
    "output, hidden = rnn(input_[0], hidden)\n",
    "print(\"output size:\", output.size())\n",
    "print(target)\n",
    "print(target[0])\n",
    "loss = criterion(output, torch.tensor([target[0]]))\n",
    "print(loss)"
   ]
  },
  {
   "cell_type": "code",
   "execution_count": 37,
   "metadata": {},
   "outputs": [
    {
     "name": "stdout",
     "output_type": "stream",
     "text": [
      "1 1\n"
     ]
    }
   ],
   "source": [
    "print(output.size(0), torch.tensor([target[0]]).size(0))\n",
    "loss = criterion(output, torch.tensor([target[0]]))"
   ]
  },
  {
   "cell_type": "code",
   "execution_count": 57,
   "metadata": {},
   "outputs": [
    {
     "name": "stdout",
     "output_type": "stream",
     "text": [
      "torch.Size([1])\n",
      "torch.FloatTensor\n",
      "torch.float32\n"
     ]
    },
    {
     "ename": "RuntimeError",
     "evalue": "dimension out of range (expected to be in range of [-1, 0], but got 1)",
     "output_type": "error",
     "traceback": [
      "\u001b[0;31m---------------------------------------------------------------------------\u001b[0m",
      "\u001b[0;31mRuntimeError\u001b[0m                              Traceback (most recent call last)",
      "\u001b[0;32m<ipython-input-57-a5513195d698>\u001b[0m in \u001b[0;36m<module>\u001b[0;34m()\u001b[0m\n\u001b[1;32m      6\u001b[0m \u001b[0mh0\u001b[0m \u001b[0;34m=\u001b[0m \u001b[0mtorch\u001b[0m\u001b[0;34m.\u001b[0m\u001b[0mrandn\u001b[0m\u001b[0;34m(\u001b[0m\u001b[0;36m2\u001b[0m\u001b[0;34m,\u001b[0m \u001b[0;36m1\u001b[0m\u001b[0;34m,\u001b[0m \u001b[0;36m20\u001b[0m\u001b[0;34m)\u001b[0m\u001b[0;34m\u001b[0m\u001b[0m\n\u001b[1;32m      7\u001b[0m \u001b[0mc0\u001b[0m \u001b[0;34m=\u001b[0m \u001b[0mtorch\u001b[0m\u001b[0;34m.\u001b[0m\u001b[0mrandn\u001b[0m\u001b[0;34m(\u001b[0m\u001b[0;36m2\u001b[0m\u001b[0;34m,\u001b[0m \u001b[0;36m1\u001b[0m\u001b[0;34m,\u001b[0m \u001b[0;36m20\u001b[0m\u001b[0;34m)\u001b[0m\u001b[0;34m\u001b[0m\u001b[0m\n\u001b[0;32m----> 8\u001b[0;31m \u001b[0moutput\u001b[0m\u001b[0;34m,\u001b[0m \u001b[0mhn\u001b[0m \u001b[0;34m=\u001b[0m \u001b[0mrnn2\u001b[0m\u001b[0;34m(\u001b[0m\u001b[0minput\u001b[0m\u001b[0;34m,\u001b[0m \u001b[0;34m(\u001b[0m\u001b[0mh0\u001b[0m\u001b[0;34m,\u001b[0m \u001b[0mc0\u001b[0m\u001b[0;34m)\u001b[0m\u001b[0;34m)\u001b[0m\u001b[0;34m\u001b[0m\u001b[0m\n\u001b[0m\u001b[1;32m      9\u001b[0m \u001b[0mprint\u001b[0m\u001b[0;34m(\u001b[0m\u001b[0moutput\u001b[0m\u001b[0;34m)\u001b[0m\u001b[0;34m\u001b[0m\u001b[0m\n\u001b[1;32m     10\u001b[0m \u001b[0mprint\u001b[0m\u001b[0;34m(\u001b[0m\u001b[0moutput\u001b[0m\u001b[0;34m.\u001b[0m\u001b[0msize\u001b[0m\u001b[0;34m(\u001b[0m\u001b[0;34m)\u001b[0m\u001b[0;34m)\u001b[0m\u001b[0;34m\u001b[0m\u001b[0m\n",
      "\u001b[0;32m/global/project/projectdirs/m1092/xju/miniconda3/envs/py3.6/lib/python3.6/site-packages/torch/nn/modules/module.py\u001b[0m in \u001b[0;36m__call__\u001b[0;34m(self, *input, **kwargs)\u001b[0m\n\u001b[1;32m    489\u001b[0m             \u001b[0mresult\u001b[0m \u001b[0;34m=\u001b[0m \u001b[0mself\u001b[0m\u001b[0;34m.\u001b[0m\u001b[0m_slow_forward\u001b[0m\u001b[0;34m(\u001b[0m\u001b[0;34m*\u001b[0m\u001b[0minput\u001b[0m\u001b[0;34m,\u001b[0m \u001b[0;34m**\u001b[0m\u001b[0mkwargs\u001b[0m\u001b[0;34m)\u001b[0m\u001b[0;34m\u001b[0m\u001b[0m\n\u001b[1;32m    490\u001b[0m         \u001b[0;32melse\u001b[0m\u001b[0;34m:\u001b[0m\u001b[0;34m\u001b[0m\u001b[0m\n\u001b[0;32m--> 491\u001b[0;31m             \u001b[0mresult\u001b[0m \u001b[0;34m=\u001b[0m \u001b[0mself\u001b[0m\u001b[0;34m.\u001b[0m\u001b[0mforward\u001b[0m\u001b[0;34m(\u001b[0m\u001b[0;34m*\u001b[0m\u001b[0minput\u001b[0m\u001b[0;34m,\u001b[0m \u001b[0;34m**\u001b[0m\u001b[0mkwargs\u001b[0m\u001b[0;34m)\u001b[0m\u001b[0;34m\u001b[0m\u001b[0m\n\u001b[0m\u001b[1;32m    492\u001b[0m         \u001b[0;32mfor\u001b[0m \u001b[0mhook\u001b[0m \u001b[0;32min\u001b[0m \u001b[0mself\u001b[0m\u001b[0;34m.\u001b[0m\u001b[0m_forward_hooks\u001b[0m\u001b[0;34m.\u001b[0m\u001b[0mvalues\u001b[0m\u001b[0;34m(\u001b[0m\u001b[0;34m)\u001b[0m\u001b[0;34m:\u001b[0m\u001b[0;34m\u001b[0m\u001b[0m\n\u001b[1;32m    493\u001b[0m             \u001b[0mhook_result\u001b[0m \u001b[0;34m=\u001b[0m \u001b[0mhook\u001b[0m\u001b[0;34m(\u001b[0m\u001b[0mself\u001b[0m\u001b[0;34m,\u001b[0m \u001b[0minput\u001b[0m\u001b[0;34m,\u001b[0m \u001b[0mresult\u001b[0m\u001b[0;34m)\u001b[0m\u001b[0;34m\u001b[0m\u001b[0m\n",
      "\u001b[0;32m/global/project/projectdirs/m1092/xju/miniconda3/envs/py3.6/lib/python3.6/site-packages/torch/nn/modules/rnn.py\u001b[0m in \u001b[0;36mforward\u001b[0;34m(self, input, hx)\u001b[0m\n\u001b[1;32m    158\u001b[0m         \u001b[0;32melse\u001b[0m\u001b[0;34m:\u001b[0m\u001b[0;34m\u001b[0m\u001b[0m\n\u001b[1;32m    159\u001b[0m             \u001b[0mbatch_sizes\u001b[0m \u001b[0;34m=\u001b[0m \u001b[0;32mNone\u001b[0m\u001b[0;34m\u001b[0m\u001b[0m\n\u001b[0;32m--> 160\u001b[0;31m             \u001b[0mmax_batch_size\u001b[0m \u001b[0;34m=\u001b[0m \u001b[0minput\u001b[0m\u001b[0;34m.\u001b[0m\u001b[0msize\u001b[0m\u001b[0;34m(\u001b[0m\u001b[0;36m0\u001b[0m\u001b[0;34m)\u001b[0m \u001b[0;32mif\u001b[0m \u001b[0mself\u001b[0m\u001b[0;34m.\u001b[0m\u001b[0mbatch_first\u001b[0m \u001b[0;32melse\u001b[0m \u001b[0minput\u001b[0m\u001b[0;34m.\u001b[0m\u001b[0msize\u001b[0m\u001b[0;34m(\u001b[0m\u001b[0;36m1\u001b[0m\u001b[0;34m)\u001b[0m\u001b[0;34m\u001b[0m\u001b[0m\n\u001b[0m\u001b[1;32m    161\u001b[0m \u001b[0;34m\u001b[0m\u001b[0m\n\u001b[1;32m    162\u001b[0m         \u001b[0;32mif\u001b[0m \u001b[0mhx\u001b[0m \u001b[0;32mis\u001b[0m \u001b[0;32mNone\u001b[0m\u001b[0;34m:\u001b[0m\u001b[0;34m\u001b[0m\u001b[0m\n",
      "\u001b[0;31mRuntimeError\u001b[0m: dimension out of range (expected to be in range of [-1, 0], but got 1)"
     ]
    }
   ],
   "source": [
    "rnn2 = nn.LSTM(6, 20)\n",
    "input = torch.randn(1)\n",
    "print(input.size())\n",
    "print(input.type())\n",
    "print(input.dtype)\n",
    "h0 = torch.randn(2, 1, 20)\n",
    "c0 = torch.randn(2, 1, 20)\n",
    "output, hn = rnn2(input, (h0, c0))\n",
    "print(output)\n",
    "print(output.size())\n",
    "print(hn)\n",
    "print(hn[0].size())"
   ]
  },
  {
   "cell_type": "code",
   "execution_count": 163,
   "metadata": {},
   "outputs": [],
   "source": [
    "m = nn.LogSoftmax(dim=1)\n",
    "loss = nn.NLLLoss()\n",
    "input = torch.randn(3, 5, requires_grad=True)\n",
    "target = torch.tensor([1, 0, 4])\n",
    "print(target.size())\n",
    "print(m(input).size())\n",
    "output = loss(m(input), target)"
   ]
  },
  {
   "cell_type": "code",
   "execution_count": 61,
   "metadata": {},
   "outputs": [
    {
     "name": "stdout",
     "output_type": "stream",
     "text": [
      "tensor([ 1,  2,  4,  5])\n"
     ]
    }
   ],
   "source": [
    "embedding = nn.Embedding(10, 3)\n",
    "input = torch.LongTensor([1,2,4,5])\n",
    "print(input)\n",
    "embeds = embedding(input)"
   ]
  },
  {
   "cell_type": "code",
   "execution_count": 62,
   "metadata": {},
   "outputs": [
    {
     "name": "stdout",
     "output_type": "stream",
     "text": [
      "torch.Size([4, 3])\n",
      "torch.Size([4])\n",
      "4\n"
     ]
    }
   ],
   "source": [
    "print(embeds.size())\n",
    "print(input.size())\n",
    "print(len(input))"
   ]
  },
  {
   "cell_type": "code",
   "execution_count": 63,
   "metadata": {},
   "outputs": [
    {
     "name": "stdout",
     "output_type": "stream",
     "text": [
      "tensor([[-0.5956, -0.3846,  0.6718],\n",
      "        [ 0.4788,  0.3929,  0.4087],\n",
      "        [ 0.3090,  0.4232,  1.3487],\n",
      "        [ 2.1231, -0.9157, -1.3121]])\n",
      "tensor([[[-0.5956, -0.3846,  0.6718]],\n",
      "\n",
      "        [[ 0.4788,  0.3929,  0.4087]],\n",
      "\n",
      "        [[ 0.3090,  0.4232,  1.3487]],\n",
      "\n",
      "        [[ 2.1231, -0.9157, -1.3121]]])\n",
      "torch.Size([4, 1, 3])\n"
     ]
    }
   ],
   "source": [
    "print(embeds)\n",
    "new_embeds = embeds.view(len(input), 1, -1)\n",
    "print(new_embeds)\n",
    "print(new_embeds.size())"
   ]
  },
  {
   "cell_type": "code",
   "execution_count": 26,
   "metadata": {},
   "outputs": [
    {
     "data": {
      "text/plain": [
       "<bound method Module.parameters of HitPredictor(\n",
       "  (lstm): LSTM(18729, 128)\n",
       "  (fc): Linear(in_features=128, out_features=18729, bias=True)\n",
       "  (dropout): Dropout(p=0.1)\n",
       "  (softmax): LogSoftmax()\n",
       ")>"
      ]
     },
     "execution_count": 26,
     "metadata": {},
     "output_type": "execute_result"
    }
   ],
   "source": [
    "rnn.parameters"
   ]
  },
  {
   "cell_type": "code",
   "execution_count": 2,
   "metadata": {},
   "outputs": [],
   "source": [
    "import pickle\n",
    "a_list = [1, 3,4 ,45]\n",
    "with open('outfile', 'wb') as fp:\n",
    "    pickle.dump(a_list, fp)"
   ]
  },
  {
   "cell_type": "code",
   "execution_count": 3,
   "metadata": {},
   "outputs": [
    {
     "name": "stdout",
     "output_type": "stream",
     "text": [
      "[1, 3, 4, 45]\n"
     ]
    }
   ],
   "source": [
    "with open('outfile', 'rb') as fp:\n",
    "    my_list = pickle.load(fp)\n",
    "    print(my_list)"
   ]
  },
  {
   "cell_type": "code",
   "execution_count": 30,
   "metadata": {},
   "outputs": [
    {
     "name": "stdout",
     "output_type": "stream",
     "text": [
      "total parameters: 12071849\n"
     ]
    }
   ],
   "source": []
  },
  {
   "cell_type": "code",
   "execution_count": null,
   "metadata": {},
   "outputs": [],
   "source": []
  }
 ],
 "metadata": {
  "kernelspec": {
   "display_name": "TrackPy3.6",
   "language": "python",
   "name": "trackkernel"
  },
  "language_info": {
   "codemirror_mode": {
    "name": "ipython",
    "version": 3
   },
   "file_extension": ".py",
   "mimetype": "text/x-python",
   "name": "python",
   "nbconvert_exporter": "python",
   "pygments_lexer": "ipython3",
   "version": "3.6.1"
  }
 },
 "nbformat": 4,
 "nbformat_minor": 2
}
