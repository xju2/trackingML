{
 "cells": [
  {
   "cell_type": "code",
   "execution_count": 1,
   "metadata": {},
   "outputs": [],
   "source": [
    "from trackml.dataset import load_event\n",
    "from trackml.randomize import shuffle_hits\n",
    "from trackml.score import score_event\n",
    "\n",
    "import matplotlib.pyplot as plt\n",
    "from mpl_toolkits.mplot3d import Axes3D\n",
    "import seaborn as sns\n",
    "%matplotlib inline\n",
    "\n",
    "import os\n",
    "import numpy as np\n",
    "import pandas as pd\n",
    "import glob\n",
    "import math"
   ]
  },
  {
   "cell_type": "code",
   "execution_count": 10,
   "metadata": {},
   "outputs": [],
   "source": [
    "import matplotlib.ticker as plticker\n",
    "loc = plticker.MultipleLocator(base=200)\n",
    "loc0p4 = plticker.MultipleLocator(base=0.4)"
   ]
  },
  {
   "cell_type": "code",
   "execution_count": 51,
   "metadata": {},
   "outputs": [],
   "source": [
    "def get_event_info(event_path):\n",
    "    #print(event_path)\n",
    "    hits, truth = load_event(event_path, parts=['hits', 'truth'])\n",
    "    num_tracks = np.unique(truth['particle_id'].values).shape[0] - 1\n",
    "    total_hits = hits.shape[0]\n",
    "    num_not_used_hits = truth[truth['particle_id'] == 0].shape[0]\n",
    "    del hits, truth\n",
    "    return (num_tracks, total_hits, num_not_used_hits)"
   ]
  },
  {
   "cell_type": "code",
   "execution_count": 40,
   "metadata": {},
   "outputs": [
    {
     "data": {
      "text/plain": [
       "'input/train_1/event000001000'"
      ]
     },
     "execution_count": 40,
     "metadata": {},
     "output_type": "execute_result"
    }
   ],
   "source": [
    "train = np.unique([p.split('-')[0] for p in sorted(glob.glob('input/train_1/**'))])"
   ]
  },
  {
   "cell_type": "markdown",
   "metadata": {},
   "source": [
    "## Explore some event-level information\n",
    "*  How many hits in each event?\n",
    "*  How many of them arise from real particles?\n",
    "*  How many tracks in each event?"
   ]
  },
  {
   "cell_type": "code",
   "execution_count": 52,
   "metadata": {},
   "outputs": [],
   "source": [
    "training_event_info = list(map(get_event_info, train))"
   ]
  },
  {
   "cell_type": "code",
   "execution_count": 56,
   "metadata": {},
   "outputs": [],
   "source": [
    "df = pd.DataFrame(data=training_event_info)"
   ]
  },
  {
   "cell_type": "code",
   "execution_count": 63,
   "metadata": {},
   "outputs": [
    {
     "data": {
      "text/html": [
       "<div>\n",
       "<style scoped>\n",
       "    .dataframe tbody tr th:only-of-type {\n",
       "        vertical-align: middle;\n",
       "    }\n",
       "\n",
       "    .dataframe tbody tr th {\n",
       "        vertical-align: top;\n",
       "    }\n",
       "\n",
       "    .dataframe thead th {\n",
       "        text-align: right;\n",
       "    }\n",
       "</style>\n",
       "<table border=\"1\" class=\"dataframe\">\n",
       "  <thead>\n",
       "    <tr style=\"text-align: right;\">\n",
       "      <th></th>\n",
       "      <th>0</th>\n",
       "      <th>1</th>\n",
       "      <th>2</th>\n",
       "    </tr>\n",
       "  </thead>\n",
       "  <tbody>\n",
       "    <tr>\n",
       "      <th>count</th>\n",
       "      <td>1770.000000</td>\n",
       "      <td>1770.000000</td>\n",
       "      <td>1770.000000</td>\n",
       "    </tr>\n",
       "    <tr>\n",
       "      <th>mean</th>\n",
       "      <td>9277.931073</td>\n",
       "      <td>109394.628814</td>\n",
       "      <td>17697.974011</td>\n",
       "    </tr>\n",
       "    <tr>\n",
       "      <th>std</th>\n",
       "      <td>1079.250283</td>\n",
       "      <td>10668.849851</td>\n",
       "      <td>135.498374</td>\n",
       "    </tr>\n",
       "    <tr>\n",
       "      <th>min</th>\n",
       "      <td>5981.000000</td>\n",
       "      <td>77089.000000</td>\n",
       "      <td>17265.000000</td>\n",
       "    </tr>\n",
       "    <tr>\n",
       "      <th>25%</th>\n",
       "      <td>8477.000000</td>\n",
       "      <td>101528.250000</td>\n",
       "      <td>17608.000000</td>\n",
       "    </tr>\n",
       "    <tr>\n",
       "      <th>50%</th>\n",
       "      <td>9243.000000</td>\n",
       "      <td>109066.000000</td>\n",
       "      <td>17697.000000</td>\n",
       "    </tr>\n",
       "    <tr>\n",
       "      <th>75%</th>\n",
       "      <td>10032.000000</td>\n",
       "      <td>116878.750000</td>\n",
       "      <td>17788.000000</td>\n",
       "    </tr>\n",
       "    <tr>\n",
       "      <th>max</th>\n",
       "      <td>12551.000000</td>\n",
       "      <td>140699.000000</td>\n",
       "      <td>18131.000000</td>\n",
       "    </tr>\n",
       "  </tbody>\n",
       "</table>\n",
       "</div>"
      ],
      "text/plain": [
       "                  0              1             2\n",
       "count   1770.000000    1770.000000   1770.000000\n",
       "mean    9277.931073  109394.628814  17697.974011\n",
       "std     1079.250283   10668.849851    135.498374\n",
       "min     5981.000000   77089.000000  17265.000000\n",
       "25%     8477.000000  101528.250000  17608.000000\n",
       "50%     9243.000000  109066.000000  17697.000000\n",
       "75%    10032.000000  116878.750000  17788.000000\n",
       "max    12551.000000  140699.000000  18131.000000"
      ]
     },
     "execution_count": 63,
     "metadata": {},
     "output_type": "execute_result"
    }
   ],
   "source": [
    "df.describe()"
   ]
  },
  {
   "cell_type": "code",
   "execution_count": 61,
   "metadata": {},
   "outputs": [
    {
     "data": {
      "text/plain": [
       "array([[<matplotlib.axes._subplots.AxesSubplot object at 0x2aaaefab5ac8>,\n",
       "        <matplotlib.axes._subplots.AxesSubplot object at 0x2aaaefae8320>],\n",
       "       [<matplotlib.axes._subplots.AxesSubplot object at 0x2aaaefb0c780>,\n",
       "        <matplotlib.axes._subplots.AxesSubplot object at 0x2aaaefb34dd8>]],\n",
       "      dtype=object)"
      ]
     },
     "execution_count": 61,
     "metadata": {},
     "output_type": "execute_result"
    },
    {
     "data": {
      "image/png": "[encoded data removed]",
      "text/plain": [
       "<Figure size 432x288 with 4 Axes>"
      ]
     },
     "metadata": {},
     "output_type": "display_data"
    }
   ],
   "source": [
    "df.hist(alpha=0.5)"
   ]
  },
  {
   "cell_type": "code",
   "execution_count": 2,
   "metadata": {},
   "outputs": [],
   "source": [
    "event_prefix = 'event000001000'\n",
    "hits, cells, particles, truth = load_event(os.path.join('input/train_1', event_prefix))"
   ]
  },
  {
   "cell_type": "code",
   "execution_count": 3,
   "metadata": {},
   "outputs": [],
   "source": [
    "def get_features(df):\n",
    "    x = df.x.values\n",
    "    y = df.y.values\n",
    "    z = df.z.values\n",
    "\n",
    "    r = np.sqrt(x**2 + y**2 + z**2)\n",
    "\n",
    "    x2 = x/r\n",
    "    y2 = y/r\n",
    "\n",
    "    r2 = np.sqrt(x**2 + y**2)\n",
    "    z2 = z/r2\n",
    "    \n",
    "    df['x2'] = x2\n",
    "    df['y2'] = y2\n",
    "    df['z2'] = z2\n",
    "    df['r2'] = r2\n",
    "    \n",
    "    \n",
    "    # eta, and phi\n",
    "    theta = np.arccos(z/r)\n",
    "    phi = np.arctan2(y, x)\n",
    "    eta = - np.log(np.tan(theta/2.))\n",
    "    df['r'] = r\n",
    "    df['eta'] = eta\n",
    "    df['phi'] = phi\n",
    "    df['absZ'] = np.abs(z)\n",
    "    \n",
    "    return df"
   ]
  },
  {
   "cell_type": "code",
   "execution_count": 4,
   "metadata": {},
   "outputs": [],
   "source": [
    "hits = get_features(hits)"
   ]
  },
  {
   "cell_type": "code",
   "execution_count": 5,
   "metadata": {},
   "outputs": [],
   "source": [
    "all_info = hits.merge(truth, on='hit_id')"
   ]
  },
  {
   "cell_type": "code",
   "execution_count": 9,
   "metadata": {},
   "outputs": [
    {
     "data": {
      "text/plain": [
       "Index(['hit_id', 'x', 'y', 'z', 'volume_id', 'layer_id', 'module_id', 'x2',\n",
       "       'y2', 'z2', 'r2', 'r', 'eta', 'phi', 'absZ', 'particle_id', 'tx', 'ty',\n",
       "       'tz', 'tpx', 'tpy', 'tpz', 'weight'],\n",
       "      dtype='object')"
      ]
     },
     "execution_count": 9,
     "metadata": {},
     "output_type": "execute_result"
    }
   ],
   "source": [
    "all_info.columns"
   ]
  },
  {
   "cell_type": "markdown",
   "metadata": {},
   "source": [
    "## how many real tracks in this event?"
   ]
  },
  {
   "cell_type": "code",
   "execution_count": 36,
   "metadata": {},
   "outputs": [
    {
     "name": "stdout",
     "output_type": "stream",
     "text": [
      "not used hits: 17634 (14.58%)\n",
      "tracks from real particle: 10565\n",
      "total hits: 120939\n",
      "averge hits per track: 11.45\n"
     ]
    }
   ],
   "source": [
    "num_unknown_particles = all_info[all_info['particle_id'] == 0].shape[0]\n",
    "num_known_particles = np.unique(all_info['particle_id'].values).shape[0]-1\n",
    "#total_tracks = num_unknown_particles+num_known_particles\n",
    "total_tracks = num_known_particles\n",
    "total_hits = all_info.shape[0]\n",
    "print(\"not used hits: {} ({:.2%})\".format(num_unknown_particles, num_unknown_particles/total_hits))\n",
    "print(\"tracks from real particle:\", num_known_particles)\n",
    "# print(\"total tracks: \", total_tracks)\n",
    "print(\"total hits:\", total_hits)\n",
    "print(\"averge hits per track: {:.2f}\".format(total_hits/total_tracks))"
   ]
  },
  {
   "cell_type": "markdown",
   "metadata": {},
   "source": [
    "In *particles*, no particle_id == 0"
   ]
  },
  {
   "cell_type": "markdown",
   "metadata": {},
   "source": [
    "## how many particles does not have a hit in truth level?"
   ]
  },
  {
   "cell_type": "code",
   "execution_count": 35,
   "metadata": {},
   "outputs": [
    {
     "name": "stdout",
     "output_type": "stream",
     "text": [
      "total truth particles: 12263\n",
      "particles without hits: 1698 (13.85%)\n",
      "particles with hits: 10565\n"
     ]
    }
   ],
   "source": [
    "num_particles_with_no_hits = particles[particles['nhits'] == 0].shape[0]\n",
    "total_particles = particles.shape[0]\n",
    "print(\"total truth particles:\", total_particles)\n",
    "print(\"particles without hits: {} ({:.2%})\".format(num_particles_with_no_hits, num_particles_with_no_hits/total_particles))\n",
    "print(\"particles with hits: {}\".format(total_particles-num_particles_with_no_hits))"
   ]
  },
  {
   "cell_type": "markdown",
   "metadata": {},
   "source": [
    "## detector information"
   ]
  },
  {
   "cell_type": "code",
   "execution_count": 64,
   "metadata": {},
   "outputs": [
    {
     "data": {
      "text/html": [
       "<div>\n",
       "<style scoped>\n",
       "    .dataframe tbody tr th:only-of-type {\n",
       "        vertical-align: middle;\n",
       "    }\n",
       "\n",
       "    .dataframe tbody tr th {\n",
       "        vertical-align: top;\n",
       "    }\n",
       "\n",
       "    .dataframe thead th {\n",
       "        text-align: right;\n",
       "    }\n",
       "</style>\n",
       "<table border=\"1\" class=\"dataframe\">\n",
       "  <thead>\n",
       "    <tr style=\"text-align: right;\">\n",
       "      <th></th>\n",
       "      <th>volume_id</th>\n",
       "      <th>layer_id</th>\n",
       "      <th>module_id</th>\n",
       "      <th>cx</th>\n",
       "      <th>cy</th>\n",
       "      <th>cz</th>\n",
       "      <th>rot_xu</th>\n",
       "      <th>rot_xv</th>\n",
       "      <th>rot_xw</th>\n",
       "      <th>rot_yu</th>\n",
       "      <th>...</th>\n",
       "      <th>rot_yw</th>\n",
       "      <th>rot_zu</th>\n",
       "      <th>rot_zv</th>\n",
       "      <th>rot_zw</th>\n",
       "      <th>module_t</th>\n",
       "      <th>module_minhu</th>\n",
       "      <th>module_maxhu</th>\n",
       "      <th>module_hv</th>\n",
       "      <th>pitch_u</th>\n",
       "      <th>pitch_v</th>\n",
       "    </tr>\n",
       "  </thead>\n",
       "  <tbody>\n",
       "    <tr>\n",
       "      <th>0</th>\n",
       "      <td>7</td>\n",
       "      <td>2</td>\n",
       "      <td>1</td>\n",
       "      <td>-65.7965</td>\n",
       "      <td>-5.17830</td>\n",
       "      <td>-1502.5</td>\n",
       "      <td>0.078459</td>\n",
       "      <td>-0.996917</td>\n",
       "      <td>0.0</td>\n",
       "      <td>-0.996917</td>\n",
       "      <td>...</td>\n",
       "      <td>0.0</td>\n",
       "      <td>0</td>\n",
       "      <td>0</td>\n",
       "      <td>-1</td>\n",
       "      <td>0.15</td>\n",
       "      <td>8.4</td>\n",
       "      <td>8.4</td>\n",
       "      <td>36</td>\n",
       "      <td>0.05</td>\n",
       "      <td>0.05625</td>\n",
       "    </tr>\n",
       "    <tr>\n",
       "      <th>1</th>\n",
       "      <td>7</td>\n",
       "      <td>2</td>\n",
       "      <td>2</td>\n",
       "      <td>-139.8510</td>\n",
       "      <td>-6.46568</td>\n",
       "      <td>-1502.0</td>\n",
       "      <td>0.046183</td>\n",
       "      <td>-0.998933</td>\n",
       "      <td>0.0</td>\n",
       "      <td>-0.998933</td>\n",
       "      <td>...</td>\n",
       "      <td>0.0</td>\n",
       "      <td>0</td>\n",
       "      <td>0</td>\n",
       "      <td>-1</td>\n",
       "      <td>0.15</td>\n",
       "      <td>8.4</td>\n",
       "      <td>8.4</td>\n",
       "      <td>36</td>\n",
       "      <td>0.05</td>\n",
       "      <td>0.05625</td>\n",
       "    </tr>\n",
       "    <tr>\n",
       "      <th>2</th>\n",
       "      <td>7</td>\n",
       "      <td>2</td>\n",
       "      <td>3</td>\n",
       "      <td>-138.6570</td>\n",
       "      <td>-19.34190</td>\n",
       "      <td>-1498.0</td>\n",
       "      <td>0.138156</td>\n",
       "      <td>-0.990410</td>\n",
       "      <td>0.0</td>\n",
       "      <td>-0.990410</td>\n",
       "      <td>...</td>\n",
       "      <td>0.0</td>\n",
       "      <td>0</td>\n",
       "      <td>0</td>\n",
       "      <td>-1</td>\n",
       "      <td>0.15</td>\n",
       "      <td>8.4</td>\n",
       "      <td>8.4</td>\n",
       "      <td>36</td>\n",
       "      <td>0.05</td>\n",
       "      <td>0.05625</td>\n",
       "    </tr>\n",
       "    <tr>\n",
       "      <th>3</th>\n",
       "      <td>7</td>\n",
       "      <td>2</td>\n",
       "      <td>4</td>\n",
       "      <td>-64.1764</td>\n",
       "      <td>-15.40740</td>\n",
       "      <td>-1498.0</td>\n",
       "      <td>0.233445</td>\n",
       "      <td>-0.972370</td>\n",
       "      <td>0.0</td>\n",
       "      <td>-0.972370</td>\n",
       "      <td>...</td>\n",
       "      <td>0.0</td>\n",
       "      <td>0</td>\n",
       "      <td>0</td>\n",
       "      <td>-1</td>\n",
       "      <td>0.15</td>\n",
       "      <td>8.4</td>\n",
       "      <td>8.4</td>\n",
       "      <td>36</td>\n",
       "      <td>0.05</td>\n",
       "      <td>0.05625</td>\n",
       "    </tr>\n",
       "    <tr>\n",
       "      <th>4</th>\n",
       "      <td>7</td>\n",
       "      <td>2</td>\n",
       "      <td>5</td>\n",
       "      <td>-136.2810</td>\n",
       "      <td>-32.05310</td>\n",
       "      <td>-1502.0</td>\n",
       "      <td>0.228951</td>\n",
       "      <td>-0.973438</td>\n",
       "      <td>0.0</td>\n",
       "      <td>-0.973438</td>\n",
       "      <td>...</td>\n",
       "      <td>0.0</td>\n",
       "      <td>0</td>\n",
       "      <td>0</td>\n",
       "      <td>-1</td>\n",
       "      <td>0.15</td>\n",
       "      <td>8.4</td>\n",
       "      <td>8.4</td>\n",
       "      <td>36</td>\n",
       "      <td>0.05</td>\n",
       "      <td>0.05625</td>\n",
       "    </tr>\n",
       "  </tbody>\n",
       "</table>\n",
       "<p>5 rows × 21 columns</p>\n",
       "</div>"
      ],
      "text/plain": [
       "   volume_id  layer_id  module_id        cx        cy      cz    rot_xu  \\\n",
       "0          7         2          1  -65.7965  -5.17830 -1502.5  0.078459   \n",
       "1          7         2          2 -139.8510  -6.46568 -1502.0  0.046183   \n",
       "2          7         2          3 -138.6570 -19.34190 -1498.0  0.138156   \n",
       "3          7         2          4  -64.1764 -15.40740 -1498.0  0.233445   \n",
       "4          7         2          5 -136.2810 -32.05310 -1502.0  0.228951   \n",
       "\n",
       "     rot_xv  rot_xw    rot_yu   ...     rot_yw  rot_zu  rot_zv  rot_zw  \\\n",
       "0 -0.996917     0.0 -0.996917   ...        0.0       0       0      -1   \n",
       "1 -0.998933     0.0 -0.998933   ...        0.0       0       0      -1   \n",
       "2 -0.990410     0.0 -0.990410   ...        0.0       0       0      -1   \n",
       "3 -0.972370     0.0 -0.972370   ...        0.0       0       0      -1   \n",
       "4 -0.973438     0.0 -0.973438   ...        0.0       0       0      -1   \n",
       "\n",
       "   module_t  module_minhu  module_maxhu  module_hv  pitch_u  pitch_v  \n",
       "0      0.15           8.4           8.4         36     0.05  0.05625  \n",
       "1      0.15           8.4           8.4         36     0.05  0.05625  \n",
       "2      0.15           8.4           8.4         36     0.05  0.05625  \n",
       "3      0.15           8.4           8.4         36     0.05  0.05625  \n",
       "4      0.15           8.4           8.4         36     0.05  0.05625  \n",
       "\n",
       "[5 rows x 21 columns]"
      ]
     },
     "execution_count": 64,
     "metadata": {},
     "output_type": "execute_result"
    }
   ],
   "source": [
    "det = pd.read_csv('input/detectors.csv')\n",
    "det.head()"
   ]
  },
  {
   "cell_type": "code",
   "execution_count": 91,
   "metadata": {},
   "outputs": [
    {
     "name": "stdout",
     "output_type": "stream",
     "text": [
      "volume # 7 has 7 layers and total 756 modules\n",
      "volume # 8 has 4 layers and total 2492 modules\n",
      "volume # 9 has 7 layers and total 756 modules\n",
      "volume # 12 has 6 layers and total 1020 modules\n",
      "volume # 13 has 4 layers and total 5796 modules\n",
      "volume # 14 has 6 layers and total 1020 modules\n",
      "volume # 16 has 6 layers and total 588 modules\n",
      "volume # 17 has 2 layers and total 5712 modules\n",
      "volume # 18 has 6 layers and total 588 modules\n"
     ]
    }
   ],
   "source": [
    "volume_groups = det.groupby(['volume_id'])\n",
    "det_data = []\n",
    "for v in np.unique(det['volume_id']):\n",
    "    layers = np.unique(volume_groups.get_group(v)['layer_id'])\n",
    "\n",
    "    layer_groups = det.groupby(['volume_id', 'layer_id'])\n",
    "    total_modules = 0\n",
    "    for layer in layers:\n",
    "        modules = layer_groups.get_group((v,layer))['module_id']\n",
    "        total_modules += len(modules)\n",
    "    info = [v, len(layers), total_modules]\n",
    "    print(\"volume # {} has {} layers and total {} modules\".format(*info))\n",
    "    det_data.append(info)"
   ]
  },
  {
   "cell_type": "code",
   "execution_count": 92,
   "metadata": {},
   "outputs": [],
   "source": [
    "df_det_data = pd.DataFrame(data=det_data)"
   ]
  },
  {
   "cell_type": "code",
   "execution_count": 94,
   "metadata": {},
   "outputs": [
    {
     "name": "stdout",
     "output_type": "stream",
     "text": [
      "total 48 layers and total 18728 modules\n"
     ]
    }
   ],
   "source": [
    "print(\"total {} layers and total {} modules\".format(df_det_data[1].sum(), df_det_data[2].sum()))"
   ]
  },
  {
   "cell_type": "code",
   "execution_count": 95,
   "metadata": {},
   "outputs": [
    {
     "data": {
      "text/html": [
       "<div>\n",
       "<style scoped>\n",
       "    .dataframe tbody tr th:only-of-type {\n",
       "        vertical-align: middle;\n",
       "    }\n",
       "\n",
       "    .dataframe tbody tr th {\n",
       "        vertical-align: top;\n",
       "    }\n",
       "\n",
       "    .dataframe thead th {\n",
       "        text-align: right;\n",
       "    }\n",
       "</style>\n",
       "<table border=\"1\" class=\"dataframe\">\n",
       "  <thead>\n",
       "    <tr style=\"text-align: right;\">\n",
       "      <th></th>\n",
       "      <th>0</th>\n",
       "      <th>1</th>\n",
       "      <th>2</th>\n",
       "    </tr>\n",
       "  </thead>\n",
       "  <tbody>\n",
       "    <tr>\n",
       "      <th>0</th>\n",
       "      <td>7</td>\n",
       "      <td>7</td>\n",
       "      <td>756</td>\n",
       "    </tr>\n",
       "    <tr>\n",
       "      <th>1</th>\n",
       "      <td>8</td>\n",
       "      <td>4</td>\n",
       "      <td>2492</td>\n",
       "    </tr>\n",
       "    <tr>\n",
       "      <th>2</th>\n",
       "      <td>9</td>\n",
       "      <td>7</td>\n",
       "      <td>756</td>\n",
       "    </tr>\n",
       "    <tr>\n",
       "      <th>3</th>\n",
       "      <td>12</td>\n",
       "      <td>6</td>\n",
       "      <td>1020</td>\n",
       "    </tr>\n",
       "    <tr>\n",
       "      <th>4</th>\n",
       "      <td>13</td>\n",
       "      <td>4</td>\n",
       "      <td>5796</td>\n",
       "    </tr>\n",
       "    <tr>\n",
       "      <th>5</th>\n",
       "      <td>14</td>\n",
       "      <td>6</td>\n",
       "      <td>1020</td>\n",
       "    </tr>\n",
       "    <tr>\n",
       "      <th>6</th>\n",
       "      <td>16</td>\n",
       "      <td>6</td>\n",
       "      <td>588</td>\n",
       "    </tr>\n",
       "    <tr>\n",
       "      <th>7</th>\n",
       "      <td>17</td>\n",
       "      <td>2</td>\n",
       "      <td>5712</td>\n",
       "    </tr>\n",
       "    <tr>\n",
       "      <th>8</th>\n",
       "      <td>18</td>\n",
       "      <td>6</td>\n",
       "      <td>588</td>\n",
       "    </tr>\n",
       "  </tbody>\n",
       "</table>\n",
       "</div>"
      ],
      "text/plain": [
       "    0  1     2\n",
       "0   7  7   756\n",
       "1   8  4  2492\n",
       "2   9  7   756\n",
       "3  12  6  1020\n",
       "4  13  4  5796\n",
       "5  14  6  1020\n",
       "6  16  6   588\n",
       "7  17  2  5712\n",
       "8  18  6   588"
      ]
     },
     "execution_count": 95,
     "metadata": {},
     "output_type": "execute_result"
    }
   ],
   "source": [
    "df_det_data"
   ]
  },
  {
   "cell_type": "code",
   "execution_count": 96,
   "metadata": {},
   "outputs": [
    {
     "ename": "ValueError",
     "evalue": "dictionary update sequence element #0 has length 3; 2 is required",
     "output_type": "error",
     "traceback": [
      "\u001b[0;31m---------------------------------------------------------------------------\u001b[0m",
      "\u001b[0;31mValueError\u001b[0m                                Traceback (most recent call last)",
      "\u001b[0;32m<ipython-input-96-5a99eda59e77>\u001b[0m in \u001b[0;36m<module>\u001b[0;34m()\u001b[0m\n\u001b[0;32m----> 1\u001b[0;31m \u001b[0mdet_dic\u001b[0m \u001b[0;34m=\u001b[0m \u001b[0mdict\u001b[0m\u001b[0;34m(\u001b[0m\u001b[0mdet_data\u001b[0m\u001b[0;34m)\u001b[0m\u001b[0;34m\u001b[0m\u001b[0m\n\u001b[0m\u001b[1;32m      2\u001b[0m \u001b[0mprint\u001b[0m\u001b[0;34m(\u001b[0m\u001b[0mdet_dic\u001b[0m\u001b[0;34m)\u001b[0m\u001b[0;34m\u001b[0m\u001b[0m\n",
      "\u001b[0;31mValueError\u001b[0m: dictionary update sequence element #0 has length 3; 2 is required"
     ]
    }
   ],
   "source": [
    "det_dic = dict(det_data)\n",
    "print(det_dic)"
   ]
  },
  {
   "cell_type": "code",
   "execution_count": null,
   "metadata": {},
   "outputs": [],
   "source": []
  }
 ],
 "metadata": {
  "kernelspec": {
   "display_name": "Python 3",
   "language": "python",
   "name": "python3"
  },
  "language_info": {
   "codemirror_mode": {
    "name": "ipython",
    "version": 3
   },
   "file_extension": ".py",
   "mimetype": "text/x-python",
   "name": "python",
   "nbconvert_exporter": "python",
   "pygments_lexer": "ipython3",
   "version": "3.6.2"
  }
 },
 "nbformat": 4,
 "nbformat_minor": 2
}
