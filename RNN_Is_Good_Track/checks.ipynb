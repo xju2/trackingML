{
 "cells": [
  {
   "cell_type": "code",
   "execution_count": 1,
   "metadata": {},
   "outputs": [],
   "source": [
    "import torch\n",
    "import torch.nn as nn\n",
    "import torch.nn.functional as F\n",
    "import torch.optim as optim\n",
    "\n",
    "import os\n",
    "import pickle\n",
    "from sklearn import metrics\n",
    "\n",
    "import matplotlib.pyplot as plt"
   ]
  },
  {
   "cell_type": "code",
   "execution_count": 2,
   "metadata": {},
   "outputs": [],
   "source": [
    "import sys\n",
    "sys.path.insert(0, '../common')\n",
    "from utils import tunable_parameters\n",
    "from utils import device"
   ]
  },
  {
   "cell_type": "code",
   "execution_count": 3,
   "metadata": {},
   "outputs": [],
   "source": [
    "from train import input_dim\n",
    "from train import hidden_dim\n",
    "from train import batch_size\n",
    "from train import n_lstm_layers"
   ]
  },
  {
   "cell_type": "code",
   "execution_count": 4,
   "metadata": {},
   "outputs": [],
   "source": [
    "def predict_IsGoodTrack(model, input, batch_size):\n",
    "    \"\"\"\n",
    "    predict the model of IsGoodTrack\n",
    "    \"\"\"\n",
    "    with torch.no_grad():\n",
    "        input_tensor = torch.from_numpy(input)\n",
    "        input_tensor = input_tensor.expand(batch_size, *input_tensor.size())\n",
    "        input_tensor = input_tensor.to(device)\n",
    "        output = model(input_tensor.view(batch_size, -1))\n",
    "        return output[0]"
   ]
  },
  {
   "cell_type": "code",
   "execution_count": 17,
   "metadata": {},
   "outputs": [],
   "source": [
    "def get_roc(model, real_tracks, fake_tracks):\n",
    "    y = []\n",
    "    scores = []\n",
    "    for real_track in real_tracks[:1000]:\n",
    "        output = predict_IsGoodTrack(model, real_track, batch_size)\n",
    "        scores.append(output)\n",
    "        y.append(1)\n",
    "\n",
    "    for fake_track in fake_tracks[:1000]:\n",
    "        output = predict_IsGoodTrack(model, fake_track, batch_size)\n",
    "        if output is None:\n",
    "            continue\n",
    "        scores.append(output)\n",
    "        y.append(0)\n",
    "\n",
    "\n",
    "    fpr, tpr, thresholds = metrics.roc_curve(y, scores)\n",
    "    plt.plot(fpr, tpr)\n",
    "    plt.plot([0, 1], [0, 1], 'k--')\n",
    "    plt.xlim(0., 1.0)\n",
    "    plt.ylim(0., 1.0)\n",
    "    plt.xlabel('False Positive Rate')\n",
    "    plt.ylabel('True Positive Rate')\n",
    "    plt.savefig(\"roc.png\")\n",
    "    print(\"scores:\", metrics.roc_auc_score(y, scores))"
   ]
  },
  {
   "cell_type": "code",
   "execution_count": 23,
   "metadata": {},
   "outputs": [],
   "source": [
    "from is_good_track import IsGoodTrack\n",
    "from process_data import get_real_tracks\n",
    "from process_data import get_fake_tracks\n",
    "from process_data import random_inputs\n",
    "\n",
    "def check(options):\n",
    "    # create RNN model\n",
    "    model = IsGoodTrack(input_dim, hidden_dim,\n",
    "                        batch_size=batch_size,\n",
    "                        n_lstm_layers=n_lstm_layers,\n",
    "                        device=device)\n",
    "    model.to(device)\n",
    "    model.hidden = model.init_hidden()\n",
    "    print(\"total parameters:\", tunable_parameters(model))\n",
    "    print(model.hidden[0].type())\n",
    "\n",
    "    model_name = os.path.join(options.output, 'model_isgoodtrack')\n",
    "    model.load_state_dict(torch.load(model_name))\n",
    "\n",
    "\n",
    "    # test with another event!\n",
    "    real_tracks_out_name = os.path.join(options.output, 'reak_tracks_pad_e2.pkl')\n",
    "    fake_tracks_out_name = os.path.join(options.output, 'fake_tracks_pad_e2.pkl')\n",
    "    \n",
    "    if os.path.exists(real_tracks_out_name):\n",
    "        real_tracks = pickle.load(open(real_tracks_out_name, 'rb'))\n",
    "        fake_tracks = pickle.load(open(fake_tracks_out_name, 'rb'))\n",
    "    else:\n",
    "        real_tracks = get_real_tracks(options.event)\n",
    "        fake_tracks = get_fake_tracks(options.event, real_tracks.shape[0])\n",
    "        # save the two dataset\n",
    "        with open(fake_tracks_out_name, 'wb') as fp:\n",
    "            pickle.dump(fake_tracks, fp)\n",
    "\n",
    "        with open(real_tracks_out_name, 'wb') as fp:\n",
    "            pickle.dump(real_tracks, fp)\n",
    "    \n",
    "    real_tracks = pickle.load(open(real_tracks_out_name, 'rb'))\n",
    "    fake_tracks = pickle.load(open(fake_tracks_out_name, 'rb'))\n",
    "\n",
    "    get_roc(model, real_tracks, fake_tracks)"
   ]
  },
  {
   "cell_type": "code",
   "execution_count": 24,
   "metadata": {},
   "outputs": [],
   "source": [
    "from collections import namedtuple\n",
    "Options = namedtuple('Options', ['output', 'event'])"
   ]
  },
  {
   "cell_type": "code",
   "execution_count": null,
   "metadata": {},
   "outputs": [
    {
     "name": "stdout",
     "output_type": "stream",
     "text": [
      "total parameters: 89701\n",
      "torch.FloatTensor\n"
     ]
    }
   ],
   "source": [
    "options = Options(output='output', event='../ipynb/input/train_1/event000001001')\n",
    "check(options)"
   ]
  },
  {
   "cell_type": "code",
   "execution_count": 21,
   "metadata": {},
   "outputs": [
    {
     "data": {
      "text/plain": [
       "[<matplotlib.lines.Line2D at 0x2b095776b358>]"
      ]
     },
     "execution_count": 21,
     "metadata": {},
     "output_type": "execute_result"
    },
    {
     "data": {
      "image/png": "[encoded data removed]",
      "text/plain": [
       "<Figure size 432x288 with 1 Axes>"
      ]
     },
     "metadata": {},
     "output_type": "display_data"
    }
   ],
   "source": [
    "loss = pickle.load(open(os.path.join(options.output, 'loss_2.pkl'), 'rb'))\n",
    "plt.plot(loss)"
   ]
  },
  {
   "cell_type": "code",
   "execution_count": null,
   "metadata": {},
   "outputs": [],
   "source": []
  }
 ],
 "metadata": {
  "kernelspec": {
   "display_name": "TrackPy3.6",
   "language": "python",
   "name": "trackkernel"
  },
  "language_info": {
   "codemirror_mode": {
    "name": "ipython",
    "version": 3
   },
   "file_extension": ".py",
   "mimetype": "text/x-python",
   "name": "python",
   "nbconvert_exporter": "python",
   "pygments_lexer": "ipython3",
   "version": "3.6.5"
  }
 },
 "nbformat": 4,
 "nbformat_minor": 2
}
