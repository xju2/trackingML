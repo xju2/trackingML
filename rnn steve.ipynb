{
 "cells": [
  {
   "cell_type": "markdown",
   "metadata": {},
   "source": [
    "### Predict next track using RNN from Steve"
   ]
  },
  {
   "cell_type": "code",
   "execution_count": 1,
   "metadata": {},
   "outputs": [],
   "source": [
    "from __future__ import print_function\n",
    "import torch\n",
    "import torch.nn as nn\n",
    "import torch.nn.functional as F\n",
    "import torch.optim as optim"
   ]
  },
  {
   "cell_type": "code",
   "execution_count": 2,
   "metadata": {},
   "outputs": [],
   "source": [
    "from trackml.dataset import load_event\n",
    "from trackml.randomize import shuffle_hits\n",
    "from trackml.score import score_event"
   ]
  },
  {
   "cell_type": "code",
   "execution_count": 3,
   "metadata": {},
   "outputs": [],
   "source": [
    "import os\n",
    "import numpy as np\n",
    "import pandas as pd\n",
    "import glob\n",
    "import math\n",
    "\n",
    "\n",
    "import time\n",
    "from utils import timeSince\n",
    "from tqdm import tqdm"
   ]
  },
  {
   "cell_type": "code",
   "execution_count": 70,
   "metadata": {},
   "outputs": [],
   "source": [
    "class HitGausPredictor(nn.Module):\n",
    "    \"\"\"\n",
    "    A PyTorch module for particle track state estimation and hit prediction.\n",
    "\n",
    "    This module is an RNN which takes a sequence of hits and produces a\n",
    "    Gaussian shaped prediction for the location of the next hit.\n",
    "    \"\"\"\n",
    "\n",
    "    def __init__(self, hidden_dim=5, batch_size=64, device=None):\n",
    "        super(HitGausPredictor, self).__init__()\n",
    "        input_dim = 3\n",
    "        output_dim = 2\n",
    "        self.lstm = nn.LSTM(input_dim, hidden_dim, batch_first=True)\n",
    "        out_size = int(output_dim * (output_dim + 3) / 2)\n",
    "        self.fc = nn.Linear(hidden_dim, out_size)\n",
    "        self.device = device\n",
    "        self.batch_size = batch_size\n",
    "        \n",
    "\n",
    "    def forward(self, x):\n",
    "        \"\"\"Might want to accept also the radius of the target layer.\"\"\"\n",
    "        input_size = x.size()\n",
    "\n",
    "        # Initialize the LSTM hidden state\n",
    "        h = (torch.zeros(self.lstm.num_layers, self.batch_size, self.lstm.hidden_size, device=self.device),\n",
    "             torch.zeros(self.lstm.num_layers, self.batch_size, self.lstm.hidden_size, device=self.device))\n",
    "        # Apply the LSTM module\n",
    "        x, h = self.lstm(x, h)\n",
    "        # Squash layer axis into batch axis\n",
    "        x = x.contiguous().view(-1, x.size(-1))\n",
    "#         x = x.contiguous().view(self.batch_size, -1, x.size(-1))\n",
    "        # Apply linear layer\n",
    "        output = self.fc(x)\n",
    "\n",
    "        # Extract and transform the gaussian parameters\n",
    "        means = output[:, :2]\n",
    "        variances = output[:, 2:4].exp()\n",
    "        correlations = output[:, 4].tanh()\n",
    "\n",
    "        # Construct the covariance matrix\n",
    "        covs = torch.bmm(variances[:, :, None], variances[:, None, :]).sqrt()\n",
    "#         covs = torch.bmm(variances, variances.view(self.batch_size, 2, -1)).sqrt()\n",
    "#         print(covs.size())\n",
    "#         print(correlations.size())\n",
    "        covs[:, 0, 1] = covs[:, 0, 1].clone() * correlations\n",
    "        covs[:, 1, 0] = covs[:, 1, 0].clone() * correlations\n",
    "\n",
    "        # Expand the layer axis again, just for consistency/interpretability\n",
    "        means = means.contiguous().view(self.batch_size, -1, 2)\n",
    "        covs = covs.contiguous().view(self.batch_size, -1, 2, 2)\n",
    "        return means, covs"
   ]
  },
  {
   "cell_type": "code",
   "execution_count": 76,
   "metadata": {},
   "outputs": [],
   "source": [
    "def gaus_llh_loss(outputs, targets):\n",
    "    \"\"\"Custom gaussian log-likelihood loss function\"\"\"\n",
    "    means, covs = outputs\n",
    "    means = means[:, 1:, :]\n",
    "    covs = covs[:, 1:, :, :]\n",
    "    print(means.size())\n",
    "    print(covs.size())\n",
    "    # Flatten layer axis into batch axis to use batch matrix operations\n",
    "    means = means.contiguous().view(means.size(0)*means.size(1), means.size(2))\n",
    "    covs = covs.contiguous().view(covs.size(0)*covs.size(1),\n",
    "                                  covs.size(2), covs.size(3))\n",
    "    targets = targets.contiguous().view(targets.size(0)*targets.size(1),\n",
    "                                        targets.size(2))\n",
    "    # Calculate the inverses of the covariance matrices\n",
    "    inv_covs = torch.stack([cov.inverse() for cov in covs])\n",
    "    # Calculate the residual error\n",
    "    res = targets - means\n",
    "    # Calculate the residual error term\n",
    "    res_right = torch.bmm(inv_covs, res.unsqueeze(-1)).squeeze(-1)\n",
    "    res_term = torch.bmm(res[:,None,:], res_right[:,:,None]).squeeze()\n",
    "    # For the determinant term, we first have to compute the cholesky roots.\n",
    "    # Testing out new differentiable functionality in pytorch 0.3\n",
    "    diag_chols = torch.stack([torch.potrf(cov).diag() for cov in covs])\n",
    "    #diag_chols = torch.stack([Cholesky.apply(cov).diag() for cov in covs])\n",
    "    log_det = diag_chols.log().sum(1) * 2\n",
    "    gllh_loss = (res_term + log_det).sum()\n",
    "    return gllh_loss"
   ]
  },
  {
   "cell_type": "code",
   "execution_count": 6,
   "metadata": {},
   "outputs": [],
   "source": [
    "event_prefix = 'event000001000'\n",
    "hits, cells, particles, truth = load_event(os.path.join('input/train_1', event_prefix))"
   ]
  },
  {
   "cell_type": "code",
   "execution_count": 7,
   "metadata": {},
   "outputs": [],
   "source": [
    "pIDs = particles[particles['nhits'] == 10]['particle_id']"
   ]
  },
  {
   "cell_type": "code",
   "execution_count": 8,
   "metadata": {},
   "outputs": [
    {
     "data": {
      "text/plain": [
       "1037"
      ]
     },
     "execution_count": 8,
     "metadata": {},
     "output_type": "execute_result"
    }
   ],
   "source": [
    "len(pIDs)"
   ]
  },
  {
   "cell_type": "code",
   "execution_count": 9,
   "metadata": {},
   "outputs": [],
   "source": [
    "hits_truth = pd.merge(hits, truth, on=['hit_id'])"
   ]
  },
  {
   "cell_type": "code",
   "execution_count": 10,
   "metadata": {},
   "outputs": [],
   "source": [
    "from utils import get_features\n",
    "hits_truth = get_features(hits_truth)"
   ]
  },
  {
   "cell_type": "code",
   "execution_count": 10,
   "metadata": {},
   "outputs": [],
   "source": [
    "hits_truth = hits_truth[ (hits_truth['eta'] < 1) & (hits_truth['eta'] > -1) ]"
   ]
  },
  {
   "cell_type": "code",
   "execution_count": 11,
   "metadata": {},
   "outputs": [
    {
     "data": {
      "text/plain": [
       "(36655, 24)"
      ]
     },
     "execution_count": 11,
     "metadata": {},
     "output_type": "execute_result"
    }
   ],
   "source": [
    "hits_truth.shape"
   ]
  },
  {
   "cell_type": "code",
   "execution_count": 15,
   "metadata": {},
   "outputs": [],
   "source": [
    "ten_hits = pd.merge(truth, particles[particles['nhits'] == 10], on=['particle_id'])"
   ]
  },
  {
   "cell_type": "code",
   "execution_count": 16,
   "metadata": {},
   "outputs": [],
   "source": [
    "hits_truth = pd.merge(hits, truth, on=['hit_id'])"
   ]
  },
  {
   "cell_type": "code",
   "execution_count": 20,
   "metadata": {},
   "outputs": [],
   "source": [
    "hits_truth = get_features(hits_truth)"
   ]
  },
  {
   "cell_type": "code",
   "execution_count": 16,
   "metadata": {},
   "outputs": [
    {
     "data": {
      "text/html": [
       "<div>\n",
       "<style scoped>\n",
       "    .dataframe tbody tr th:only-of-type {\n",
       "        vertical-align: middle;\n",
       "    }\n",
       "\n",
       "    .dataframe tbody tr th {\n",
       "        vertical-align: top;\n",
       "    }\n",
       "\n",
       "    .dataframe thead th {\n",
       "        text-align: right;\n",
       "    }\n",
       "</style>\n",
       "<table border=\"1\" class=\"dataframe\">\n",
       "  <thead>\n",
       "    <tr style=\"text-align: right;\">\n",
       "      <th></th>\n",
       "      <th>particle_id</th>\n",
       "      <th>vx</th>\n",
       "      <th>vy</th>\n",
       "      <th>vz</th>\n",
       "      <th>px</th>\n",
       "      <th>py</th>\n",
       "      <th>pz</th>\n",
       "      <th>q</th>\n",
       "      <th>nhits</th>\n",
       "    </tr>\n",
       "  </thead>\n",
       "  <tbody>\n",
       "    <tr>\n",
       "      <th>12</th>\n",
       "      <td>4504699138998272</td>\n",
       "      <td>-0.009288</td>\n",
       "      <td>0.009861</td>\n",
       "      <td>-0.077879</td>\n",
       "      <td>0.079537</td>\n",
       "      <td>0.451322</td>\n",
       "      <td>-5.25235</td>\n",
       "      <td>1</td>\n",
       "      <td>10</td>\n",
       "    </tr>\n",
       "  </tbody>\n",
       "</table>\n",
       "</div>"
      ],
      "text/plain": [
       "         particle_id        vx        vy        vz        px        py  \\\n",
       "12  4504699138998272 -0.009288  0.009861 -0.077879  0.079537  0.451322   \n",
       "\n",
       "         pz  q  nhits  \n",
       "12 -5.25235  1     10  "
      ]
     },
     "execution_count": 16,
     "metadata": {},
     "output_type": "execute_result"
    }
   ],
   "source": [
    "particles[particles['particle_id'] == 4504699138998272]"
   ]
  },
  {
   "cell_type": "code",
   "execution_count": 20,
   "metadata": {},
   "outputs": [
    {
     "data": {
      "text/plain": [
       "0"
      ]
     },
     "execution_count": 20,
     "metadata": {},
     "output_type": "execute_result"
    }
   ],
   "source": [
    "hits_truth[hits_truth['particle_id'] == 4504699138998272].values.shape[0]"
   ]
  },
  {
   "cell_type": "code",
   "execution_count": 17,
   "metadata": {},
   "outputs": [],
   "source": [
    "pIDs = np.unique(hits_truth['particle_id'])"
   ]
  },
  {
   "cell_type": "code",
   "execution_count": 11,
   "metadata": {},
   "outputs": [],
   "source": [
    "track_list = []\n",
    "for pID in pIDs:\n",
    "    if pID == 0:\n",
    "        continue\n",
    "    this_track = hits_truth[hits_truth['particle_id'] == pID][['r', 'phi', 'z']].values\n",
    "    track_list.append(this_track)\n"
   ]
  },
  {
   "cell_type": "code",
   "execution_count": 50,
   "metadata": {},
   "outputs": [
    {
     "data": {
      "text/plain": [
       "(64, 9, 2)"
      ]
     },
     "execution_count": 50,
     "metadata": {},
     "output_type": "execute_result"
    }
   ],
   "source": [
    "np.array(track_list[0:64])[:, 1:, :2].shape"
   ]
  },
  {
   "cell_type": "code",
   "execution_count": 25,
   "metadata": {},
   "outputs": [],
   "source": [
    "input_t = torch.from_numpy(np.array(track_list[0:64]))"
   ]
  },
  {
   "cell_type": "code",
   "execution_count": 51,
   "metadata": {},
   "outputs": [],
   "source": [
    "target_t = torch.from_numpy(np.array(track_list[0:64])[:, 1:, :2])"
   ]
  },
  {
   "cell_type": "code",
   "execution_count": 26,
   "metadata": {},
   "outputs": [
    {
     "data": {
      "text/plain": [
       "torch.Size([64, 10, 3])"
      ]
     },
     "execution_count": 26,
     "metadata": {},
     "output_type": "execute_result"
    }
   ],
   "source": [
    "input_t.size()"
   ]
  },
  {
   "cell_type": "code",
   "execution_count": 80,
   "metadata": {},
   "outputs": [
    {
     "data": {
      "text/plain": [
       "torch.Size([64, 9, 2])"
      ]
     },
     "execution_count": 80,
     "metadata": {},
     "output_type": "execute_result"
    }
   ],
   "source": [
    "target_t.size()"
   ]
  },
  {
   "cell_type": "code",
   "execution_count": 32,
   "metadata": {},
   "outputs": [],
   "source": [
    "loss_func = gaus_llh_loss"
   ]
  },
  {
   "cell_type": "code",
   "execution_count": 72,
   "metadata": {},
   "outputs": [
    {
     "name": "stdout",
     "output_type": "stream",
     "text": [
      "torch.Size([64, 10, 2])\n",
      "torch.Size([64, 10, 2, 2])\n"
     ]
    }
   ],
   "source": [
    "model = HitGausPredictor()\n",
    "output = model(input_t)\n",
    "print(output[0].size())\n",
    "print(output[1].size())"
   ]
  },
  {
   "cell_type": "code",
   "execution_count": 78,
   "metadata": {},
   "outputs": [
    {
     "name": "stdout",
     "output_type": "stream",
     "text": [
      "torch.Size([64, 9, 2])\n",
      "torch.Size([64, 9, 2, 2])\n"
     ]
    },
    {
     "data": {
      "text/plain": [
       "tensor(4.9554e+08)"
      ]
     },
     "execution_count": 78,
     "metadata": {},
     "output_type": "execute_result"
    }
   ],
   "source": [
    "gaus_llh_loss(output, target_t)"
   ]
  },
  {
   "cell_type": "code",
   "execution_count": null,
   "metadata": {},
   "outputs": [],
   "source": [
    "particles[particles['nhits'] == 10]"
   ]
  },
  {
   "cell_type": "code",
   "execution_count": null,
   "metadata": {},
   "outputs": [],
   "source": []
  }
 ],
 "metadata": {
  "kernelspec": {
   "display_name": "Python 3",
   "language": "python",
   "name": "python3"
  },
  "language_info": {
   "codemirror_mode": {
    "name": "ipython",
    "version": 3
   },
   "file_extension": ".py",
   "mimetype": "text/x-python",
   "name": "python",
   "nbconvert_exporter": "python",
   "pygments_lexer": "ipython3",
   "version": "3.6.2"
  }
 },
 "nbformat": 4,
 "nbformat_minor": 2
}
