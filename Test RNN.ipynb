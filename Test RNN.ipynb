{
 "cells": [
  {
   "cell_type": "code",
   "execution_count": 1,
   "metadata": {},
   "outputs": [],
   "source": [
    "import torch\n",
    "import torch.nn as nn\n",
    "import torch.nn.functional as F\n",
    "import torch.optim as optim\n",
    "\n",
    "import os\n",
    "import numpy as np\n",
    "import pandas as pd\n",
    "import glob\n",
    "import math\n",
    "\n",
    "from scipy.stats import norm"
   ]
  },
  {
   "cell_type": "code",
   "execution_count": 2,
   "metadata": {},
   "outputs": [],
   "source": [
    "import matplotlib.pyplot as plt\n",
    "from mpl_toolkits.mplot3d import Axes3D\n",
    "import seaborn as sns\n",
    "%matplotlib inline"
   ]
  },
  {
   "cell_type": "code",
   "execution_count": 3,
   "metadata": {},
   "outputs": [],
   "source": [
    "from process_data import data_uID\n",
    "data = data_uID()"
   ]
  },
  {
   "cell_type": "code",
   "execution_count": 4,
   "metadata": {},
   "outputs": [],
   "source": [
    "path = 'ipynb/input/train_1/event000001000'"
   ]
  },
  {
   "cell_type": "code",
   "execution_count": 5,
   "metadata": {},
   "outputs": [],
   "source": [
    "data.load_training(path=path)"
   ]
  },
  {
   "cell_type": "code",
   "execution_count": 6,
   "metadata": {},
   "outputs": [],
   "source": [
    "from models import HitPredictor"
   ]
  },
  {
   "cell_type": "code",
   "execution_count": 12,
   "metadata": {},
   "outputs": [],
   "source": [
    "total_modules = 763"
   ]
  },
  {
   "cell_type": "code",
   "execution_count": 13,
   "metadata": {},
   "outputs": [],
   "source": [
    "rnn = HitPredictor(input_dim=total_modules+1, hidden_dim=20,\n",
    "               output_dim=total_modules+1,\n",
    "               n_lstm_layers=1)"
   ]
  },
  {
   "cell_type": "code",
   "execution_count": 14,
   "metadata": {},
   "outputs": [],
   "source": [
    "from trackml.score import score_event"
   ]
  },
  {
   "cell_type": "code",
   "execution_count": 16,
   "metadata": {},
   "outputs": [
    {
     "ename": "RuntimeError",
     "evalue": "Error(s) in loading state_dict for HitPredictor:\n\tWhile copying the parameter named \"lstm.weight_ih_l0\", whose dimensions in the model are torch.Size([80, 764]) and whose dimensions in the checkpoint are torch.Size([2048, 18729]).\n\tWhile copying the parameter named \"lstm.weight_hh_l0\", whose dimensions in the model are torch.Size([80, 20]) and whose dimensions in the checkpoint are torch.Size([2048, 512]).\n\tWhile copying the parameter named \"lstm.bias_ih_l0\", whose dimensions in the model are torch.Size([80]) and whose dimensions in the checkpoint are torch.Size([2048]).\n\tWhile copying the parameter named \"lstm.bias_hh_l0\", whose dimensions in the model are torch.Size([80]) and whose dimensions in the checkpoint are torch.Size([2048]).\n\tWhile copying the parameter named \"fc.weight\", whose dimensions in the model are torch.Size([764, 20]) and whose dimensions in the checkpoint are torch.Size([18729, 512]).\n\tWhile copying the parameter named \"fc.bias\", whose dimensions in the model are torch.Size([764]) and whose dimensions in the checkpoint are torch.Size([18729]).",
     "output_type": "error",
     "traceback": [
      "\u001b[0;31m---------------------------------------------------------------------------\u001b[0m",
      "\u001b[0;31mRuntimeError\u001b[0m                              Traceback (most recent call last)",
      "\u001b[0;32m<ipython-input-16-581f38c4a22c>\u001b[0m in \u001b[0;36m<module>\u001b[0;34m()\u001b[0m\n\u001b[0;32m----> 1\u001b[0;31m \u001b[0mrnn\u001b[0m\u001b[0;34m.\u001b[0m\u001b[0mload_state_dict\u001b[0m\u001b[0;34m(\u001b[0m\u001b[0mtorch\u001b[0m\u001b[0;34m.\u001b[0m\u001b[0mload\u001b[0m\u001b[0;34m(\u001b[0m\u001b[0;34m'ipynb/output/model/trained_1event_rnn_model'\u001b[0m\u001b[0;34m)\u001b[0m\u001b[0;34m)\u001b[0m\u001b[0;34m\u001b[0m\u001b[0m\n\u001b[0m",
      "\u001b[0;32m/global/project/projectdirs/m1092/xju/miniconda3/envs/py3.6/lib/python3.6/site-packages/torch/nn/modules/module.py\u001b[0m in \u001b[0;36mload_state_dict\u001b[0;34m(self, state_dict, strict)\u001b[0m\n\u001b[1;32m    719\u001b[0m         \u001b[0;32mif\u001b[0m \u001b[0mlen\u001b[0m\u001b[0;34m(\u001b[0m\u001b[0merror_msgs\u001b[0m\u001b[0;34m)\u001b[0m \u001b[0;34m>\u001b[0m \u001b[0;36m0\u001b[0m\u001b[0;34m:\u001b[0m\u001b[0;34m\u001b[0m\u001b[0m\n\u001b[1;32m    720\u001b[0m             raise RuntimeError('Error(s) in loading state_dict for {}:\\n\\t{}'.format(\n\u001b[0;32m--> 721\u001b[0;31m                                self.__class__.__name__, \"\\n\\t\".join(error_msgs)))\n\u001b[0m\u001b[1;32m    722\u001b[0m \u001b[0;34m\u001b[0m\u001b[0m\n\u001b[1;32m    723\u001b[0m     \u001b[0;32mdef\u001b[0m \u001b[0mparameters\u001b[0m\u001b[0;34m(\u001b[0m\u001b[0mself\u001b[0m\u001b[0;34m)\u001b[0m\u001b[0;34m:\u001b[0m\u001b[0;34m\u001b[0m\u001b[0m\n",
      "\u001b[0;31mRuntimeError\u001b[0m: Error(s) in loading state_dict for HitPredictor:\n\tWhile copying the parameter named \"lstm.weight_ih_l0\", whose dimensions in the model are torch.Size([80, 764]) and whose dimensions in the checkpoint are torch.Size([2048, 18729]).\n\tWhile copying the parameter named \"lstm.weight_hh_l0\", whose dimensions in the model are torch.Size([80, 20]) and whose dimensions in the checkpoint are torch.Size([2048, 512]).\n\tWhile copying the parameter named \"lstm.bias_ih_l0\", whose dimensions in the model are torch.Size([80]) and whose dimensions in the checkpoint are torch.Size([2048]).\n\tWhile copying the parameter named \"lstm.bias_hh_l0\", whose dimensions in the model are torch.Size([80]) and whose dimensions in the checkpoint are torch.Size([2048]).\n\tWhile copying the parameter named \"fc.weight\", whose dimensions in the model are torch.Size([764, 20]) and whose dimensions in the checkpoint are torch.Size([18729, 512]).\n\tWhile copying the parameter named \"fc.bias\", whose dimensions in the model are torch.Size([764]) and whose dimensions in the checkpoint are torch.Size([18729])."
     ]
    }
   ],
   "source": [
    "rnn.load_state_dict(torch.load('ipynb/output/model/trained_1event_rnn_model'))"
   ]
  },
  {
   "cell_type": "code",
   "execution_count": 33,
   "metadata": {},
   "outputs": [],
   "source": [
    "max_nhits = 20\n",
    "def input_hits(series):\n",
    "    tensor = torch.zeros(len(series), 1, total_modules+1)\n",
    "    for idx, h in enumerate(series):\n",
    "        tensor[idx][0][int(h)] = 1\n",
    "    return tensor\n",
    "    \n",
    "def check_trainingPredictor(start_hit):\n",
    "    with torch.no_grad():\n",
    "        input_tensor = input_hits(start_hit)\n",
    "        rnn.hidden = rnn.init_hidden()\n",
    "        out_hits = start_hit\n",
    "        for i in range(max_nhits):\n",
    "            output = rnn(input_tensor)\n",
    "            topv, topi = output.topk(3)\n",
    "            cand = topi[0][0]\n",
    "            out_hits.append(cand.item())\n",
    "            if cand == total_modules:\n",
    "                # print(\"Hit the last hits\")\n",
    "                break\n",
    "                \n",
    "            input_tensor = input_hits([cand])\n",
    "        return out_hits"
   ]
  },
  {
   "cell_type": "code",
   "execution_count": 13,
   "metadata": {},
   "outputs": [],
   "source": [
    "def score_me(times):\n",
    "    score_list = []\n",
    "    for each in range(times):\n",
    "        a_track = data.get_a_track()\n",
    "        predict = np.unique(check_trainingPredictor(a_track[0]))\n",
    "        true_track = pd.DataFrame(data=a_track, columns=['hit_id'])\n",
    "        test_track = pd.DataFrame(data=predict, columns=['hit_id'])\n",
    "\n",
    "        test_track['track_id'] = [0]*test_track.shape[0]\n",
    "\n",
    "        true_track['particle_id'] = [0]*true_track.shape[0]\n",
    "        true_track['weight'] = [1.0]*true_track.shape[0]\n",
    "        score_list.append(score_event(true_track, test_track))\n",
    "    \n",
    "    return score_list"
   ]
  },
  {
   "cell_type": "code",
   "execution_count": 19,
   "metadata": {},
   "outputs": [],
   "source": [
    "score_list = score_me(5000)"
   ]
  },
  {
   "cell_type": "code",
   "execution_count": 24,
   "metadata": {},
   "outputs": [
    {
     "data": {
      "text/plain": [
       "(array([ 1521.,     0.,     0.,     0.,     0.,   643.,   938.,   888.,\n",
       "          526.,   484.]),\n",
       " array([ 0. ,  0.1,  0.2,  0.3,  0.4,  0.5,  0.6,  0.7,  0.8,  0.9,  1. ]),\n",
       " <a list of 10 Patch objects>)"
      ]
     },
     "execution_count": 24,
     "metadata": {},
     "output_type": "execute_result"
    },
    {
     "data": {
      "image/png": "[encoded data removed]",
      "text/plain": [
       "<matplotlib.figure.Figure at 0x1a1f42e208>"
      ]
     },
     "metadata": {},
     "output_type": "display_data"
    }
   ],
   "source": [
    "plt.hist(score_list)"
   ]
  },
  {
   "cell_type": "code",
   "execution_count": 25,
   "metadata": {},
   "outputs": [],
   "source": [
    "score_series = pd.Series(data=score_list)"
   ]
  },
  {
   "cell_type": "code",
   "execution_count": 29,
   "metadata": {},
   "outputs": [
    {
     "data": {
      "text/plain": [
       "count    3479.000000\n",
       "mean        0.733081\n",
       "std         0.129340\n",
       "min         0.529412\n",
       "25%         0.636364\n",
       "50%         0.714286\n",
       "75%         0.818182\n",
       "max         1.000000\n",
       "dtype: float64"
      ]
     },
     "execution_count": 29,
     "metadata": {},
     "output_type": "execute_result"
    }
   ],
   "source": [
    "score_series[score_series > 0].describe()"
   ]
  },
  {
   "cell_type": "code",
   "execution_count": 27,
   "metadata": {},
   "outputs": [
    {
     "data": {
      "text/plain": [
       "count    5000.000000\n",
       "mean        0.510078\n",
       "std         0.354134\n",
       "min         0.000000\n",
       "25%         0.000000\n",
       "50%         0.642857\n",
       "75%         0.769231\n",
       "max         1.000000\n",
       "dtype: float64"
      ]
     },
     "execution_count": 27,
     "metadata": {},
     "output_type": "execute_result"
    }
   ],
   "source": [
    "score_series[].describe()"
   ]
  },
  {
   "cell_type": "code",
   "execution_count": 14,
   "metadata": {},
   "outputs": [],
   "source": [
    "from trackml.dataset import load_event\n",
    "from trackml.randomize import shuffle_hits\n",
    "from trackml.score import score_event"
   ]
  },
  {
   "cell_type": "code",
   "execution_count": 15,
   "metadata": {},
   "outputs": [],
   "source": [
    "hits, cells, particles, truth = load_event(path)"
   ]
  },
  {
   "cell_type": "code",
   "execution_count": 16,
   "metadata": {},
   "outputs": [],
   "source": [
    "from utils import get_features\n",
    "from utils import make_uID\n",
    "from process_data import filter_truth"
   ]
  },
  {
   "cell_type": "code",
   "execution_count": 17,
   "metadata": {},
   "outputs": [],
   "source": [
    "hits_fea = get_features(hits)\n",
    "eta_cut = 3.2\n",
    "hits_fea = hits_fea[(hits_fea['eta'] > eta_cut) | (hits_fea['eta'] < -1*eta_cut)]\n",
    "df_uID = make_uID(hits_fea)\n",
    "hits_fea = pd.merge(hits_fea, df_uID, on=['volume_id', 'layer_id', 'module_id'])\n",
    "truth_in = hits_fea.merge(filter_truth(truth), on=['hit_id'])"
   ]
  },
  {
   "cell_type": "code",
   "execution_count": 18,
   "metadata": {},
   "outputs": [
    {
     "data": {
      "text/html": [
       "<div>\n",
       "<style scoped>\n",
       "    .dataframe tbody tr th:only-of-type {\n",
       "        vertical-align: middle;\n",
       "    }\n",
       "\n",
       "    .dataframe tbody tr th {\n",
       "        vertical-align: top;\n",
       "    }\n",
       "\n",
       "    .dataframe thead th {\n",
       "        text-align: right;\n",
       "    }\n",
       "</style>\n",
       "<table border=\"1\" class=\"dataframe\">\n",
       "  <thead>\n",
       "    <tr style=\"text-align: right;\">\n",
       "      <th></th>\n",
       "      <th>hit_id</th>\n",
       "      <th>x</th>\n",
       "      <th>y</th>\n",
       "      <th>z</th>\n",
       "      <th>volume_id</th>\n",
       "      <th>layer_id</th>\n",
       "      <th>module_id</th>\n",
       "      <th>x2</th>\n",
       "      <th>y2</th>\n",
       "      <th>z2</th>\n",
       "      <th>...</th>\n",
       "      <th>absZ</th>\n",
       "      <th>uID</th>\n",
       "      <th>particle_id</th>\n",
       "      <th>tx</th>\n",
       "      <th>ty</th>\n",
       "      <th>tz</th>\n",
       "      <th>tpx</th>\n",
       "      <th>tpy</th>\n",
       "      <th>tpz</th>\n",
       "      <th>weight</th>\n",
       "    </tr>\n",
       "  </thead>\n",
       "  <tbody>\n",
       "    <tr>\n",
       "      <th>0</th>\n",
       "      <td>2</td>\n",
       "      <td>-55.336102</td>\n",
       "      <td>0.635342</td>\n",
       "      <td>-1502.5</td>\n",
       "      <td>7</td>\n",
       "      <td>2</td>\n",
       "      <td>1</td>\n",
       "      <td>-0.036804</td>\n",
       "      <td>0.000423</td>\n",
       "      <td>-27.150467</td>\n",
       "      <td>...</td>\n",
       "      <td>1502.5</td>\n",
       "      <td>0</td>\n",
       "      <td>22525763437723648</td>\n",
       "      <td>-55.338501</td>\n",
       "      <td>0.630805</td>\n",
       "      <td>-1502.5</td>\n",
       "      <td>-0.570605</td>\n",
       "      <td>0.028390</td>\n",
       "      <td>-15.49220</td>\n",
       "      <td>0.000010</td>\n",
       "    </tr>\n",
       "    <tr>\n",
       "      <th>1</th>\n",
       "      <td>4</td>\n",
       "      <td>-96.109100</td>\n",
       "      <td>-8.241030</td>\n",
       "      <td>-1502.5</td>\n",
       "      <td>7</td>\n",
       "      <td>2</td>\n",
       "      <td>1</td>\n",
       "      <td>-0.063835</td>\n",
       "      <td>-0.005474</td>\n",
       "      <td>-15.576118</td>\n",
       "      <td>...</td>\n",
       "      <td>1502.5</td>\n",
       "      <td>0</td>\n",
       "      <td>297237712845406208</td>\n",
       "      <td>-96.122902</td>\n",
       "      <td>-8.230360</td>\n",
       "      <td>-1502.5</td>\n",
       "      <td>-0.225235</td>\n",
       "      <td>-0.050968</td>\n",
       "      <td>-3.70232</td>\n",
       "      <td>0.000008</td>\n",
       "    </tr>\n",
       "    <tr>\n",
       "      <th>2</th>\n",
       "      <td>5</td>\n",
       "      <td>-62.673599</td>\n",
       "      <td>-9.371200</td>\n",
       "      <td>-1502.5</td>\n",
       "      <td>7</td>\n",
       "      <td>2</td>\n",
       "      <td>1</td>\n",
       "      <td>-0.041676</td>\n",
       "      <td>-0.006232</td>\n",
       "      <td>-23.709833</td>\n",
       "      <td>...</td>\n",
       "      <td>1502.5</td>\n",
       "      <td>0</td>\n",
       "      <td>418835796137607168</td>\n",
       "      <td>-62.659401</td>\n",
       "      <td>-9.375040</td>\n",
       "      <td>-1502.5</td>\n",
       "      <td>-0.281806</td>\n",
       "      <td>-0.023487</td>\n",
       "      <td>-6.57318</td>\n",
       "      <td>0.000009</td>\n",
       "    </tr>\n",
       "    <tr>\n",
       "      <th>3</th>\n",
       "      <td>6</td>\n",
       "      <td>-57.068699</td>\n",
       "      <td>-8.177770</td>\n",
       "      <td>-1502.5</td>\n",
       "      <td>7</td>\n",
       "      <td>2</td>\n",
       "      <td>1</td>\n",
       "      <td>-0.037955</td>\n",
       "      <td>-0.005439</td>\n",
       "      <td>-26.061703</td>\n",
       "      <td>...</td>\n",
       "      <td>1502.5</td>\n",
       "      <td>0</td>\n",
       "      <td>108087696726949888</td>\n",
       "      <td>-57.085602</td>\n",
       "      <td>-8.189710</td>\n",
       "      <td>-1502.5</td>\n",
       "      <td>-0.401129</td>\n",
       "      <td>-0.035276</td>\n",
       "      <td>-10.46690</td>\n",
       "      <td>0.000008</td>\n",
       "    </tr>\n",
       "    <tr>\n",
       "      <th>4</th>\n",
       "      <td>7</td>\n",
       "      <td>-73.872299</td>\n",
       "      <td>-2.578900</td>\n",
       "      <td>-1502.5</td>\n",
       "      <td>7</td>\n",
       "      <td>2</td>\n",
       "      <td>1</td>\n",
       "      <td>-0.049107</td>\n",
       "      <td>-0.001714</td>\n",
       "      <td>-20.326769</td>\n",
       "      <td>...</td>\n",
       "      <td>1502.5</td>\n",
       "      <td>0</td>\n",
       "      <td>968286151951515648</td>\n",
       "      <td>-73.860802</td>\n",
       "      <td>-2.575860</td>\n",
       "      <td>-1502.5</td>\n",
       "      <td>-0.442662</td>\n",
       "      <td>-0.036969</td>\n",
       "      <td>-9.13010</td>\n",
       "      <td>0.000007</td>\n",
       "    </tr>\n",
       "  </tbody>\n",
       "</table>\n",
       "<p>5 rows × 24 columns</p>\n",
       "</div>"
      ],
      "text/plain": [
       "   hit_id          x         y       z  volume_id  layer_id  module_id  \\\n",
       "0       2 -55.336102  0.635342 -1502.5          7         2          1   \n",
       "1       4 -96.109100 -8.241030 -1502.5          7         2          1   \n",
       "2       5 -62.673599 -9.371200 -1502.5          7         2          1   \n",
       "3       6 -57.068699 -8.177770 -1502.5          7         2          1   \n",
       "4       7 -73.872299 -2.578900 -1502.5          7         2          1   \n",
       "\n",
       "         x2        y2         z2    ...       absZ  uID         particle_id  \\\n",
       "0 -0.036804  0.000423 -27.150467    ...     1502.5    0   22525763437723648   \n",
       "1 -0.063835 -0.005474 -15.576118    ...     1502.5    0  297237712845406208   \n",
       "2 -0.041676 -0.006232 -23.709833    ...     1502.5    0  418835796137607168   \n",
       "3 -0.037955 -0.005439 -26.061703    ...     1502.5    0  108087696726949888   \n",
       "4 -0.049107 -0.001714 -20.326769    ...     1502.5    0  968286151951515648   \n",
       "\n",
       "          tx        ty      tz       tpx       tpy       tpz    weight  \n",
       "0 -55.338501  0.630805 -1502.5 -0.570605  0.028390 -15.49220  0.000010  \n",
       "1 -96.122902 -8.230360 -1502.5 -0.225235 -0.050968  -3.70232  0.000008  \n",
       "2 -62.659401 -9.375040 -1502.5 -0.281806 -0.023487  -6.57318  0.000009  \n",
       "3 -57.085602 -8.189710 -1502.5 -0.401129 -0.035276 -10.46690  0.000008  \n",
       "4 -73.860802 -2.575860 -1502.5 -0.442662 -0.036969  -9.13010  0.000007  \n",
       "\n",
       "[5 rows x 24 columns]"
      ]
     },
     "execution_count": 18,
     "metadata": {},
     "output_type": "execute_result"
    }
   ],
   "source": [
    "truth_in.head()"
   ]
  },
  {
   "cell_type": "code",
   "execution_count": 69,
   "metadata": {},
   "outputs": [],
   "source": [
    "def my_score(a_track, some_hits):\n",
    "    predict = np.unique(check_trainingPredictor(some_hits))\n",
    "    true_track = pd.DataFrame(data=a_track, columns=['hit_id'])\n",
    "    test_track = pd.DataFrame(data=predict, columns=['hit_id'])\n",
    "\n",
    "    test_track['track_id'] = [0]*test_track.shape[0]\n",
    "\n",
    "    true_track['particle_id'] = [0]*true_track.shape[0]\n",
    "    true_track['weight'] = [1.0]*true_track.shape[0]\n",
    "    return score_event(true_track, test_track)"
   ]
  },
  {
   "cell_type": "code",
   "execution_count": 100,
   "metadata": {},
   "outputs": [
    {
     "data": {
      "text/html": [
       "<div>\n",
       "<style scoped>\n",
       "    .dataframe tbody tr th:only-of-type {\n",
       "        vertical-align: middle;\n",
       "    }\n",
       "\n",
       "    .dataframe tbody tr th {\n",
       "        vertical-align: top;\n",
       "    }\n",
       "\n",
       "    .dataframe thead th {\n",
       "        text-align: right;\n",
       "    }\n",
       "</style>\n",
       "<table border=\"1\" class=\"dataframe\">\n",
       "  <thead>\n",
       "    <tr style=\"text-align: right;\">\n",
       "      <th></th>\n",
       "      <th>hit_id</th>\n",
       "      <th>uID</th>\n",
       "      <th>eta</th>\n",
       "      <th>phi</th>\n",
       "      <th>z</th>\n",
       "    </tr>\n",
       "  </thead>\n",
       "  <tbody>\n",
       "    <tr>\n",
       "      <th>2</th>\n",
       "      <td>5</td>\n",
       "      <td>0</td>\n",
       "      <td>-3.859459</td>\n",
       "      <td>-2.993168</td>\n",
       "      <td>-1502.5</td>\n",
       "    </tr>\n",
       "    <tr>\n",
       "      <th>26</th>\n",
       "      <td>38</td>\n",
       "      <td>3</td>\n",
       "      <td>-3.859629</td>\n",
       "      <td>-2.992750</td>\n",
       "      <td>-1498.0</td>\n",
       "    </tr>\n",
       "    <tr>\n",
       "      <th>943</th>\n",
       "      <td>1468</td>\n",
       "      <td>107</td>\n",
       "      <td>-3.861339</td>\n",
       "      <td>-2.985009</td>\n",
       "      <td>-1302.5</td>\n",
       "    </tr>\n",
       "    <tr>\n",
       "      <th>970</th>\n",
       "      <td>1513</td>\n",
       "      <td>108</td>\n",
       "      <td>-3.860971</td>\n",
       "      <td>-2.984258</td>\n",
       "      <td>-1298.0</td>\n",
       "    </tr>\n",
       "    <tr>\n",
       "      <th>1961</th>\n",
       "      <td>3244</td>\n",
       "      <td>167</td>\n",
       "      <td>-3.862757</td>\n",
       "      <td>-2.976098</td>\n",
       "      <td>-1102.5</td>\n",
       "    </tr>\n",
       "    <tr>\n",
       "      <th>1990</th>\n",
       "      <td>3302</td>\n",
       "      <td>168</td>\n",
       "      <td>-3.863030</td>\n",
       "      <td>-2.975917</td>\n",
       "      <td>-1098.0</td>\n",
       "    </tr>\n",
       "    <tr>\n",
       "      <th>3174</th>\n",
       "      <td>5415</td>\n",
       "      <td>207</td>\n",
       "      <td>-3.863268</td>\n",
       "      <td>-2.969573</td>\n",
       "      <td>-962.5</td>\n",
       "    </tr>\n",
       "    <tr>\n",
       "      <th>3216</th>\n",
       "      <td>5489</td>\n",
       "      <td>208</td>\n",
       "      <td>-3.863399</td>\n",
       "      <td>-2.969996</td>\n",
       "      <td>-958.0</td>\n",
       "    </tr>\n",
       "    <tr>\n",
       "      <th>4581</th>\n",
       "      <td>7959</td>\n",
       "      <td>247</td>\n",
       "      <td>-3.863302</td>\n",
       "      <td>-2.963778</td>\n",
       "      <td>-822.5</td>\n",
       "    </tr>\n",
       "    <tr>\n",
       "      <th>4604</th>\n",
       "      <td>8013</td>\n",
       "      <td>248</td>\n",
       "      <td>-3.863569</td>\n",
       "      <td>-2.963485</td>\n",
       "      <td>-818.0</td>\n",
       "    </tr>\n",
       "  </tbody>\n",
       "</table>\n",
       "</div>"
      ],
      "text/plain": [
       "      hit_id  uID       eta       phi       z\n",
       "2          5    0 -3.859459 -2.993168 -1502.5\n",
       "26        38    3 -3.859629 -2.992750 -1498.0\n",
       "943     1468  107 -3.861339 -2.985009 -1302.5\n",
       "970     1513  108 -3.860971 -2.984258 -1298.0\n",
       "1961    3244  167 -3.862757 -2.976098 -1102.5\n",
       "1990    3302  168 -3.863030 -2.975917 -1098.0\n",
       "3174    5415  207 -3.863268 -2.969573  -962.5\n",
       "3216    5489  208 -3.863399 -2.969996  -958.0\n",
       "4581    7959  247 -3.863302 -2.963778  -822.5\n",
       "4604    8013  248 -3.863569 -2.963485  -818.0"
      ]
     },
     "execution_count": 100,
     "metadata": {},
     "output_type": "execute_result"
    }
   ],
   "source": []
  },
  {
   "cell_type": "code",
   "execution_count": 101,
   "metadata": {},
   "outputs": [],
   "source": [
    "predicted_uIDs = np.unique(find_a_track(this_track.iloc[0]))"
   ]
  },
  {
   "cell_type": "code",
   "execution_count": 102,
   "metadata": {},
   "outputs": [],
   "source": [
    "output = make_a_prediction(this_track.iloc[0])"
   ]
  },
  {
   "cell_type": "code",
   "execution_count": 103,
   "metadata": {},
   "outputs": [
    {
     "data": {
      "text/plain": [
       "(tensor([[-1.3118, -1.3399, -2.5610, -3.8051, -3.8057, -4.0918, -4.2043,\n",
       "          -4.2317, -4.5394, -4.9966]]),\n",
       " tensor([[ 106,  103,    3,  395,  394,  473,  107,  654,  415,   22]]))"
      ]
     },
     "execution_count": 103,
     "metadata": {},
     "output_type": "execute_result"
    }
   ],
   "source": [
    "output.topk(10)"
   ]
  },
  {
   "cell_type": "code",
   "execution_count": 105,
   "metadata": {},
   "outputs": [],
   "source": [
    "topv, topi = output.topk(10)"
   ]
  },
  {
   "cell_type": "code",
   "execution_count": 112,
   "metadata": {},
   "outputs": [
    {
     "name": "stdout",
     "output_type": "stream",
     "text": [
      "tensor([-0.0000,  0.2369,  1.5807,  2.2331,  2.2334,  2.3580,  2.4052,\n",
      "         2.4166,  2.5407,  2.7147])\n"
     ]
    }
   ],
   "source": [
    "max_ll = topv[0][0]\n",
    "nll2 = torch.sqrt(-2*(topv[0] - max_ll))\n",
    "print(nll2)"
   ]
  },
  {
   "cell_type": "code",
   "execution_count": 133,
   "metadata": {},
   "outputs": [],
   "source": [
    "min_eta_diff = []\n",
    "for idx in range(topi.size(1)):\n",
    "    df = truth_in[truth_in['uID'] == topi[0][idx]][['hit_id', 'eta']]\n",
    "    df['eta'] = np.abs(df['eta'] - (-3.859459))\n",
    "    min_eta_diff.append(df['eta'].min())"
   ]
  },
  {
   "cell_type": "code",
   "execution_count": 136,
   "metadata": {},
   "outputs": [],
   "source": [
    "from scipy.stats import norm"
   ]
  },
  {
   "cell_type": "code",
   "execution_count": 139,
   "metadata": {},
   "outputs": [
    {
     "data": {
      "text/plain": [
       "0.057053433237754136"
      ]
     },
     "execution_count": 139,
     "metadata": {},
     "output_type": "execute_result"
    }
   ],
   "source": [
    "1 - norm.cdf(1.58)"
   ]
  },
  {
   "cell_type": "code",
   "execution_count": 134,
   "metadata": {},
   "outputs": [
    {
     "data": {
      "text/plain": [
       "[0.53235412,\n",
       " 0.5539887,\n",
       " 0.00016975403,\n",
       " 7.1150403,\n",
       " 7.1185808,\n",
       " 7.0630088,\n",
       " 0.0018804073,\n",
       " 7.1625257,\n",
       " 7.0677433,\n",
       " 0.02791667]"
      ]
     },
     "execution_count": 134,
     "metadata": {},
     "output_type": "execute_result"
    }
   ],
   "source": [
    "min_eta_diff"
   ]
  },
  {
   "cell_type": "code",
   "execution_count": 141,
   "metadata": {},
   "outputs": [
    {
     "name": "stdout",
     "output_type": "stream",
     "text": [
      "0.5000, 0.5324, 0.9392, 0.0939\n",
      "0.4063, 0.5540, 0.7335, 0.0733\n",
      "0.0570, 0.0002, 335.6553, 33.5655\n",
      "0.0128, 7.1150, 0.0018, 0.0002\n",
      "0.0128, 7.1186, 0.0018, 0.0002\n",
      "0.0092, 7.0630, 0.0013, 0.0001\n",
      "0.0081, 0.0019, 4.2980, 0.4298\n",
      "0.0078, 7.1625, 0.0011, 0.0001\n",
      "0.0055, 7.0677, 0.0008, 0.0001\n",
      "0.0033, 0.0279, 0.1188, 0.0119\n"
     ]
    }
   ],
   "source": [
    "\n",
    "for sigma,deta in zip(nll2.numpy().tolist(), min_eta_diff):\n",
    "    pval = 1 - norm.cdf(sigma)\n",
    "    w1 = pval / deta\n",
    "    w2 = pval / (10*deta)\n",
    "    print(\"{:.4f}, {:.4f}, {:.4f}, {:.4f}\".format(pval, deta, w1, w2))"
   ]
  },
  {
   "cell_type": "code",
   "execution_count": 119,
   "metadata": {},
   "outputs": [
    {
     "name": "stdout",
     "output_type": "stream",
     "text": [
      "tensor(3)\n"
     ]
    }
   ],
   "source": [
    "print(topi[0][2])\n",
    "df_eta = truth_in[truth_in['uID'] == topi[0][2]][['hit_id', 'eta']]\n",
    "df_eta['eta'] = np.abs(df_eta['eta'] - (-3.859459))\n"
   ]
  },
  {
   "cell_type": "code",
   "execution_count": 152,
   "metadata": {},
   "outputs": [
    {
     "data": {
      "text/html": [
       "<div>\n",
       "<style scoped>\n",
       "    .dataframe tbody tr th:only-of-type {\n",
       "        vertical-align: middle;\n",
       "    }\n",
       "\n",
       "    .dataframe tbody tr th {\n",
       "        vertical-align: top;\n",
       "    }\n",
       "\n",
       "    .dataframe thead th {\n",
       "        text-align: right;\n",
       "    }\n",
       "</style>\n",
       "<table border=\"1\" class=\"dataframe\">\n",
       "  <thead>\n",
       "    <tr style=\"text-align: right;\">\n",
       "      <th></th>\n",
       "      <th>hit_id</th>\n",
       "      <th>eta</th>\n",
       "    </tr>\n",
       "  </thead>\n",
       "  <tbody>\n",
       "    <tr>\n",
       "      <th>23</th>\n",
       "      <td>35</td>\n",
       "      <td>0.252258</td>\n",
       "    </tr>\n",
       "    <tr>\n",
       "      <th>24</th>\n",
       "      <td>36</td>\n",
       "      <td>0.345351</td>\n",
       "    </tr>\n",
       "    <tr>\n",
       "      <th>25</th>\n",
       "      <td>37</td>\n",
       "      <td>0.454006</td>\n",
       "    </tr>\n",
       "    <tr>\n",
       "      <th>26</th>\n",
       "      <td>38</td>\n",
       "      <td>0.000170</td>\n",
       "    </tr>\n",
       "    <tr>\n",
       "      <th>27</th>\n",
       "      <td>39</td>\n",
       "      <td>0.321166</td>\n",
       "    </tr>\n",
       "    <tr>\n",
       "      <th>28</th>\n",
       "      <td>40</td>\n",
       "      <td>0.252157</td>\n",
       "    </tr>\n",
       "    <tr>\n",
       "      <th>29</th>\n",
       "      <td>41</td>\n",
       "      <td>0.329266</td>\n",
       "    </tr>\n",
       "    <tr>\n",
       "      <th>30</th>\n",
       "      <td>42</td>\n",
       "      <td>0.227720</td>\n",
       "    </tr>\n",
       "    <tr>\n",
       "      <th>31</th>\n",
       "      <td>43</td>\n",
       "      <td>0.094156</td>\n",
       "    </tr>\n",
       "    <tr>\n",
       "      <th>32</th>\n",
       "      <td>44</td>\n",
       "      <td>0.022766</td>\n",
       "    </tr>\n",
       "    <tr>\n",
       "      <th>33</th>\n",
       "      <td>45</td>\n",
       "      <td>0.081642</td>\n",
       "    </tr>\n",
       "    <tr>\n",
       "      <th>34</th>\n",
       "      <td>46</td>\n",
       "      <td>0.114764</td>\n",
       "    </tr>\n",
       "    <tr>\n",
       "      <th>35</th>\n",
       "      <td>47</td>\n",
       "      <td>0.348724</td>\n",
       "    </tr>\n",
       "    <tr>\n",
       "      <th>36</th>\n",
       "      <td>48</td>\n",
       "      <td>0.022124</td>\n",
       "    </tr>\n",
       "  </tbody>\n",
       "</table>\n",
       "</div>"
      ],
      "text/plain": [
       "    hit_id       eta\n",
       "23      35  0.252258\n",
       "24      36  0.345351\n",
       "25      37  0.454006\n",
       "26      38  0.000170\n",
       "27      39  0.321166\n",
       "28      40  0.252157\n",
       "29      41  0.329266\n",
       "30      42  0.227720\n",
       "31      43  0.094156\n",
       "32      44  0.022766\n",
       "33      45  0.081642\n",
       "34      46  0.114764\n",
       "35      47  0.348724\n",
       "36      48  0.022124"
      ]
     },
     "execution_count": 152,
     "metadata": {},
     "output_type": "execute_result"
    }
   ],
   "source": [
    "df_eta"
   ]
  },
  {
   "cell_type": "code",
   "execution_count": 128,
   "metadata": {},
   "outputs": [
    {
     "data": {
      "text/plain": [
       "(26, 0.00016975403)"
      ]
     },
     "execution_count": 128,
     "metadata": {},
     "output_type": "execute_result"
    }
   ],
   "source": [
    "df_eta['eta'].idxmin(), df_eta['eta'].min()"
   ]
  },
  {
   "cell_type": "code",
   "execution_count": 157,
   "metadata": {},
   "outputs": [
    {
     "data": {
      "text/plain": [
       "hit_id    38.00000\n",
       "eta        0.00017\n",
       "Name: 26, dtype: float64"
      ]
     },
     "execution_count": 157,
     "metadata": {},
     "output_type": "execute_result"
    }
   ],
   "source": [
    "df_eta.loc[26]"
   ]
  },
  {
   "cell_type": "code",
   "execution_count": 108,
   "metadata": {},
   "outputs": [
    {
     "name": "stdout",
     "output_type": "stream",
     "text": [
      "tensor(395)\n"
     ]
    },
    {
     "data": {
      "text/html": [
       "<div>\n",
       "<style scoped>\n",
       "    .dataframe tbody tr th:only-of-type {\n",
       "        vertical-align: middle;\n",
       "    }\n",
       "\n",
       "    .dataframe tbody tr th {\n",
       "        vertical-align: top;\n",
       "    }\n",
       "\n",
       "    .dataframe thead th {\n",
       "        text-align: right;\n",
       "    }\n",
       "</style>\n",
       "<table border=\"1\" class=\"dataframe\">\n",
       "  <thead>\n",
       "    <tr style=\"text-align: right;\">\n",
       "      <th></th>\n",
       "      <th>hit_id</th>\n",
       "      <th>eta</th>\n",
       "    </tr>\n",
       "  </thead>\n",
       "  <tbody>\n",
       "    <tr>\n",
       "      <th>8532</th>\n",
       "      <td>25731</td>\n",
       "      <td>3.255581</td>\n",
       "    </tr>\n",
       "  </tbody>\n",
       "</table>\n",
       "</div>"
      ],
      "text/plain": [
       "      hit_id       eta\n",
       "8532   25731  3.255581"
      ]
     },
     "execution_count": 108,
     "metadata": {},
     "output_type": "execute_result"
    }
   ],
   "source": [
    "print(topi[0][3])\n",
    "truth_in[truth_in['uID'] == topi[0][3]][['hit_id', 'eta']]"
   ]
  },
  {
   "cell_type": "code",
   "execution_count": null,
   "metadata": {},
   "outputs": [],
   "source": []
  },
  {
   "cell_type": "code",
   "execution_count": 88,
   "metadata": {},
   "outputs": [],
   "source": [
    "def make_a_prediction(start_hit):\n",
    "    with torch.no_grad():\n",
    "        input_tensor = input_hits([start_hit['uID']])\n",
    "        rnn.hidden = rnn.init_hidden()\n",
    "        out_hits = [start_hit['uID']]\n",
    "        output = rnn(input_tensor)\n",
    "        return output"
   ]
  },
  {
   "cell_type": "code",
   "execution_count": 77,
   "metadata": {},
   "outputs": [],
   "source": [
    "def find_a_track(start_hit):\n",
    "    with torch.no_grad():\n",
    "        input_tensor = input_hits([start_hit['uID']])\n",
    "        rnn.hidden = rnn.init_hidden()\n",
    "        out_hits = [start_hit['uID']]\n",
    "        for i in range(max_nhits):\n",
    "            output = rnn(input_tensor)\n",
    "            topv, topi = output.topk(3)\n",
    "            cand = topi[0][0]\n",
    "            out_hits.append(cand.item())\n",
    "            if cand == total_modules:\n",
    "                # print(\"Hit the last hits\")\n",
    "                break\n",
    "                \n",
    "            input_tensor = input_hits([cand])\n",
    "        return out_hits    "
   ]
  },
  {
   "cell_type": "code",
   "execution_count": 161,
   "metadata": {},
   "outputs": [],
   "source": [
    "def make_a_prediction_with_eta_diff(all_hits, start_hit):\n",
    "    with torch.no_grad():\n",
    "        ref_eta = start_hit['eta']\n",
    "        input_tensor = input_hits([start_hit['uID']])\n",
    "        rnn.hidden = rnn.init_hidden()\n",
    "        out_hits = [start_hit['uID']]\n",
    "        output = rnn(input_tensor)\n",
    "        \n",
    "        topv, topi = output.topk(10)\n",
    "        max_ll = topv[0][0]\n",
    "        if topi[0][0] == total_modules:\n",
    "            # that's the stop sign!\n",
    "            return -1\n",
    "        \n",
    "        nll2 = torch.sqrt(-2*(topv[0] - max_ll))\n",
    "        \n",
    "        min_eta_diff = []\n",
    "        for idx in range(topi.size(1)):\n",
    "            df = all_hits[all_hits['uID'] == topi[0][idx]][['hit_id', 'eta']]\n",
    "            df['eta'] = np.abs(df['eta'] - ref_eta)\n",
    "            min_eta_diff.append((df['eta'].idxmin(), df['eta'].min()))\n",
    "            \n",
    "        next_hit_id = -1\n",
    "        max_weight = -1\n",
    "        for sigma, deta_info in zip(nll2.numpy().tolist(), min_eta_diff):\n",
    "            idx, deta = deta_info\n",
    "            pval = 1 - norm.cdf(sigma)\n",
    "            w1 = pval / deta\n",
    "            w2 = pval / math.sqrt(deta)\n",
    "            if w1 > max_weight:\n",
    "                max_weight = w1\n",
    "                next_hit_id = idx      \n",
    "            # print(\"{:.4f}, {:.4f}, {:.4f}, {:.4f}\".format(pval, deta, w1, w2))\n",
    "            \n",
    "        return next_hit_id"
   ]
  },
  {
   "cell_type": "code",
   "execution_count": 21,
   "metadata": {},
   "outputs": [],
   "source": [
    "def make_a_chain_with_etacuts(all_hits, start_hit):\n",
    "    hit_indexs = []\n",
    "    hit_uIDs = []\n",
    "\n",
    "    with torch.no_grad():\n",
    "        ref_eta = start_hit['eta']\n",
    "        input_tensor = input_hits([start_hit['uID']])\n",
    "        rnn.hidden = rnn.init_hidden()\n",
    "        \n",
    "        for i in range(max_nhits):\n",
    "            output = rnn(input_tensor)\n",
    "        \n",
    "            topv, topi = output.topk(10)\n",
    "            max_ll = topv[0][0]\n",
    "            if topi[0][0] == total_modules:\n",
    "                break\n",
    "            if topv.size(0) < 1:\n",
    "                break\n",
    "                \n",
    "            nll2 = torch.sqrt(-2*(topv[0] - max_ll))\n",
    "        \n",
    "            min_eta_diff = []\n",
    "            for idx in range(topi.size(1)):\n",
    "                pre_uID = topi[0][idx].item()\n",
    "                df = all_hits[all_hits['uID'] == pre_uID][['hit_id', 'eta']]\n",
    "                df['eta'] = np.abs(df['eta'] - ref_eta)\n",
    "                try:\n",
    "                    if df['eta'].idxmin() not in hit_indexs and pre_uID not in hit_uIDs:\n",
    "                        min_eta_diff.append((df['eta'].idxmin(), df['eta'].min(), pre_uID))\n",
    "                    else:\n",
    "                        min_eta_diff.append((-1, 9999, pre_uID))\n",
    "                except:\n",
    "                    min_eta_diff.append((-1, 9999, pre_uID))\n",
    "\n",
    "            next_hit_id = -1\n",
    "            next_uID = -1\n",
    "            max_weight = -1\n",
    "            for sigma, deta_info in zip(nll2.numpy().tolist(), min_eta_diff):\n",
    "                idx, deta, uID = deta_info\n",
    "                pval = 1 - norm.cdf(sigma)\n",
    "                w1 = pval / deta\n",
    "                w2 = pval / math.sqrt(deta)\n",
    "                if w1 > max_weight:\n",
    "                    max_weight = w1\n",
    "                    next_hit_id = idx\n",
    "                    next_uID = uID\n",
    "                print(\"\\t\\t{}, {}, {:.4f}, {:.4f}, {:.4f}, {:.4f}\".format(idx, uID, pval, deta, w1, w2))\n",
    "            \n",
    "            print(\"found next hits index\", next_hit_id, \"with uID:\", next_uID)\n",
    "            hit_indexs.append(next_hit_id)   \n",
    "            hit_uIDs.append(next_uID)\n",
    "            next_hit = all_hits.loc[next_hit_id]\n",
    "            input_tensor = input_hits([next_hit['uID']])\n",
    "            ref_eta = next_hit['eta']\n",
    "        \n",
    "            \n",
    "    return hit_indexs, hit_uIDs"
   ]
  },
  {
   "cell_type": "code",
   "execution_count": 23,
   "metadata": {},
   "outputs": [],
   "source": [
    "def make_a_chain(all_hits, start_hit):\n",
    "    hit_indexs = []\n",
    "    hit_uIDs = []\n",
    "\n",
    "    with torch.no_grad():\n",
    "        ref_eta = start_hit['eta']\n",
    "        input_tensor = input_hits([start_hit['uID']])\n",
    "        rnn.hidden = rnn.init_hidden()\n",
    "        \n",
    "        for i in range(max_nhits):\n",
    "            output = rnn(input_tensor)\n",
    "        \n",
    "            topv, topi = output.topk(1)\n",
    "            if topi[0][0] == total_modules:\n",
    "                break\n",
    "            if topv.size(0) < 1:\n",
    "                break\n",
    "\n",
    "            pre_uID = topi[0][0].item()\n",
    "            df = all_hits[all_hits['uID'] == pre_uID][['hit_id', 'eta']]\n",
    "            df['eta'] = np.abs(df['eta'] - ref_eta)\n",
    "            \n",
    "            try:\n",
    "                next_hit_id = df['eta'].idxmin()\n",
    "                next_uID = pre_uID\n",
    "            except:\n",
    "                break\n",
    "            \n",
    "            print(\"found next hits index\", next_hit_id, \"with uID:\", next_uID)\n",
    "            hit_indexs.append(next_hit_id)   \n",
    "            hit_uIDs.append(next_uID)\n",
    "            next_hit = all_hits.loc[next_hit_id]\n",
    "            input_tensor = input_hits([next_hit['uID']])\n",
    "            ref_eta = next_hit['eta']\n",
    "        \n",
    "            \n",
    "    return hit_indexs, hit_uIDs"
   ]
  },
  {
   "cell_type": "code",
   "execution_count": 19,
   "metadata": {},
   "outputs": [
    {
     "data": {
      "text/html": [
       "<div>\n",
       "<style scoped>\n",
       "    .dataframe tbody tr th:only-of-type {\n",
       "        vertical-align: middle;\n",
       "    }\n",
       "\n",
       "    .dataframe tbody tr th {\n",
       "        vertical-align: top;\n",
       "    }\n",
       "\n",
       "    .dataframe thead th {\n",
       "        text-align: right;\n",
       "    }\n",
       "</style>\n",
       "<table border=\"1\" class=\"dataframe\">\n",
       "  <thead>\n",
       "    <tr style=\"text-align: right;\">\n",
       "      <th></th>\n",
       "      <th>hit_id</th>\n",
       "      <th>uID</th>\n",
       "      <th>eta</th>\n",
       "      <th>phi</th>\n",
       "      <th>z</th>\n",
       "    </tr>\n",
       "  </thead>\n",
       "  <tbody>\n",
       "    <tr>\n",
       "      <th>2</th>\n",
       "      <td>5</td>\n",
       "      <td>0</td>\n",
       "      <td>-3.859459</td>\n",
       "      <td>-2.993168</td>\n",
       "      <td>-1502.5</td>\n",
       "    </tr>\n",
       "    <tr>\n",
       "      <th>26</th>\n",
       "      <td>38</td>\n",
       "      <td>3</td>\n",
       "      <td>-3.859629</td>\n",
       "      <td>-2.992750</td>\n",
       "      <td>-1498.0</td>\n",
       "    </tr>\n",
       "    <tr>\n",
       "      <th>943</th>\n",
       "      <td>1468</td>\n",
       "      <td>107</td>\n",
       "      <td>-3.861339</td>\n",
       "      <td>-2.985009</td>\n",
       "      <td>-1302.5</td>\n",
       "    </tr>\n",
       "    <tr>\n",
       "      <th>970</th>\n",
       "      <td>1513</td>\n",
       "      <td>108</td>\n",
       "      <td>-3.860971</td>\n",
       "      <td>-2.984258</td>\n",
       "      <td>-1298.0</td>\n",
       "    </tr>\n",
       "    <tr>\n",
       "      <th>1961</th>\n",
       "      <td>3244</td>\n",
       "      <td>167</td>\n",
       "      <td>-3.862757</td>\n",
       "      <td>-2.976098</td>\n",
       "      <td>-1102.5</td>\n",
       "    </tr>\n",
       "    <tr>\n",
       "      <th>1990</th>\n",
       "      <td>3302</td>\n",
       "      <td>168</td>\n",
       "      <td>-3.863030</td>\n",
       "      <td>-2.975917</td>\n",
       "      <td>-1098.0</td>\n",
       "    </tr>\n",
       "    <tr>\n",
       "      <th>3174</th>\n",
       "      <td>5415</td>\n",
       "      <td>207</td>\n",
       "      <td>-3.863268</td>\n",
       "      <td>-2.969573</td>\n",
       "      <td>-962.5</td>\n",
       "    </tr>\n",
       "    <tr>\n",
       "      <th>3216</th>\n",
       "      <td>5489</td>\n",
       "      <td>208</td>\n",
       "      <td>-3.863399</td>\n",
       "      <td>-2.969996</td>\n",
       "      <td>-958.0</td>\n",
       "    </tr>\n",
       "    <tr>\n",
       "      <th>4581</th>\n",
       "      <td>7959</td>\n",
       "      <td>247</td>\n",
       "      <td>-3.863302</td>\n",
       "      <td>-2.963778</td>\n",
       "      <td>-822.5</td>\n",
       "    </tr>\n",
       "    <tr>\n",
       "      <th>4604</th>\n",
       "      <td>8013</td>\n",
       "      <td>248</td>\n",
       "      <td>-3.863569</td>\n",
       "      <td>-2.963485</td>\n",
       "      <td>-818.0</td>\n",
       "    </tr>\n",
       "  </tbody>\n",
       "</table>\n",
       "</div>"
      ],
      "text/plain": [
       "      hit_id  uID       eta       phi       z\n",
       "2          5    0 -3.859459 -2.993168 -1502.5\n",
       "26        38    3 -3.859629 -2.992750 -1498.0\n",
       "943     1468  107 -3.861339 -2.985009 -1302.5\n",
       "970     1513  108 -3.860971 -2.984258 -1298.0\n",
       "1961    3244  167 -3.862757 -2.976098 -1102.5\n",
       "1990    3302  168 -3.863030 -2.975917 -1098.0\n",
       "3174    5415  207 -3.863268 -2.969573  -962.5\n",
       "3216    5489  208 -3.863399 -2.969996  -958.0\n",
       "4581    7959  247 -3.863302 -2.963778  -822.5\n",
       "4604    8013  248 -3.863569 -2.963485  -818.0"
      ]
     },
     "execution_count": 19,
     "metadata": {},
     "output_type": "execute_result"
    }
   ],
   "source": [
    "this_track = truth_in[truth_in['particle_id'] == 418835796137607168]\n",
    "this_track[['hit_id', 'uID', 'eta', 'phi', 'z']]"
   ]
  },
  {
   "cell_type": "code",
   "execution_count": 66,
   "metadata": {},
   "outputs": [
    {
     "data": {
      "text/plain": [
       "Int64Index([2, 26, 943, 970, 1961, 1990, 3174, 3216, 4581, 4604], dtype='int64')"
      ]
     },
     "execution_count": 66,
     "metadata": {},
     "output_type": "execute_result"
    }
   ],
   "source": [
    "this_track.index"
   ]
  },
  {
   "cell_type": "code",
   "execution_count": 55,
   "metadata": {},
   "outputs": [],
   "source": [
    "def tag_a_chain(all_hits, current_hits, start_hit, track_id):\n",
    "    hit_indexs = []\n",
    "    hit_uIDs = []\n",
    "\n",
    "    with torch.no_grad():\n",
    "        input_tensor = input_hits([start_hit['uID']])\n",
    "        ref_eta = start_hit['eta']\n",
    "        rnn.hidden = rnn.init_hidden()\n",
    "        all_hits.loc[all_hits['hit_id'] == start_hit['hit_id'], 'track_id'] = track_id\n",
    "        \n",
    "        for i in range(max_nhits):\n",
    "            output = rnn(input_tensor)\n",
    "        \n",
    "            topv, topi = output.topk(1)\n",
    "            if topi[0][0] == total_modules:\n",
    "                break\n",
    "            if topv.size(0) < 1:\n",
    "                break\n",
    "\n",
    "            pre_uID = topi[0][0].item()\n",
    "            df = current_hits[current_hits['uID'] == pre_uID][['hit_id', 'eta']]\n",
    "            df['eta'] = np.abs(df['eta'] - ref_eta)\n",
    "            \n",
    "            try:\n",
    "                next_hit_idx = df['eta'].idxmin()\n",
    "                next_uID = pre_uID\n",
    "            except:\n",
    "                break\n",
    "            \n",
    "#             print(\"found next hits index\", next_hit_idx, \"with uID:\", next_uID)\n",
    "            hit_indexs.append(next_hit_idx)   \n",
    "            hit_uIDs.append(next_uID)\n",
    "            next_hit = current_hits.loc[next_hit_idx]\n",
    "            input_tensor = input_hits([next_hit['uID']])\n",
    "            \n",
    "            all_hits.loc[all_hits['hit_id'] == next_hit['hit_id'], 'track_id'] = track_id\n",
    "            ref_eta = next_hit['eta']\n",
    "        \n",
    "            \n",
    "    return hit_indexs, hit_uIDs"
   ]
  },
  {
   "cell_type": "code",
   "execution_count": 36,
   "metadata": {},
   "outputs": [],
   "source": [
    "df = pd.DataFrame(np.arange(12).reshape(3, 4), columns=['A', 'B', 'c', 'd'])"
   ]
  },
  {
   "cell_type": "code",
   "execution_count": 40,
   "metadata": {},
   "outputs": [
    {
     "data": {
      "text/html": [
       "<div>\n",
       "<style scoped>\n",
       "    .dataframe tbody tr th:only-of-type {\n",
       "        vertical-align: middle;\n",
       "    }\n",
       "\n",
       "    .dataframe tbody tr th {\n",
       "        vertical-align: top;\n",
       "    }\n",
       "\n",
       "    .dataframe thead th {\n",
       "        text-align: right;\n",
       "    }\n",
       "</style>\n",
       "<table border=\"1\" class=\"dataframe\">\n",
       "  <thead>\n",
       "    <tr style=\"text-align: right;\">\n",
       "      <th></th>\n",
       "      <th>A</th>\n",
       "      <th>B</th>\n",
       "      <th>c</th>\n",
       "      <th>d</th>\n",
       "    </tr>\n",
       "  </thead>\n",
       "  <tbody>\n",
       "    <tr>\n",
       "      <th>2</th>\n",
       "      <td>8</td>\n",
       "      <td>9</td>\n",
       "      <td>10</td>\n",
       "      <td>11</td>\n",
       "    </tr>\n",
       "  </tbody>\n",
       "</table>\n",
       "</div>"
      ],
      "text/plain": [
       "   A  B   c   d\n",
       "2  8  9  10  11"
      ]
     },
     "execution_count": 40,
     "metadata": {},
     "output_type": "execute_result"
    }
   ],
   "source": [
    "new_df = df.drop([0, 1])\n",
    "new_df"
   ]
  },
  {
   "cell_type": "code",
   "execution_count": 69,
   "metadata": {},
   "outputs": [
    {
     "data": {
      "text/plain": [
       "2"
      ]
     },
     "execution_count": 69,
     "metadata": {},
     "output_type": "execute_result"
    }
   ],
   "source": [
    "new_df.loc[new_df['A'] == 8, 'B'] = 9.9\n",
    "new_df.index[0]"
   ]
  },
  {
   "cell_type": "code",
   "execution_count": 72,
   "metadata": {},
   "outputs": [
    {
     "data": {
      "text/plain": [
       "(17599, 25)"
      ]
     },
     "execution_count": 72,
     "metadata": {},
     "output_type": "execute_result"
    }
   ],
   "source": [
    "truth_submission.shape"
   ]
  },
  {
   "cell_type": "code",
   "execution_count": 70,
   "metadata": {},
   "outputs": [],
   "source": [
    "truth_cp1 = truth_in.copy()\n",
    "truth_submission = truth_in.copy()"
   ]
  },
  {
   "cell_type": "code",
   "execution_count": 71,
   "metadata": {},
   "outputs": [
    {
     "ename": "KeyboardInterrupt",
     "evalue": "",
     "output_type": "error",
     "traceback": [
      "\u001b[0;31m---------------------------------------------------------------------------\u001b[0m",
      "\u001b[0;31mKeyboardInterrupt\u001b[0m                         Traceback (most recent call last)",
      "\u001b[0;32m<ipython-input-71-7723da24dcc0>\u001b[0m in \u001b[0;36m<module>\u001b[0;34m()\u001b[0m\n\u001b[1;32m      3\u001b[0m     \u001b[0;31m# find a track\u001b[0m\u001b[0;34m\u001b[0m\u001b[0;34m\u001b[0m\u001b[0m\n\u001b[1;32m      4\u001b[0m     \u001b[0mhit_indexs\u001b[0m\u001b[0;34m,\u001b[0m \u001b[0mhit_uIDs\u001b[0m \u001b[0;34m=\u001b[0m \u001b[0mtag_a_chain\u001b[0m\u001b[0;34m(\u001b[0m\u001b[0mtruth_submission\u001b[0m\u001b[0;34m,\u001b[0m \u001b[0mtruth_cp1\u001b[0m\u001b[0;34m,\u001b[0m \u001b[0mtruth_cp1\u001b[0m\u001b[0;34m.\u001b[0m\u001b[0miloc\u001b[0m\u001b[0;34m[\u001b[0m\u001b[0;36m0\u001b[0m\u001b[0;34m]\u001b[0m\u001b[0;34m,\u001b[0m \u001b[0mtrack_id\u001b[0m\u001b[0;34m)\u001b[0m\u001b[0;34m\u001b[0m\u001b[0m\n\u001b[0;32m----> 5\u001b[0;31m     \u001b[0mtruth_cp1\u001b[0m \u001b[0;34m=\u001b[0m \u001b[0mtruth_cp1\u001b[0m\u001b[0;34m.\u001b[0m\u001b[0mdrop\u001b[0m\u001b[0;34m(\u001b[0m\u001b[0mtruth_cp1\u001b[0m\u001b[0;34m.\u001b[0m\u001b[0mindex\u001b[0m\u001b[0;34m[\u001b[0m\u001b[0;36m0\u001b[0m\u001b[0;34m]\u001b[0m\u001b[0;34m+\u001b[0m\u001b[0mhit_indexs\u001b[0m\u001b[0;34m)\u001b[0m\u001b[0;34m\u001b[0m\u001b[0m\n\u001b[0m\u001b[1;32m      6\u001b[0m     \u001b[0mtrack_id\u001b[0m \u001b[0;34m+=\u001b[0m \u001b[0;36m1\u001b[0m\u001b[0;34m\u001b[0m\u001b[0m\n",
      "\u001b[0;32m~/miniconda3/envs/rlpy3p6/lib/python3.6/site-packages/pandas/core/frame.py\u001b[0m in \u001b[0;36mdrop\u001b[0;34m(self, labels, axis, index, columns, level, inplace, errors)\u001b[0m\n\u001b[1;32m   3692\u001b[0m                                            \u001b[0mindex\u001b[0m\u001b[0;34m=\u001b[0m\u001b[0mindex\u001b[0m\u001b[0;34m,\u001b[0m \u001b[0mcolumns\u001b[0m\u001b[0;34m=\u001b[0m\u001b[0mcolumns\u001b[0m\u001b[0;34m,\u001b[0m\u001b[0;34m\u001b[0m\u001b[0m\n\u001b[1;32m   3693\u001b[0m                                            \u001b[0mlevel\u001b[0m\u001b[0;34m=\u001b[0m\u001b[0mlevel\u001b[0m\u001b[0;34m,\u001b[0m \u001b[0minplace\u001b[0m\u001b[0;34m=\u001b[0m\u001b[0minplace\u001b[0m\u001b[0;34m,\u001b[0m\u001b[0;34m\u001b[0m\u001b[0m\n\u001b[0;32m-> 3694\u001b[0;31m                                            errors=errors)\n\u001b[0m\u001b[1;32m   3695\u001b[0m \u001b[0;34m\u001b[0m\u001b[0m\n\u001b[1;32m   3696\u001b[0m     @rewrite_axis_style_signature('mapper', [('copy', True),\n",
      "\u001b[0;32m~/miniconda3/envs/rlpy3p6/lib/python3.6/site-packages/pandas/core/generic.py\u001b[0m in \u001b[0;36mdrop\u001b[0;34m(self, labels, axis, index, columns, level, inplace, errors)\u001b[0m\n\u001b[1;32m   3106\u001b[0m         \u001b[0;32mfor\u001b[0m \u001b[0maxis\u001b[0m\u001b[0;34m,\u001b[0m \u001b[0mlabels\u001b[0m \u001b[0;32min\u001b[0m \u001b[0maxes\u001b[0m\u001b[0;34m.\u001b[0m\u001b[0mitems\u001b[0m\u001b[0;34m(\u001b[0m\u001b[0;34m)\u001b[0m\u001b[0;34m:\u001b[0m\u001b[0;34m\u001b[0m\u001b[0m\n\u001b[1;32m   3107\u001b[0m             \u001b[0;32mif\u001b[0m \u001b[0mlabels\u001b[0m \u001b[0;32mis\u001b[0m \u001b[0;32mnot\u001b[0m \u001b[0;32mNone\u001b[0m\u001b[0;34m:\u001b[0m\u001b[0;34m\u001b[0m\u001b[0m\n\u001b[0;32m-> 3108\u001b[0;31m                 \u001b[0mobj\u001b[0m \u001b[0;34m=\u001b[0m \u001b[0mobj\u001b[0m\u001b[0;34m.\u001b[0m\u001b[0m_drop_axis\u001b[0m\u001b[0;34m(\u001b[0m\u001b[0mlabels\u001b[0m\u001b[0;34m,\u001b[0m \u001b[0maxis\u001b[0m\u001b[0;34m,\u001b[0m \u001b[0mlevel\u001b[0m\u001b[0;34m=\u001b[0m\u001b[0mlevel\u001b[0m\u001b[0;34m,\u001b[0m \u001b[0merrors\u001b[0m\u001b[0;34m=\u001b[0m\u001b[0merrors\u001b[0m\u001b[0;34m)\u001b[0m\u001b[0;34m\u001b[0m\u001b[0m\n\u001b[0m\u001b[1;32m   3109\u001b[0m \u001b[0;34m\u001b[0m\u001b[0m\n\u001b[1;32m   3110\u001b[0m         \u001b[0;32mif\u001b[0m \u001b[0minplace\u001b[0m\u001b[0;34m:\u001b[0m\u001b[0;34m\u001b[0m\u001b[0m\n",
      "\u001b[0;32m~/miniconda3/envs/rlpy3p6/lib/python3.6/site-packages/pandas/core/generic.py\u001b[0m in \u001b[0;36m_drop_axis\u001b[0;34m(self, labels, axis, level, errors)\u001b[0m\n\u001b[1;32m   3139\u001b[0m             \u001b[0;32melse\u001b[0m\u001b[0;34m:\u001b[0m\u001b[0;34m\u001b[0m\u001b[0m\n\u001b[1;32m   3140\u001b[0m                 \u001b[0mnew_axis\u001b[0m \u001b[0;34m=\u001b[0m \u001b[0maxis\u001b[0m\u001b[0;34m.\u001b[0m\u001b[0mdrop\u001b[0m\u001b[0;34m(\u001b[0m\u001b[0mlabels\u001b[0m\u001b[0;34m,\u001b[0m \u001b[0merrors\u001b[0m\u001b[0;34m=\u001b[0m\u001b[0merrors\u001b[0m\u001b[0;34m)\u001b[0m\u001b[0;34m\u001b[0m\u001b[0m\n\u001b[0;32m-> 3141\u001b[0;31m             \u001b[0mdropped\u001b[0m \u001b[0;34m=\u001b[0m \u001b[0mself\u001b[0m\u001b[0;34m.\u001b[0m\u001b[0mreindex\u001b[0m\u001b[0;34m(\u001b[0m\u001b[0;34m**\u001b[0m\u001b[0;34m{\u001b[0m\u001b[0maxis_name\u001b[0m\u001b[0;34m:\u001b[0m \u001b[0mnew_axis\u001b[0m\u001b[0;34m}\u001b[0m\u001b[0;34m)\u001b[0m\u001b[0;34m\u001b[0m\u001b[0m\n\u001b[0m\u001b[1;32m   3142\u001b[0m             \u001b[0;32mtry\u001b[0m\u001b[0;34m:\u001b[0m\u001b[0;34m\u001b[0m\u001b[0m\n\u001b[1;32m   3143\u001b[0m                 \u001b[0mdropped\u001b[0m\u001b[0;34m.\u001b[0m\u001b[0maxes\u001b[0m\u001b[0;34m[\u001b[0m\u001b[0maxis_\u001b[0m\u001b[0;34m]\u001b[0m\u001b[0;34m.\u001b[0m\u001b[0mset_names\u001b[0m\u001b[0;34m(\u001b[0m\u001b[0maxis\u001b[0m\u001b[0;34m.\u001b[0m\u001b[0mnames\u001b[0m\u001b[0;34m,\u001b[0m \u001b[0minplace\u001b[0m\u001b[0;34m=\u001b[0m\u001b[0;32mTrue\u001b[0m\u001b[0;34m)\u001b[0m\u001b[0;34m\u001b[0m\u001b[0m\n",
      "\u001b[0;32m~/miniconda3/envs/rlpy3p6/lib/python3.6/site-packages/pandas/util/_decorators.py\u001b[0m in \u001b[0;36mwrapper\u001b[0;34m(*args, **kwargs)\u001b[0m\n\u001b[1;32m    184\u001b[0m         \u001b[0;34m@\u001b[0m\u001b[0mwraps\u001b[0m\u001b[0;34m(\u001b[0m\u001b[0mfunc\u001b[0m\u001b[0;34m)\u001b[0m\u001b[0;34m\u001b[0m\u001b[0m\n\u001b[1;32m    185\u001b[0m         \u001b[0;32mdef\u001b[0m \u001b[0mwrapper\u001b[0m\u001b[0;34m(\u001b[0m\u001b[0;34m*\u001b[0m\u001b[0margs\u001b[0m\u001b[0;34m,\u001b[0m \u001b[0;34m**\u001b[0m\u001b[0mkwargs\u001b[0m\u001b[0;34m)\u001b[0m\u001b[0;34m:\u001b[0m\u001b[0;34m\u001b[0m\u001b[0m\n\u001b[0;32m--> 186\u001b[0;31m             \u001b[0;32mreturn\u001b[0m \u001b[0mfunc\u001b[0m\u001b[0;34m(\u001b[0m\u001b[0;34m*\u001b[0m\u001b[0margs\u001b[0m\u001b[0;34m,\u001b[0m \u001b[0;34m**\u001b[0m\u001b[0mkwargs\u001b[0m\u001b[0;34m)\u001b[0m\u001b[0;34m\u001b[0m\u001b[0m\n\u001b[0m\u001b[1;32m    187\u001b[0m \u001b[0;34m\u001b[0m\u001b[0m\n\u001b[1;32m    188\u001b[0m         \u001b[0;32mif\u001b[0m \u001b[0;32mnot\u001b[0m \u001b[0mPY2\u001b[0m\u001b[0;34m:\u001b[0m\u001b[0;34m\u001b[0m\u001b[0m\n",
      "\u001b[0;32m~/miniconda3/envs/rlpy3p6/lib/python3.6/site-packages/pandas/core/frame.py\u001b[0m in \u001b[0;36mreindex\u001b[0;34m(self, *args, **kwargs)\u001b[0m\n\u001b[1;32m   3561\u001b[0m         \u001b[0mkwargs\u001b[0m\u001b[0;34m.\u001b[0m\u001b[0mpop\u001b[0m\u001b[0;34m(\u001b[0m\u001b[0;34m'axis'\u001b[0m\u001b[0;34m,\u001b[0m \u001b[0;32mNone\u001b[0m\u001b[0;34m)\u001b[0m\u001b[0;34m\u001b[0m\u001b[0m\n\u001b[1;32m   3562\u001b[0m         \u001b[0mkwargs\u001b[0m\u001b[0;34m.\u001b[0m\u001b[0mpop\u001b[0m\u001b[0;34m(\u001b[0m\u001b[0;34m'labels'\u001b[0m\u001b[0;34m,\u001b[0m \u001b[0;32mNone\u001b[0m\u001b[0;34m)\u001b[0m\u001b[0;34m\u001b[0m\u001b[0m\n\u001b[0;32m-> 3563\u001b[0;31m         \u001b[0;32mreturn\u001b[0m \u001b[0msuper\u001b[0m\u001b[0;34m(\u001b[0m\u001b[0mDataFrame\u001b[0m\u001b[0;34m,\u001b[0m \u001b[0mself\u001b[0m\u001b[0;34m)\u001b[0m\u001b[0;34m.\u001b[0m\u001b[0mreindex\u001b[0m\u001b[0;34m(\u001b[0m\u001b[0;34m**\u001b[0m\u001b[0mkwargs\u001b[0m\u001b[0;34m)\u001b[0m\u001b[0;34m\u001b[0m\u001b[0m\n\u001b[0m\u001b[1;32m   3564\u001b[0m \u001b[0;34m\u001b[0m\u001b[0m\n\u001b[1;32m   3565\u001b[0m     \u001b[0;34m@\u001b[0m\u001b[0mAppender\u001b[0m\u001b[0;34m(\u001b[0m\u001b[0m_shared_docs\u001b[0m\u001b[0;34m[\u001b[0m\u001b[0;34m'reindex_axis'\u001b[0m\u001b[0;34m]\u001b[0m \u001b[0;34m%\u001b[0m \u001b[0m_shared_doc_kwargs\u001b[0m\u001b[0;34m)\u001b[0m\u001b[0;34m\u001b[0m\u001b[0m\n",
      "\u001b[0;32m~/miniconda3/envs/rlpy3p6/lib/python3.6/site-packages/pandas/core/generic.py\u001b[0m in \u001b[0;36mreindex\u001b[0;34m(self, *args, **kwargs)\u001b[0m\n\u001b[1;32m   3671\u001b[0m                for axis, ax in axes.items() if ax is not None):\n\u001b[1;32m   3672\u001b[0m             \u001b[0;32mif\u001b[0m \u001b[0mcopy\u001b[0m\u001b[0;34m:\u001b[0m\u001b[0;34m\u001b[0m\u001b[0m\n\u001b[0;32m-> 3673\u001b[0;31m                 \u001b[0;32mreturn\u001b[0m \u001b[0mself\u001b[0m\u001b[0;34m.\u001b[0m\u001b[0mcopy\u001b[0m\u001b[0;34m(\u001b[0m\u001b[0;34m)\u001b[0m\u001b[0;34m\u001b[0m\u001b[0m\n\u001b[0m\u001b[1;32m   3674\u001b[0m             \u001b[0;32mreturn\u001b[0m \u001b[0mself\u001b[0m\u001b[0;34m\u001b[0m\u001b[0m\n\u001b[1;32m   3675\u001b[0m \u001b[0;34m\u001b[0m\u001b[0m\n",
      "\u001b[0;32m~/miniconda3/envs/rlpy3p6/lib/python3.6/site-packages/pandas/core/generic.py\u001b[0m in \u001b[0;36mcopy\u001b[0;34m(self, deep)\u001b[0m\n\u001b[1;32m   5108\u001b[0m         \u001b[0mdtype\u001b[0m\u001b[0;34m:\u001b[0m \u001b[0mobject\u001b[0m\u001b[0;34m\u001b[0m\u001b[0m\n\u001b[1;32m   5109\u001b[0m         \"\"\"\n\u001b[0;32m-> 5110\u001b[0;31m         \u001b[0mdata\u001b[0m \u001b[0;34m=\u001b[0m \u001b[0mself\u001b[0m\u001b[0;34m.\u001b[0m\u001b[0m_data\u001b[0m\u001b[0;34m.\u001b[0m\u001b[0mcopy\u001b[0m\u001b[0;34m(\u001b[0m\u001b[0mdeep\u001b[0m\u001b[0;34m=\u001b[0m\u001b[0mdeep\u001b[0m\u001b[0;34m)\u001b[0m\u001b[0;34m\u001b[0m\u001b[0m\n\u001b[0m\u001b[1;32m   5111\u001b[0m         \u001b[0;32mreturn\u001b[0m \u001b[0mself\u001b[0m\u001b[0;34m.\u001b[0m\u001b[0m_constructor\u001b[0m\u001b[0;34m(\u001b[0m\u001b[0mdata\u001b[0m\u001b[0;34m)\u001b[0m\u001b[0;34m.\u001b[0m\u001b[0m__finalize__\u001b[0m\u001b[0;34m(\u001b[0m\u001b[0mself\u001b[0m\u001b[0;34m)\u001b[0m\u001b[0;34m\u001b[0m\u001b[0m\n\u001b[1;32m   5112\u001b[0m \u001b[0;34m\u001b[0m\u001b[0m\n",
      "\u001b[0;32m~/miniconda3/envs/rlpy3p6/lib/python3.6/site-packages/pandas/core/internals.py\u001b[0m in \u001b[0;36mcopy\u001b[0;34m(self, deep, mgr)\u001b[0m\n\u001b[1;32m   3918\u001b[0m             \u001b[0mnew_axes\u001b[0m \u001b[0;34m=\u001b[0m \u001b[0mlist\u001b[0m\u001b[0;34m(\u001b[0m\u001b[0mself\u001b[0m\u001b[0;34m.\u001b[0m\u001b[0maxes\u001b[0m\u001b[0;34m)\u001b[0m\u001b[0;34m\u001b[0m\u001b[0m\n\u001b[1;32m   3919\u001b[0m         return self.apply('copy', axes=new_axes, deep=deep,\n\u001b[0;32m-> 3920\u001b[0;31m                           do_integrity_check=False)\n\u001b[0m\u001b[1;32m   3921\u001b[0m \u001b[0;34m\u001b[0m\u001b[0m\n\u001b[1;32m   3922\u001b[0m     \u001b[0;32mdef\u001b[0m \u001b[0mas_array\u001b[0m\u001b[0;34m(\u001b[0m\u001b[0mself\u001b[0m\u001b[0;34m,\u001b[0m \u001b[0mtranspose\u001b[0m\u001b[0;34m=\u001b[0m\u001b[0;32mFalse\u001b[0m\u001b[0;34m,\u001b[0m \u001b[0mitems\u001b[0m\u001b[0;34m=\u001b[0m\u001b[0;32mNone\u001b[0m\u001b[0;34m)\u001b[0m\u001b[0;34m:\u001b[0m\u001b[0;34m\u001b[0m\u001b[0m\n",
      "\u001b[0;32m~/miniconda3/envs/rlpy3p6/lib/python3.6/site-packages/pandas/core/internals.py\u001b[0m in \u001b[0;36mapply\u001b[0;34m(self, f, axes, filter, do_integrity_check, consolidate, **kwargs)\u001b[0m\n\u001b[1;32m   3560\u001b[0m         \u001b[0;31m# with a .values attribute.\u001b[0m\u001b[0;34m\u001b[0m\u001b[0;34m\u001b[0m\u001b[0m\n\u001b[1;32m   3561\u001b[0m         aligned_args = dict((k, kwargs[k])\n\u001b[0;32m-> 3562\u001b[0;31m                             \u001b[0;32mfor\u001b[0m \u001b[0mk\u001b[0m \u001b[0;32min\u001b[0m \u001b[0malign_keys\u001b[0m\u001b[0;34m\u001b[0m\u001b[0m\n\u001b[0m\u001b[1;32m   3563\u001b[0m                             \u001b[0;32mif\u001b[0m \u001b[0mhasattr\u001b[0m\u001b[0;34m(\u001b[0m\u001b[0mkwargs\u001b[0m\u001b[0;34m[\u001b[0m\u001b[0mk\u001b[0m\u001b[0;34m]\u001b[0m\u001b[0;34m,\u001b[0m \u001b[0;34m'values'\u001b[0m\u001b[0;34m)\u001b[0m \u001b[0;32mand\u001b[0m\u001b[0;34m\u001b[0m\u001b[0m\n\u001b[1;32m   3564\u001b[0m                             not isinstance(kwargs[k], ABCExtensionArray))\n",
      "\u001b[0;32m~/miniconda3/envs/rlpy3p6/lib/python3.6/site-packages/pandas/core/internals.py\u001b[0m in \u001b[0;36m<genexpr>\u001b[0;34m(.0)\u001b[0m\n\u001b[1;32m   3559\u001b[0m         \u001b[0;31m# TODO(EA): may interfere with ExtensionBlock.setitem for blocks\u001b[0m\u001b[0;34m\u001b[0m\u001b[0;34m\u001b[0m\u001b[0m\n\u001b[1;32m   3560\u001b[0m         \u001b[0;31m# with a .values attribute.\u001b[0m\u001b[0;34m\u001b[0m\u001b[0;34m\u001b[0m\u001b[0m\n\u001b[0;32m-> 3561\u001b[0;31m         aligned_args = dict((k, kwargs[k])\n\u001b[0m\u001b[1;32m   3562\u001b[0m                             \u001b[0;32mfor\u001b[0m \u001b[0mk\u001b[0m \u001b[0;32min\u001b[0m \u001b[0malign_keys\u001b[0m\u001b[0;34m\u001b[0m\u001b[0m\n\u001b[1;32m   3563\u001b[0m                             \u001b[0;32mif\u001b[0m \u001b[0mhasattr\u001b[0m\u001b[0;34m(\u001b[0m\u001b[0mkwargs\u001b[0m\u001b[0;34m[\u001b[0m\u001b[0mk\u001b[0m\u001b[0;34m]\u001b[0m\u001b[0;34m,\u001b[0m \u001b[0;34m'values'\u001b[0m\u001b[0;34m)\u001b[0m \u001b[0;32mand\u001b[0m\u001b[0;34m\u001b[0m\u001b[0m\n",
      "\u001b[0;31mKeyboardInterrupt\u001b[0m: "
     ]
    }
   ],
   "source": [
    "track_id = 1\n",
    "while truth_cp1.shape[0] > 0:\n",
    "    # find a track\n",
    "    hit_indexs, hit_uIDs = tag_a_chain(truth_submission, truth_cp1, truth_cp1.iloc[0], track_id)\n",
    "    truth_cp1 = truth_cp1.drop(truth_cp1.index[0]+hit_indexs)\n",
    "    track_id += 1"
   ]
  },
  {
   "cell_type": "code",
   "execution_count": 30,
   "metadata": {},
   "outputs": [
    {
     "name": "stdout",
     "output_type": "stream",
     "text": [
      "\t\t922, 106, 0.5000, 0.5324, 0.9392, 0.6853\n",
      "\t\t902, 103, 0.4741, 0.5540, 0.8557, 0.6369\n",
      "\t\t26, 3, 0.2886, 0.0002, 1702.3099, 22.1638\n",
      "\t\t39, 4, 0.0065, 0.5090, 0.0128, 0.0091\n",
      "\t\t12056, 512, 0.0061, 7.0701, 0.0009, 0.0023\n",
      "\t\t6522, 298, 0.0059, 0.0399, 0.1479, 0.0296\n",
      "\t\t60, 6, 0.0037, 0.5222, 0.0071, 0.0051\n",
      "\t\t15311, 603, 0.0030, 7.1345, 0.0004, 0.0011\n",
      "\t\t726, 83, 0.0029, 0.0053, 0.5456, 0.0398\n",
      "\t\t8183, 355, 0.0026, 0.1765, 0.0150, 0.0063\n",
      "found next hits index 26 with uID: 3\n",
      "\t\t922, 106, 0.5000, 0.5325, 0.9389, 0.6852\n",
      "\t\t943, 107, 0.0199, 0.0017, 11.6068, 0.4801\n",
      "\t\t39, 4, 0.0009, 0.5092, 0.0018, 0.0013\n",
      "\t\t1885, 162, 0.0007, 0.6530, 0.0010, 0.0008\n",
      "\t\t-1, 3, 0.0006, 9999.0000, 0.0000, 0.0000\n",
      "\t\t1908, 164, 0.0006, 0.6532, 0.0009, 0.0007\n",
      "\t\t902, 103, 0.0004, 0.5542, 0.0008, 0.0006\n",
      "\t\t-1, 405, 0.0003, 9999.0000, 0.0000, 0.0000\n",
      "\t\t60, 6, 0.0002, 0.5224, 0.0005, 0.0003\n",
      "\t\t972, 109, 0.0002, 0.6400, 0.0004, 0.0003\n",
      "found next hits index 943 with uID: 107\n",
      "\t\t1908, 164, 0.5000, 0.6549, 0.7635, 0.6178\n",
      "\t\t-1, 107, 0.1580, 9999.0000, 0.0000, 0.0016\n",
      "\t\t922, 106, 0.0081, 0.5342, 0.0152, 0.0111\n",
      "\t\t1885, 162, 0.0069, 0.6547, 0.0105, 0.0085\n",
      "\t\t1912, 165, 0.0031, 0.0038, 0.8092, 0.0500\n",
      "\t\t2777, 195, 0.0029, 0.0172, 0.1702, 0.0223\n",
      "\t\t972, 109, 0.0019, 0.6417, 0.0030, 0.0024\n",
      "\t\t60, 6, 0.0010, 0.5241, 0.0020, 0.0014\n",
      "\t\t970, 108, 0.0007, 0.0004, 1.9838, 0.0381\n",
      "\t\t39, 4, 0.0007, 0.5109, 0.0013, 0.0010\n",
      "found next hits index 970 with uID: 108\n",
      "\t\t1912, 165, 0.5000, 0.0035, 144.6711, 8.5050\n",
      "\t\t1908, 164, 0.1708, 0.6545, 0.2609, 0.2111\n",
      "\t\t3072, 204, 0.0947, 0.0124, 7.6087, 0.8487\n",
      "\t\t4102, 234, 0.0509, 0.0018, 29.0687, 1.2169\n",
      "\t\t13641, 552, 0.0054, 7.0703, 0.0008, 0.0020\n",
      "\t\t9193, 431, 0.0049, 7.0734, 0.0007, 0.0018\n",
      "\t\t8967, 422, 0.0037, 7.0678, 0.0005, 0.0014\n",
      "\t\t8674, 412, 0.0025, 7.0908, 0.0004, 0.0009\n",
      "\t\t-1, 108, 0.0025, 9999.0000, 0.0000, 0.0000\n",
      "\t\t-1, 107, 0.0023, 9999.0000, 0.0000, 0.0000\n",
      "found next hits index 1912 with uID: 165\n",
      "\t\t3072, 204, 0.5000, 0.0159, 31.4524, 3.9656\n",
      "\t\t3101, 205, 0.3293, 0.0221, 14.8668, 2.2125\n",
      "\t\t-1, 762, 0.0145, 9999.0000, 0.0000, 0.0001\n",
      "\t\t6009, 284, 0.0095, 0.0090, 1.0494, 0.0996\n",
      "\t\t9387, 437, 0.0080, 7.0629, 0.0011, 0.0030\n",
      "\t\t-1, 165, 0.0022, 9999.0000, 0.0000, 0.0000\n",
      "\t\t1936, 166, 0.0016, 0.6473, 0.0024, 0.0019\n",
      "\t\t4102, 234, 0.0013, 0.0052, 0.2420, 0.0175\n",
      "\t\t6543, 299, 0.0008, 0.0362, 0.0224, 0.0043\n",
      "\t\t4490, 245, 0.0008, 0.0177, 0.0457, 0.0061\n",
      "found next hits index 3072 with uID: 204\n",
      "\t\t3101, 205, 0.5000, 0.0063, 79.9982, 6.3245\n",
      "\t\t4436, 243, 0.0241, 0.0002, 100.0836, 1.5531\n",
      "\t\t4426, 242, 0.0066, 0.0068, 0.9791, 0.0805\n",
      "\t\t4467, 244, 0.0050, 0.0009, 5.5957, 0.1674\n",
      "\t\t-1, 762, 0.0045, 9999.0000, 0.0000, 0.0000\n",
      "\t\t10456, 471, 0.0041, 7.0852, 0.0006, 0.0015\n",
      "\t\t12526, 523, 0.0022, 7.0956, 0.0003, 0.0008\n",
      "\t\t10484, 472, 0.0021, 7.0849, 0.0003, 0.0008\n",
      "\t\t3120, 206, 0.0016, 0.0063, 0.2597, 0.0206\n",
      "\t\t-1, 204, 0.0012, 9999.0000, 0.0000, 0.0000\n",
      "found next hits index 4436 with uID: 243\n",
      "\t\t4467, 244, 0.5000, 0.0007, 764.8257, 19.5554\n",
      "\t\t5952, 282, 0.0015, 0.0008, 1.8511, 0.0532\n",
      "\t\t13281, 541, 0.0010, 7.1184, 0.0001, 0.0004\n",
      "\t\t13783, 556, 0.0009, 7.0953, 0.0001, 0.0003\n",
      "\t\t5968, 283, 0.0006, 0.0006, 0.9999, 0.0249\n",
      "\t\t14361, 571, 0.0004, 7.0744, 0.0001, 0.0002\n",
      "\t\t7371, 324, 0.0003, 0.0726, 0.0036, 0.0010\n",
      "\t\t16756, 686, 0.0002, 7.1002, 0.0000, 0.0001\n",
      "\t\t4496, 245, 0.0002, 0.0064, 0.0367, 0.0029\n",
      "\t\t16741, 684, 0.0002, 7.2018, 0.0000, 0.0001\n",
      "found next hits index 4467 with uID: 244\n",
      "\t\t5968, 283, 0.5000, 0.0000, 14563.5556, 85.3333\n",
      "\t\t5952, 282, 0.1195, 0.0002, 695.1694, 9.1144\n",
      "\t\t-1, 762, 0.0150, 9999.0000, 0.0000, 0.0001\n",
      "\t\t-1, 244, 0.0085, 9999.0000, 0.0000, 0.0001\n",
      "\t\t15246, 601, 0.0083, 7.0780, 0.0012, 0.0031\n",
      "\t\t15311, 603, 0.0051, 7.1476, 0.0007, 0.0019\n",
      "\t\t16514, 669, 0.0029, 7.0856, 0.0004, 0.0011\n",
      "\t\t16535, 670, 0.0015, 7.1460, 0.0002, 0.0006\n",
      "\t\t13281, 541, 0.0013, 7.1177, 0.0002, 0.0005\n",
      "\t\t16756, 686, 0.0012, 7.0995, 0.0002, 0.0005\n",
      "found next hits index 5968 with uID: 283\n"
     ]
    },
    {
     "data": {
      "text/plain": [
       "([26, 943, 970, 1912, 3072, 4436, 4467, 5968],\n",
       " [3, 107, 108, 165, 204, 243, 244, 283])"
      ]
     },
     "execution_count": 30,
     "metadata": {},
     "output_type": "execute_result"
    }
   ],
   "source": []
  },
  {
   "cell_type": "code",
   "execution_count": 27,
   "metadata": {},
   "outputs": [
    {
     "name": "stdout",
     "output_type": "stream",
     "text": [
      "found next hits index 922 with uID: 106\n",
      "found next hits index 1908 with uID: 164\n",
      "found next hits index 3082 with uID: 204\n",
      "found next hits index 4483 with uID: 244\n",
      "found next hits index 5987 with uID: 283\n",
      "found next hits index 6006 with uID: 284\n",
      "found next hits index 7341 with uID: 323\n",
      "found next hits index 7341 with uID: 323\n"
     ]
    },
    {
     "data": {
      "text/plain": [
       "([922, 1908, 3082, 4483, 5987, 6006, 7341, 7341],\n",
       " [106, 164, 204, 244, 283, 284, 323, 323])"
      ]
     },
     "execution_count": 27,
     "metadata": {},
     "output_type": "execute_result"
    }
   ],
   "source": [
    "res = make_a_chain(truth_in, this_track.iloc[0])\n",
    "res"
   ]
  },
  {
   "cell_type": "code",
   "execution_count": 20,
   "metadata": {},
   "outputs": [
    {
     "name": "stdout",
     "output_type": "stream",
     "text": [
      "\t\t922, 106, 0.5000, 0.5324, 0.9392, 0.6853\n",
      "\t\t902, 103, 0.4741, 0.5540, 0.8557, 0.6369\n",
      "\t\t39, 4, 0.0065, 0.5090, 0.0128, 0.0091\n",
      "\t\t12056, 512, 0.0061, 7.0701, 0.0009, 0.0023\n",
      "\t\t6522, 298, 0.0059, 0.0399, 0.1479, 0.0296\n",
      "\t\t60, 6, 0.0037, 0.5222, 0.0071, 0.0051\n",
      "\t\t15311, 603, 0.0030, 7.1345, 0.0004, 0.0011\n",
      "\t\t726, 83, 0.0029, 0.0053, 0.5456, 0.0398\n",
      "\t\t8183, 355, 0.0026, 0.1765, 0.0150, 0.0063\n",
      "\t\t10788, 480, 0.0019, 7.0601, 0.0003, 0.0007\n",
      "found next hits index 922 with uID: 106\n",
      "\t\t1908, 164, 0.5000, 0.1207, 4.1434, 1.4393\n",
      "\t\t1885, 162, 0.1161, 0.1204, 0.9638, 0.3345\n",
      "\t\t944, 107, 0.0405, 0.0224, 1.8107, 0.2709\n",
      "\t\t-1, 106, 0.0076, 9999.0000, 0.0000, 0.0001\n",
      "\t\t-1, 762, 0.0048, 9999.0000, 0.0000, 0.0000\n",
      "\t\t2501, 186, 0.0035, 0.0059, 0.5952, 0.0456\n",
      "\t\t3780, 225, 0.0032, 0.0087, 0.3701, 0.0345\n",
      "\t\t3022, 202, 0.0023, 0.0344, 0.0665, 0.0123\n",
      "\t\t64, 6, 0.0022, 0.0003, 7.0552, 0.1254\n",
      "\t\t9929, 455, 0.0021, 6.5354, 0.0003, 0.0008\n",
      "found next hits index 64 with uID: 6\n",
      "\t\t1885, 162, 0.5000, 0.1208, 4.1404, 1.4388\n",
      "\t\t944, 107, 0.0699, 0.0221, 3.1653, 0.4702\n",
      "\t\t1930, 165, 0.0164, 0.0000, inf, inf\n",
      "\t\t3081, 204, 0.0095, 0.0054, 1.7660, 0.1295\n",
      "\t\t3022, 202, 0.0089, 0.0341, 0.2623, 0.0484\n",
      "\t\t-1, 106, 0.0073, 9999.0000, 0.0000, 0.0001\n",
      "\t\t9387, 437, 0.0045, 6.5328, 0.0007, 0.0018\n",
      "\t\t961, 108, 0.0043, 0.0105, 0.4063, 0.0416\n",
      "\t\t2779, 195, 0.0031, 0.0294, 0.1069, 0.0183\n",
      "\t\t9514, 443, 0.0028, 6.5506, 0.0004, 0.0011\n",
      "found next hits index 1930 with uID: 165\n"
     ]
    },
    {
     "name": "stderr",
     "output_type": "stream",
     "text": [
      "/Users/xju/miniconda3/envs/rlpy3p6/lib/python3.6/site-packages/ipykernel_launcher.py:41: RuntimeWarning: divide by zero encountered in double_scalars\n",
      "/Users/xju/miniconda3/envs/rlpy3p6/lib/python3.6/site-packages/ipykernel_launcher.py:42: RuntimeWarning: divide by zero encountered in double_scalars\n"
     ]
    },
    {
     "name": "stdout",
     "output_type": "stream",
     "text": [
      "\t\t3089, 205, 0.5000, 0.0043, 116.6380, 7.6367\n",
      "\t\t1936, 166, 0.0226, 0.1172, 0.1925, 0.0659\n",
      "\t\t4439, 243, 0.0036, 0.0339, 0.1063, 0.0196\n",
      "\t\t1908, 164, 0.0024, 0.1210, 0.0201, 0.0070\n",
      "\t\t9387, 437, 0.0020, 6.5328, 0.0003, 0.0008\n",
      "\t\t4480, 244, 0.0013, 0.0440, 0.0293, 0.0061\n",
      "\t\t-1, 165, 0.0010, 9999.0000, 0.0000, 0.0000\n",
      "\t\t6012, 284, 0.0009, 0.0603, 0.0152, 0.0037\n",
      "\t\t3081, 204, 0.0008, 0.0054, 0.1426, 0.0105\n",
      "\t\t4718, 251, 0.0008, 0.0039, 0.1991, 0.0124\n",
      "found next hits index 3089 with uID: 205\n",
      "\t\t4480, 244, 0.5000, 0.0397, 12.5871, 2.5087\n",
      "\t\t4510, 245, 0.1029, 0.0153, 6.7368, 0.8325\n",
      "\t\t4439, 243, 0.0793, 0.0296, 2.6745, 0.4605\n",
      "\t\t6012, 284, 0.0058, 0.0645, 0.0904, 0.0230\n",
      "\t\t4533, 246, 0.0022, 0.0047, 0.4644, 0.0320\n",
      "\t\t3118, 206, 0.0020, 0.0045, 0.4427, 0.0296\n",
      "\t\t-1, 762, 0.0018, 9999.0000, 0.0000, 0.0000\n",
      "\t\t13233, 540, 0.0018, 6.5651, 0.0003, 0.0007\n",
      "\t\t5974, 283, 0.0009, 0.0304, 0.0309, 0.0054\n",
      "\t\t7361, 323, 0.0007, 0.0316, 0.0228, 0.0041\n",
      "found next hits index 4480 with uID: 244\n",
      "\t\t4515, 245, 0.5000, 0.0010, 519.6115, 16.1185\n",
      "\t\t5974, 283, 0.0252, 0.0093, 2.7052, 0.2612\n",
      "\t\t6019, 284, 0.0050, 0.0531, 0.0944, 0.0218\n",
      "\t\t7376, 324, 0.0014, 0.0296, 0.0484, 0.0083\n",
      "\t\t-1, 762, 0.0011, 9999.0000, 0.0000, 0.0000\n",
      "\t\t-1, 244, 0.0010, 9999.0000, 0.0000, 0.0000\n",
      "\t\t7407, 325, 0.0009, 0.0005, 1.8623, 0.0414\n",
      "\t\t4535, 246, 0.0009, 0.0014, 0.6551, 0.0245\n",
      "\t\t16078, 642, 0.0007, 6.7959, 0.0001, 0.0003\n",
      "\t\t7358, 323, 0.0004, 0.0015, 0.2391, 0.0093\n",
      "found next hits index 4515 with uID: 245\n",
      "\t\t6019, 284, 0.5000, 0.0541, 9.2434, 2.1498\n",
      "\t\t-1, 762, 0.0533, 9999.0000, 0.0000, 0.0005\n",
      "\t\t5974, 283, 0.0267, 0.0084, 3.1959, 0.2922\n",
      "\t\t4526, 246, 0.0037, 0.0005, 7.3846, 0.1657\n",
      "\t\t6056, 285, 0.0030, 0.0024, 1.2618, 0.0619\n",
      "\t\t7323, 322, 0.0006, 0.0024, 0.2282, 0.0113\n",
      "\t\t7358, 323, 0.0004, 0.0025, 0.1592, 0.0079\n",
      "\t\t16535, 670, 0.0002, 6.6439, 0.0000, 0.0001\n",
      "\t\t15575, 610, 0.0002, 6.5878, 0.0000, 0.0001\n",
      "\t\t3399, 214, 0.0002, 0.0005, 0.3815, 0.0081\n",
      "found next hits index 6019 with uID: 284\n",
      "\t\t7357, 323, 0.5000, 0.0140, 35.6168, 4.2200\n",
      "\t\t-1, 284, 0.0177, 9999.0000, 0.0000, 0.0002\n",
      "\t\t7382, 324, 0.0064, 0.0040, 1.6054, 0.1014\n",
      "\t\t14924, 590, 0.0027, 6.6906, 0.0004, 0.0010\n",
      "\t\t5985, 283, 0.0019, 0.0142, 0.1374, 0.0164\n",
      "\t\t6062, 286, 0.0012, 0.0043, 0.2721, 0.0178\n",
      "\t\t15991, 638, 0.0010, 6.6811, 0.0001, 0.0004\n",
      "\t\t14663, 581, 0.0004, 6.6592, 0.0001, 0.0002\n",
      "\t\t7061, 316, 0.0004, 0.0096, 0.0415, 0.0041\n",
      "\t\t16513, 668, 0.0003, 6.6376, 0.0000, 0.0001\n",
      "found next hits index 7357 with uID: 323\n",
      "\t\t7378, 324, 0.5000, 0.0005, 982.2726, 22.1616\n",
      "\t\t-1, 762, 0.0027, 9999.0000, 0.0000, 0.0000\n",
      "\t\t7405, 325, 0.0027, 0.0370, 0.0718, 0.0138\n",
      "\t\t6122, 287, 0.0003, 0.0023, 0.1546, 0.0074\n",
      "\t\t17163, 731, 0.0001, 6.6393, 0.0000, 0.0000\n",
      "\t\t8402, 362, 0.0001, 0.0002, 0.3609, 0.0057\n",
      "\t\t-1, 245, 0.0001, 9999.0000, 0.0000, 0.0000\n",
      "\t\t16741, 684, 0.0001, 6.7673, 0.0000, 0.0000\n",
      "\t\t8372, 361, 0.0001, 0.0154, 0.0042, 0.0005\n",
      "\t\t6831, 308, 0.0001, 0.0171, 0.0035, 0.0005\n",
      "found next hits index 7378 with uID: 324\n",
      "\t\t7400, 325, 0.5000, 0.0370, 13.5006, 2.5981\n",
      "\t\t-1, 762, 0.0020, 9999.0000, 0.0000, 0.0000\n",
      "\t\t-1, 324, 0.0018, 9999.0000, 0.0000, 0.0000\n",
      "\t\t8427, 363, 0.0016, 0.0001, 12.2202, 0.1393\n",
      "\t\t8402, 362, 0.0011, 0.0003, 4.1535, 0.0674\n",
      "\t\t16212, 653, 0.0007, 6.6498, 0.0001, 0.0003\n",
      "\t\t5985, 283, 0.0001, 0.0007, 0.0898, 0.0023\n",
      "\t\t-1, 245, 0.0001, 9999.0000, 0.0000, 0.0000\n",
      "\t\t16719, 682, 0.0001, 6.6398, 0.0000, 0.0000\n",
      "\t\t16741, 684, 0.0000, 6.7667, 0.0000, 0.0000\n",
      "found next hits index 7400 with uID: 325\n",
      "\t\t8416, 363, 0.5000, 0.0305, 16.3881, 2.8625\n",
      "\t\t7437, 326, 0.0191, 0.0005, 36.5975, 0.8368\n",
      "\t\t-1, 325, 0.0037, 9999.0000, 0.0000, 0.0000\n",
      "\t\t-1, 762, 0.0016, 9999.0000, 0.0000, 0.0000\n",
      "\t\t8535, 399, 0.0006, 6.7682, 0.0001, 0.0002\n",
      "\t\t17378, 756, 0.0005, 6.6598, 0.0001, 0.0002\n",
      "\t\t-1, 324, 0.0002, 9999.0000, 0.0000, 0.0000\n",
      "\t\t17406, 758, 0.0002, 6.6018, 0.0000, 0.0001\n",
      "\t\t4143, 235, 0.0002, 0.0018, 0.1010, 0.0043\n",
      "\t\t9137, 429, 0.0002, 6.6136, 0.0000, 0.0001\n",
      "found next hits index 7437 with uID: 326\n"
     ]
    }
   ],
   "source": []
  },
  {
   "cell_type": "code",
   "execution_count": 143,
   "metadata": {},
   "outputs": [
    {
     "data": {
      "text/html": [
       "<div>\n",
       "<style scoped>\n",
       "    .dataframe tbody tr th:only-of-type {\n",
       "        vertical-align: middle;\n",
       "    }\n",
       "\n",
       "    .dataframe tbody tr th {\n",
       "        vertical-align: top;\n",
       "    }\n",
       "\n",
       "    .dataframe thead th {\n",
       "        text-align: right;\n",
       "    }\n",
       "</style>\n",
       "<table border=\"1\" class=\"dataframe\">\n",
       "  <thead>\n",
       "    <tr style=\"text-align: right;\">\n",
       "      <th></th>\n",
       "      <th>hit_id</th>\n",
       "      <th>uID</th>\n",
       "      <th>eta</th>\n",
       "      <th>phi</th>\n",
       "      <th>z</th>\n",
       "    </tr>\n",
       "  </thead>\n",
       "  <tbody>\n",
       "    <tr>\n",
       "      <th>2</th>\n",
       "      <td>5</td>\n",
       "      <td>0</td>\n",
       "      <td>-3.859459</td>\n",
       "      <td>-2.993168</td>\n",
       "      <td>-1502.5</td>\n",
       "    </tr>\n",
       "    <tr>\n",
       "      <th>26</th>\n",
       "      <td>38</td>\n",
       "      <td>3</td>\n",
       "      <td>-3.859629</td>\n",
       "      <td>-2.992750</td>\n",
       "      <td>-1498.0</td>\n",
       "    </tr>\n",
       "    <tr>\n",
       "      <th>943</th>\n",
       "      <td>1468</td>\n",
       "      <td>107</td>\n",
       "      <td>-3.861339</td>\n",
       "      <td>-2.985009</td>\n",
       "      <td>-1302.5</td>\n",
       "    </tr>\n",
       "    <tr>\n",
       "      <th>970</th>\n",
       "      <td>1513</td>\n",
       "      <td>108</td>\n",
       "      <td>-3.860971</td>\n",
       "      <td>-2.984258</td>\n",
       "      <td>-1298.0</td>\n",
       "    </tr>\n",
       "    <tr>\n",
       "      <th>1961</th>\n",
       "      <td>3244</td>\n",
       "      <td>167</td>\n",
       "      <td>-3.862757</td>\n",
       "      <td>-2.976098</td>\n",
       "      <td>-1102.5</td>\n",
       "    </tr>\n",
       "    <tr>\n",
       "      <th>1990</th>\n",
       "      <td>3302</td>\n",
       "      <td>168</td>\n",
       "      <td>-3.863030</td>\n",
       "      <td>-2.975917</td>\n",
       "      <td>-1098.0</td>\n",
       "    </tr>\n",
       "    <tr>\n",
       "      <th>3174</th>\n",
       "      <td>5415</td>\n",
       "      <td>207</td>\n",
       "      <td>-3.863268</td>\n",
       "      <td>-2.969573</td>\n",
       "      <td>-962.5</td>\n",
       "    </tr>\n",
       "    <tr>\n",
       "      <th>3216</th>\n",
       "      <td>5489</td>\n",
       "      <td>208</td>\n",
       "      <td>-3.863399</td>\n",
       "      <td>-2.969996</td>\n",
       "      <td>-958.0</td>\n",
       "    </tr>\n",
       "    <tr>\n",
       "      <th>4581</th>\n",
       "      <td>7959</td>\n",
       "      <td>247</td>\n",
       "      <td>-3.863302</td>\n",
       "      <td>-2.963778</td>\n",
       "      <td>-822.5</td>\n",
       "    </tr>\n",
       "    <tr>\n",
       "      <th>4604</th>\n",
       "      <td>8013</td>\n",
       "      <td>248</td>\n",
       "      <td>-3.863569</td>\n",
       "      <td>-2.963485</td>\n",
       "      <td>-818.0</td>\n",
       "    </tr>\n",
       "  </tbody>\n",
       "</table>\n",
       "</div>"
      ],
      "text/plain": [
       "      hit_id  uID       eta       phi       z\n",
       "2          5    0 -3.859459 -2.993168 -1502.5\n",
       "26        38    3 -3.859629 -2.992750 -1498.0\n",
       "943     1468  107 -3.861339 -2.985009 -1302.5\n",
       "970     1513  108 -3.860971 -2.984258 -1298.0\n",
       "1961    3244  167 -3.862757 -2.976098 -1102.5\n",
       "1990    3302  168 -3.863030 -2.975917 -1098.0\n",
       "3174    5415  207 -3.863268 -2.969573  -962.5\n",
       "3216    5489  208 -3.863399 -2.969996  -958.0\n",
       "4581    7959  247 -3.863302 -2.963778  -822.5\n",
       "4604    8013  248 -3.863569 -2.963485  -818.0"
      ]
     },
     "execution_count": 143,
     "metadata": {},
     "output_type": "execute_result"
    }
   ],
   "source": [
    "this_track = truth_in[truth_in['particle_id'] == 418835796137607168]\n",
    "this_track[['hit_id', 'uID', 'eta', 'phi', 'z']]"
   ]
  },
  {
   "cell_type": "code",
   "execution_count": 144,
   "metadata": {},
   "outputs": [
    {
     "data": {
      "text/plain": [
       "hit_id         5.000000e+00\n",
       "x             -6.267360e+01\n",
       "y             -9.371200e+00\n",
       "z             -1.502500e+03\n",
       "volume_id      7.000000e+00\n",
       "layer_id       2.000000e+00\n",
       "module_id      1.000000e+00\n",
       "x2            -4.167582e-02\n",
       "y2            -6.231531e-03\n",
       "z2            -2.370983e+01\n",
       "r2             6.337033e+01\n",
       "r              1.503836e+03\n",
       "eta           -3.859459e+00\n",
       "phi           -2.993168e+00\n",
       "absZ           1.502500e+03\n",
       "uID            0.000000e+00\n",
       "particle_id    4.188358e+17\n",
       "tx            -6.265940e+01\n",
       "ty            -9.375040e+00\n",
       "tz            -1.502500e+03\n",
       "tpx           -2.818060e-01\n",
       "tpy           -2.348700e-02\n",
       "tpz           -6.573180e+00\n",
       "weight         8.873380e-06\n",
       "Name: 2, dtype: float64"
      ]
     },
     "execution_count": 144,
     "metadata": {},
     "output_type": "execute_result"
    }
   ],
   "source": [
    "this_track.iloc[0]"
   ]
  },
  {
   "cell_type": "code",
   "execution_count": 185,
   "metadata": {},
   "outputs": [],
   "source": []
  },
  {
   "cell_type": "code",
   "execution_count": 186,
   "metadata": {},
   "outputs": [
    {
     "data": {
      "text/plain": [
       "[<matplotlib.lines.Line2D at 0x1a247b5978>]"
      ]
     },
     "execution_count": 186,
     "metadata": {},
     "output_type": "execute_result"
    },
    {
     "data": {
      "image/png": "[encoded data removed]",
      "text/plain": [
       "<matplotlib.figure.Figure at 0x1a256302b0>"
      ]
     },
     "metadata": {},
     "output_type": "display_data"
    }
   ],
   "source": [
    "loss_list = np.load('loss_list')\n",
    "plt.plot(loss_list)"
   ]
  },
  {
   "cell_type": "code",
   "execution_count": 4,
   "metadata": {},
   "outputs": [
    {
     "data": {
      "text/plain": [
       "[<matplotlib.lines.Line2D at 0x1170ef588>]"
      ]
     },
     "execution_count": 4,
     "metadata": {},
     "output_type": "execute_result"
    },
    {
     "data": {
      "image/png": "[encoded data removed]",
      "text/plain": [
       "<matplotlib.figure.Figure at 0x1134d90f0>"
      ]
     },
     "metadata": {},
     "output_type": "display_data"
    }
   ],
   "source": [
    "loss_list = np.load('loss_list_full_model')\n",
    "plt.plot(loss_list)"
   ]
  },
  {
   "cell_type": "code",
   "execution_count": 3,
   "metadata": {},
   "outputs": [],
   "source": [
    "m = nn.MaxPool1d(3, stride=2)\n",
    "input = torch.randn(20, 16, 30)\n",
    "output = m(input)"
   ]
  },
  {
   "cell_type": "code",
   "execution_count": 5,
   "metadata": {},
   "outputs": [
    {
     "data": {
      "text/plain": [
       "torch.Size([20, 16, 14])"
      ]
     },
     "execution_count": 5,
     "metadata": {},
     "output_type": "execute_result"
    }
   ],
   "source": [
    "output.shape"
   ]
  },
  {
   "cell_type": "code",
   "execution_count": null,
   "metadata": {},
   "outputs": [],
   "source": []
  }
 ],
 "metadata": {
  "kernelspec": {
   "display_name": "TrackPy3.6",
   "language": "python",
   "name": "trackkernel"
  },
  "language_info": {
   "codemirror_mode": {
    "name": "ipython",
    "version": 3
   },
   "file_extension": ".py",
   "mimetype": "text/x-python",
   "name": "python",
   "nbconvert_exporter": "python",
   "pygments_lexer": "ipython3",
   "version": "3.6.5"
  }
 },
 "nbformat": 4,
 "nbformat_minor": 2
}
